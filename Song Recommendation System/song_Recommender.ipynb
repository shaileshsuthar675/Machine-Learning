{
  "cells": [
    {
      "cell_type": "code",
      "execution_count": null,
      "metadata": {
        "id": "aOULO8E3hfKc"
      },
      "outputs": [],
      "source": [
        "!pip install turicreate"
      ]
    },
    {
      "cell_type": "code",
      "execution_count": null,
      "metadata": {
        "colab": {
          "base_uri": "https://localhost:8080/"
        },
        "id": "mzRBNkqshqmW",
        "outputId": "c9138014-8c33-4657-9a1b-b127ebfbb4bd"
      },
      "outputs": [
        {
          "output_type": "stream",
          "name": "stdout",
          "text": [
            "Mounted at /content/gdrive\n"
          ]
        }
      ],
      "source": [
        "from google.colab import drive\n",
        "drive.mount('/content/gdrive')"
      ]
    },
    {
      "cell_type": "markdown",
      "source": [
        "# Build a song recommender system"
      ],
      "metadata": {
        "id": "uYNS66R6o8jA"
      }
    },
    {
      "cell_type": "code",
      "execution_count": null,
      "metadata": {
        "id": "8u5KTvRRh3_0"
      },
      "outputs": [],
      "source": [
        "import turicreate"
      ]
    },
    {
      "cell_type": "markdown",
      "source": [
        "# Load some music data"
      ],
      "metadata": {
        "id": "3mR9mzrcpYnA"
      }
    },
    {
      "cell_type": "code",
      "execution_count": null,
      "metadata": {
        "colab": {
          "base_uri": "https://localhost:8080/",
          "height": 225
        },
        "id": "g3zcRoCCiCwC",
        "outputId": "f0d570a7-14ab-4664-c396-d2b28c5decb3"
      },
      "outputs": [
        {
          "output_type": "display_data",
          "data": {
            "text/html": [
              "<pre>Read 100 lines. Lines per second: 20.7055</pre>"
            ],
            "text/plain": [
              "Read 100 lines. Lines per second: 20.7055"
            ]
          },
          "metadata": {}
        },
        {
          "output_type": "display_data",
          "data": {
            "text/html": [
              "<pre>Finished parsing file /content/gdrive/MyDrive/machine learning /Turicreate/Week 5/song_data.csv</pre>"
            ],
            "text/plain": [
              "Finished parsing file /content/gdrive/MyDrive/machine learning /Turicreate/Week 5/song_data.csv"
            ]
          },
          "metadata": {}
        },
        {
          "output_type": "display_data",
          "data": {
            "text/html": [
              "<pre>Parsing completed. Parsed 100 lines in 4.83002 secs.</pre>"
            ],
            "text/plain": [
              "Parsing completed. Parsed 100 lines in 4.83002 secs."
            ]
          },
          "metadata": {}
        },
        {
          "output_type": "stream",
          "name": "stdout",
          "text": [
            "------------------------------------------------------\n",
            "Inferred types from first 100 line(s) of file as \n",
            "column_type_hints=[str,str,int,str,str,str]\n",
            "If parsing fails due to incorrect types, you can correct\n",
            "the inferred type list above and pass it to read_csv in\n",
            "the column_type_hints argument\n",
            "------------------------------------------------------\n"
          ]
        },
        {
          "output_type": "display_data",
          "data": {
            "text/html": [
              "<pre>Finished parsing file /content/gdrive/MyDrive/machine learning /Turicreate/Week 5/song_data.csv</pre>"
            ],
            "text/plain": [
              "Finished parsing file /content/gdrive/MyDrive/machine learning /Turicreate/Week 5/song_data.csv"
            ]
          },
          "metadata": {}
        },
        {
          "output_type": "display_data",
          "data": {
            "text/html": [
              "<pre>Parsing completed. Parsed 1116609 lines in 3.53027 secs.</pre>"
            ],
            "text/plain": [
              "Parsing completed. Parsed 1116609 lines in 3.53027 secs."
            ]
          },
          "metadata": {}
        }
      ],
      "source": [
        "song_data=turicreate.SFrame('/content/gdrive/MyDrive/machine learning /Turicreate/Week 5/song_data.csv')"
      ]
    },
    {
      "cell_type": "markdown",
      "source": [
        "# Exploaring our data"
      ],
      "metadata": {
        "id": "FNG23XubpjAo"
      }
    },
    {
      "cell_type": "code",
      "execution_count": null,
      "metadata": {
        "colab": {
          "base_uri": "https://localhost:8080/",
          "height": 742
        },
        "id": "AomO6mU0iPtt",
        "outputId": "855a6327-0212-416d-952d-ce718eb8e1fa"
      },
      "outputs": [
        {
          "output_type": "execute_result",
          "data": {
            "text/html": [
              "<div style=\"max-height:1000px;max-width:1500px;overflow:auto;\"><table frame=\"box\" rules=\"cols\">\n",
              "    <tr>\n",
              "        <th style=\"padding-left: 1em; padding-right: 1em; text-align: center\">user_id</th>\n",
              "        <th style=\"padding-left: 1em; padding-right: 1em; text-align: center\">song_id</th>\n",
              "        <th style=\"padding-left: 1em; padding-right: 1em; text-align: center\">listen_count</th>\n",
              "        <th style=\"padding-left: 1em; padding-right: 1em; text-align: center\">title</th>\n",
              "        <th style=\"padding-left: 1em; padding-right: 1em; text-align: center\">artist</th>\n",
              "    </tr>\n",
              "    <tr>\n",
              "        <td style=\"padding-left: 1em; padding-right: 1em; text-align: center; vertical-align: top\">b80344d063b5ccb3212f76538<br>f3d9e43d87dca9e ...</td>\n",
              "        <td style=\"padding-left: 1em; padding-right: 1em; text-align: center; vertical-align: top\">SOAKIMP12A8C130995</td>\n",
              "        <td style=\"padding-left: 1em; padding-right: 1em; text-align: center; vertical-align: top\">1</td>\n",
              "        <td style=\"padding-left: 1em; padding-right: 1em; text-align: center; vertical-align: top\">The Cove</td>\n",
              "        <td style=\"padding-left: 1em; padding-right: 1em; text-align: center; vertical-align: top\">Jack Johnson</td>\n",
              "    </tr>\n",
              "    <tr>\n",
              "        <td style=\"padding-left: 1em; padding-right: 1em; text-align: center; vertical-align: top\">b80344d063b5ccb3212f76538<br>f3d9e43d87dca9e ...</td>\n",
              "        <td style=\"padding-left: 1em; padding-right: 1em; text-align: center; vertical-align: top\">SOBBMDR12A8C13253B</td>\n",
              "        <td style=\"padding-left: 1em; padding-right: 1em; text-align: center; vertical-align: top\">2</td>\n",
              "        <td style=\"padding-left: 1em; padding-right: 1em; text-align: center; vertical-align: top\">Entre Dos Aguas</td>\n",
              "        <td style=\"padding-left: 1em; padding-right: 1em; text-align: center; vertical-align: top\">Paco De Lucia</td>\n",
              "    </tr>\n",
              "    <tr>\n",
              "        <td style=\"padding-left: 1em; padding-right: 1em; text-align: center; vertical-align: top\">b80344d063b5ccb3212f76538<br>f3d9e43d87dca9e ...</td>\n",
              "        <td style=\"padding-left: 1em; padding-right: 1em; text-align: center; vertical-align: top\">SOBXHDL12A81C204C0</td>\n",
              "        <td style=\"padding-left: 1em; padding-right: 1em; text-align: center; vertical-align: top\">1</td>\n",
              "        <td style=\"padding-left: 1em; padding-right: 1em; text-align: center; vertical-align: top\">Stronger</td>\n",
              "        <td style=\"padding-left: 1em; padding-right: 1em; text-align: center; vertical-align: top\">Kanye West</td>\n",
              "    </tr>\n",
              "    <tr>\n",
              "        <td style=\"padding-left: 1em; padding-right: 1em; text-align: center; vertical-align: top\">b80344d063b5ccb3212f76538<br>f3d9e43d87dca9e ...</td>\n",
              "        <td style=\"padding-left: 1em; padding-right: 1em; text-align: center; vertical-align: top\">SOBYHAJ12A6701BF1D</td>\n",
              "        <td style=\"padding-left: 1em; padding-right: 1em; text-align: center; vertical-align: top\">1</td>\n",
              "        <td style=\"padding-left: 1em; padding-right: 1em; text-align: center; vertical-align: top\">Constellations</td>\n",
              "        <td style=\"padding-left: 1em; padding-right: 1em; text-align: center; vertical-align: top\">Jack Johnson</td>\n",
              "    </tr>\n",
              "    <tr>\n",
              "        <td style=\"padding-left: 1em; padding-right: 1em; text-align: center; vertical-align: top\">b80344d063b5ccb3212f76538<br>f3d9e43d87dca9e ...</td>\n",
              "        <td style=\"padding-left: 1em; padding-right: 1em; text-align: center; vertical-align: top\">SODACBL12A8C13C273</td>\n",
              "        <td style=\"padding-left: 1em; padding-right: 1em; text-align: center; vertical-align: top\">1</td>\n",
              "        <td style=\"padding-left: 1em; padding-right: 1em; text-align: center; vertical-align: top\">Learn To Fly</td>\n",
              "        <td style=\"padding-left: 1em; padding-right: 1em; text-align: center; vertical-align: top\">Foo Fighters</td>\n",
              "    </tr>\n",
              "    <tr>\n",
              "        <td style=\"padding-left: 1em; padding-right: 1em; text-align: center; vertical-align: top\">b80344d063b5ccb3212f76538<br>f3d9e43d87dca9e ...</td>\n",
              "        <td style=\"padding-left: 1em; padding-right: 1em; text-align: center; vertical-align: top\">SODDNQT12A6D4F5F7E</td>\n",
              "        <td style=\"padding-left: 1em; padding-right: 1em; text-align: center; vertical-align: top\">5</td>\n",
              "        <td style=\"padding-left: 1em; padding-right: 1em; text-align: center; vertical-align: top\">Apuesta Por El Rock &#x27;N&#x27;<br>Roll ...</td>\n",
              "        <td style=\"padding-left: 1em; padding-right: 1em; text-align: center; vertical-align: top\">Héroes del Silencio</td>\n",
              "    </tr>\n",
              "    <tr>\n",
              "        <td style=\"padding-left: 1em; padding-right: 1em; text-align: center; vertical-align: top\">b80344d063b5ccb3212f76538<br>f3d9e43d87dca9e ...</td>\n",
              "        <td style=\"padding-left: 1em; padding-right: 1em; text-align: center; vertical-align: top\">SODXRTY12AB0180F3B</td>\n",
              "        <td style=\"padding-left: 1em; padding-right: 1em; text-align: center; vertical-align: top\">1</td>\n",
              "        <td style=\"padding-left: 1em; padding-right: 1em; text-align: center; vertical-align: top\">Paper Gangsta</td>\n",
              "        <td style=\"padding-left: 1em; padding-right: 1em; text-align: center; vertical-align: top\">Lady GaGa</td>\n",
              "    </tr>\n",
              "    <tr>\n",
              "        <td style=\"padding-left: 1em; padding-right: 1em; text-align: center; vertical-align: top\">b80344d063b5ccb3212f76538<br>f3d9e43d87dca9e ...</td>\n",
              "        <td style=\"padding-left: 1em; padding-right: 1em; text-align: center; vertical-align: top\">SOFGUAY12AB017B0A8</td>\n",
              "        <td style=\"padding-left: 1em; padding-right: 1em; text-align: center; vertical-align: top\">1</td>\n",
              "        <td style=\"padding-left: 1em; padding-right: 1em; text-align: center; vertical-align: top\">Stacked Actors</td>\n",
              "        <td style=\"padding-left: 1em; padding-right: 1em; text-align: center; vertical-align: top\">Foo Fighters</td>\n",
              "    </tr>\n",
              "    <tr>\n",
              "        <td style=\"padding-left: 1em; padding-right: 1em; text-align: center; vertical-align: top\">b80344d063b5ccb3212f76538<br>f3d9e43d87dca9e ...</td>\n",
              "        <td style=\"padding-left: 1em; padding-right: 1em; text-align: center; vertical-align: top\">SOFRQTD12A81C233C0</td>\n",
              "        <td style=\"padding-left: 1em; padding-right: 1em; text-align: center; vertical-align: top\">1</td>\n",
              "        <td style=\"padding-left: 1em; padding-right: 1em; text-align: center; vertical-align: top\">Sehr kosmisch</td>\n",
              "        <td style=\"padding-left: 1em; padding-right: 1em; text-align: center; vertical-align: top\">Harmonia</td>\n",
              "    </tr>\n",
              "    <tr>\n",
              "        <td style=\"padding-left: 1em; padding-right: 1em; text-align: center; vertical-align: top\">b80344d063b5ccb3212f76538<br>f3d9e43d87dca9e ...</td>\n",
              "        <td style=\"padding-left: 1em; padding-right: 1em; text-align: center; vertical-align: top\">SOHQWYZ12A6D4FA701</td>\n",
              "        <td style=\"padding-left: 1em; padding-right: 1em; text-align: center; vertical-align: top\">1</td>\n",
              "        <td style=\"padding-left: 1em; padding-right: 1em; text-align: center; vertical-align: top\">Heaven&#x27;s gonna burn your<br>eyes ...</td>\n",
              "        <td style=\"padding-left: 1em; padding-right: 1em; text-align: center; vertical-align: top\">Thievery Corporation<br>feat. Emiliana Torrini ...</td>\n",
              "    </tr>\n",
              "</table>\n",
              "<table frame=\"box\" rules=\"cols\">\n",
              "    <tr>\n",
              "        <th style=\"padding-left: 1em; padding-right: 1em; text-align: center\">song</th>\n",
              "    </tr>\n",
              "    <tr>\n",
              "        <td style=\"padding-left: 1em; padding-right: 1em; text-align: center; vertical-align: top\">The Cove - Jack Johnson</td>\n",
              "    </tr>\n",
              "    <tr>\n",
              "        <td style=\"padding-left: 1em; padding-right: 1em; text-align: center; vertical-align: top\">Entre Dos Aguas - Paco De<br>Lucia ...</td>\n",
              "    </tr>\n",
              "    <tr>\n",
              "        <td style=\"padding-left: 1em; padding-right: 1em; text-align: center; vertical-align: top\">Stronger - Kanye West</td>\n",
              "    </tr>\n",
              "    <tr>\n",
              "        <td style=\"padding-left: 1em; padding-right: 1em; text-align: center; vertical-align: top\">Constellations - Jack<br>Johnson ...</td>\n",
              "    </tr>\n",
              "    <tr>\n",
              "        <td style=\"padding-left: 1em; padding-right: 1em; text-align: center; vertical-align: top\">Learn To Fly - Foo<br>Fighters ...</td>\n",
              "    </tr>\n",
              "    <tr>\n",
              "        <td style=\"padding-left: 1em; padding-right: 1em; text-align: center; vertical-align: top\">Apuesta Por El Rock &#x27;N&#x27;<br>Roll - Héroes del ...</td>\n",
              "    </tr>\n",
              "    <tr>\n",
              "        <td style=\"padding-left: 1em; padding-right: 1em; text-align: center; vertical-align: top\">Paper Gangsta - Lady GaGa</td>\n",
              "    </tr>\n",
              "    <tr>\n",
              "        <td style=\"padding-left: 1em; padding-right: 1em; text-align: center; vertical-align: top\">Stacked Actors - Foo<br>Fighters ...</td>\n",
              "    </tr>\n",
              "    <tr>\n",
              "        <td style=\"padding-left: 1em; padding-right: 1em; text-align: center; vertical-align: top\">Sehr kosmisch - Harmonia</td>\n",
              "    </tr>\n",
              "    <tr>\n",
              "        <td style=\"padding-left: 1em; padding-right: 1em; text-align: center; vertical-align: top\">Heaven&#x27;s gonna burn your<br>eyes - Thievery ...</td>\n",
              "    </tr>\n",
              "</table>\n",
              "[10 rows x 6 columns]<br/>\n",
              "</div>"
            ],
            "text/plain": [
              "Columns:\n",
              "\tuser_id\tstr\n",
              "\tsong_id\tstr\n",
              "\tlisten_count\tint\n",
              "\ttitle\tstr\n",
              "\tartist\tstr\n",
              "\tsong\tstr\n",
              "\n",
              "Rows: 10\n",
              "\n",
              "Data:\n",
              "+-------------------------------+--------------------+--------------+\n",
              "|            user_id            |      song_id       | listen_count |\n",
              "+-------------------------------+--------------------+--------------+\n",
              "| b80344d063b5ccb3212f76538f... | SOAKIMP12A8C130995 |      1       |\n",
              "| b80344d063b5ccb3212f76538f... | SOBBMDR12A8C13253B |      2       |\n",
              "| b80344d063b5ccb3212f76538f... | SOBXHDL12A81C204C0 |      1       |\n",
              "| b80344d063b5ccb3212f76538f... | SOBYHAJ12A6701BF1D |      1       |\n",
              "| b80344d063b5ccb3212f76538f... | SODACBL12A8C13C273 |      1       |\n",
              "| b80344d063b5ccb3212f76538f... | SODDNQT12A6D4F5F7E |      5       |\n",
              "| b80344d063b5ccb3212f76538f... | SODXRTY12AB0180F3B |      1       |\n",
              "| b80344d063b5ccb3212f76538f... | SOFGUAY12AB017B0A8 |      1       |\n",
              "| b80344d063b5ccb3212f76538f... | SOFRQTD12A81C233C0 |      1       |\n",
              "| b80344d063b5ccb3212f76538f... | SOHQWYZ12A6D4FA701 |      1       |\n",
              "+-------------------------------+--------------------+--------------+\n",
              "+-------------------------------+-------------------------------+\n",
              "|             title             |             artist            |\n",
              "+-------------------------------+-------------------------------+\n",
              "|            The Cove           |          Jack Johnson         |\n",
              "|        Entre Dos Aguas        |         Paco De Lucia         |\n",
              "|            Stronger           |           Kanye West          |\n",
              "|         Constellations        |          Jack Johnson         |\n",
              "|          Learn To Fly         |          Foo Fighters         |\n",
              "|  Apuesta Por El Rock 'N' Roll |      Héroes del Silencio      |\n",
              "|         Paper Gangsta         |           Lady GaGa           |\n",
              "|         Stacked Actors        |          Foo Fighters         |\n",
              "|         Sehr kosmisch         |            Harmonia           |\n",
              "| Heaven's gonna burn your eyes | Thievery Corporation feat.... |\n",
              "+-------------------------------+-------------------------------+\n",
              "+-------------------------------+\n",
              "|              song             |\n",
              "+-------------------------------+\n",
              "|    The Cove - Jack Johnson    |\n",
              "| Entre Dos Aguas - Paco De ... |\n",
              "|     Stronger - Kanye West     |\n",
              "| Constellations - Jack Johnson |\n",
              "|  Learn To Fly - Foo Fighters  |\n",
              "| Apuesta Por El Rock 'N' Ro... |\n",
              "|   Paper Gangsta - Lady GaGa   |\n",
              "| Stacked Actors - Foo Fighters |\n",
              "|    Sehr kosmisch - Harmonia   |\n",
              "| Heaven's gonna burn your e... |\n",
              "+-------------------------------+\n",
              "[10 rows x 6 columns]"
            ]
          },
          "metadata": {},
          "execution_count": 5
        }
      ],
      "source": [
        "song_data.head()"
      ]
    },
    {
      "cell_type": "code",
      "execution_count": null,
      "metadata": {
        "colab": {
          "base_uri": "https://localhost:8080/",
          "height": 724
        },
        "id": "BT-HbwJeiSC8",
        "outputId": "7ca6e9b8-01fe-48fa-cf13-c6170b9e2ada"
      },
      "outputs": [
        {
          "output_type": "execute_result",
          "data": {
            "text/html": [
              "<div style=\"max-height:1000px;max-width:1500px;overflow:auto;\"><table frame=\"box\" rules=\"cols\">\n",
              "    <tr>\n",
              "        <th style=\"padding-left: 1em; padding-right: 1em; text-align: center\">user_id</th>\n",
              "        <th style=\"padding-left: 1em; padding-right: 1em; text-align: center\">song_id</th>\n",
              "        <th style=\"padding-left: 1em; padding-right: 1em; text-align: center\">listen_count</th>\n",
              "        <th style=\"padding-left: 1em; padding-right: 1em; text-align: center\">title</th>\n",
              "        <th style=\"padding-left: 1em; padding-right: 1em; text-align: center\">artist</th>\n",
              "    </tr>\n",
              "    <tr>\n",
              "        <td style=\"padding-left: 1em; padding-right: 1em; text-align: center; vertical-align: top\">276e43ad698705e5011e5091f<br>367d951b21246f5 ...</td>\n",
              "        <td style=\"padding-left: 1em; padding-right: 1em; text-align: center; vertical-align: top\">SOSJRJP12A6D4F826F</td>\n",
              "        <td style=\"padding-left: 1em; padding-right: 1em; text-align: center; vertical-align: top\">2</td>\n",
              "        <td style=\"padding-left: 1em; padding-right: 1em; text-align: center; vertical-align: top\">Master Of Puppets</td>\n",
              "        <td style=\"padding-left: 1em; padding-right: 1em; text-align: center; vertical-align: top\">Metallica</td>\n",
              "    </tr>\n",
              "    <tr>\n",
              "        <td style=\"padding-left: 1em; padding-right: 1em; text-align: center; vertical-align: top\">276e43ad698705e5011e5091f<br>367d951b21246f5 ...</td>\n",
              "        <td style=\"padding-left: 1em; padding-right: 1em; text-align: center; vertical-align: top\">SOSKYPY12A8C138198</td>\n",
              "        <td style=\"padding-left: 1em; padding-right: 1em; text-align: center; vertical-align: top\">1</td>\n",
              "        <td style=\"padding-left: 1em; padding-right: 1em; text-align: center; vertical-align: top\">Fall To Pieces</td>\n",
              "        <td style=\"padding-left: 1em; padding-right: 1em; text-align: center; vertical-align: top\">Velvet Revolver</td>\n",
              "    </tr>\n",
              "    <tr>\n",
              "        <td style=\"padding-left: 1em; padding-right: 1em; text-align: center; vertical-align: top\">276e43ad698705e5011e5091f<br>367d951b21246f5 ...</td>\n",
              "        <td style=\"padding-left: 1em; padding-right: 1em; text-align: center; vertical-align: top\">SOSVBPS12A8C141821</td>\n",
              "        <td style=\"padding-left: 1em; padding-right: 1em; text-align: center; vertical-align: top\">1</td>\n",
              "        <td style=\"padding-left: 1em; padding-right: 1em; text-align: center; vertical-align: top\">Something In Your Mouth<br>(Album Version) ...</td>\n",
              "        <td style=\"padding-left: 1em; padding-right: 1em; text-align: center; vertical-align: top\">Nickelback</td>\n",
              "    </tr>\n",
              "    <tr>\n",
              "        <td style=\"padding-left: 1em; padding-right: 1em; text-align: center; vertical-align: top\">276e43ad698705e5011e5091f<br>367d951b21246f5 ...</td>\n",
              "        <td style=\"padding-left: 1em; padding-right: 1em; text-align: center; vertical-align: top\">SOVIMJC12A6D4F92EC</td>\n",
              "        <td style=\"padding-left: 1em; padding-right: 1em; text-align: center; vertical-align: top\">2</td>\n",
              "        <td style=\"padding-left: 1em; padding-right: 1em; text-align: center; vertical-align: top\">No Apologies</td>\n",
              "        <td style=\"padding-left: 1em; padding-right: 1em; text-align: center; vertical-align: top\">Eminem</td>\n",
              "    </tr>\n",
              "    <tr>\n",
              "        <td style=\"padding-left: 1em; padding-right: 1em; text-align: center; vertical-align: top\">276e43ad698705e5011e5091f<br>367d951b21246f5 ...</td>\n",
              "        <td style=\"padding-left: 1em; padding-right: 1em; text-align: center; vertical-align: top\">SOWHYSP12A8C142A21</td>\n",
              "        <td style=\"padding-left: 1em; padding-right: 1em; text-align: center; vertical-align: top\">5</td>\n",
              "        <td style=\"padding-left: 1em; padding-right: 1em; text-align: center; vertical-align: top\">Let&#x27;s Go [from<br>&#x27;Salvation&#x27;] ...</td>\n",
              "        <td style=\"padding-left: 1em; padding-right: 1em; text-align: center; vertical-align: top\">New Order</td>\n",
              "    </tr>\n",
              "    <tr>\n",
              "        <td style=\"padding-left: 1em; padding-right: 1em; text-align: center; vertical-align: top\">276e43ad698705e5011e5091f<br>367d951b21246f5 ...</td>\n",
              "        <td style=\"padding-left: 1em; padding-right: 1em; text-align: center; vertical-align: top\">SOWTYVO12AB0180BDA</td>\n",
              "        <td style=\"padding-left: 1em; padding-right: 1em; text-align: center; vertical-align: top\">8</td>\n",
              "        <td style=\"padding-left: 1em; padding-right: 1em; text-align: center; vertical-align: top\">Surf Wax America</td>\n",
              "        <td style=\"padding-left: 1em; padding-right: 1em; text-align: center; vertical-align: top\">Weezer</td>\n",
              "    </tr>\n",
              "    <tr>\n",
              "        <td style=\"padding-left: 1em; padding-right: 1em; text-align: center; vertical-align: top\">276e43ad698705e5011e5091f<br>367d951b21246f5 ...</td>\n",
              "        <td style=\"padding-left: 1em; padding-right: 1em; text-align: center; vertical-align: top\">SOWZHOY12A6701F9FC</td>\n",
              "        <td style=\"padding-left: 1em; padding-right: 1em; text-align: center; vertical-align: top\">1</td>\n",
              "        <td style=\"padding-left: 1em; padding-right: 1em; text-align: center; vertical-align: top\">Kill The King</td>\n",
              "        <td style=\"padding-left: 1em; padding-right: 1em; text-align: center; vertical-align: top\">Megadeth</td>\n",
              "    </tr>\n",
              "    <tr>\n",
              "        <td style=\"padding-left: 1em; padding-right: 1em; text-align: center; vertical-align: top\">276e43ad698705e5011e5091f<br>367d951b21246f5 ...</td>\n",
              "        <td style=\"padding-left: 1em; padding-right: 1em; text-align: center; vertical-align: top\">SOXJOZW12A6701E90E</td>\n",
              "        <td style=\"padding-left: 1em; padding-right: 1em; text-align: center; vertical-align: top\">7</td>\n",
              "        <td style=\"padding-left: 1em; padding-right: 1em; text-align: center; vertical-align: top\">You Think I Ain&#x27;t Worth A<br>Dollar_ But I Feel Li ...</td>\n",
              "        <td style=\"padding-left: 1em; padding-right: 1em; text-align: center; vertical-align: top\">Queens Of The Stone Age</td>\n",
              "    </tr>\n",
              "    <tr>\n",
              "        <td style=\"padding-left: 1em; padding-right: 1em; text-align: center; vertical-align: top\">276e43ad698705e5011e5091f<br>367d951b21246f5 ...</td>\n",
              "        <td style=\"padding-left: 1em; padding-right: 1em; text-align: center; vertical-align: top\">SOXNKNC12A6701F7A8</td>\n",
              "        <td style=\"padding-left: 1em; padding-right: 1em; text-align: center; vertical-align: top\">1</td>\n",
              "        <td style=\"padding-left: 1em; padding-right: 1em; text-align: center; vertical-align: top\">Superbeast</td>\n",
              "        <td style=\"padding-left: 1em; padding-right: 1em; text-align: center; vertical-align: top\">Rob Zombie</td>\n",
              "    </tr>\n",
              "    <tr>\n",
              "        <td style=\"padding-left: 1em; padding-right: 1em; text-align: center; vertical-align: top\">276e43ad698705e5011e5091f<br>367d951b21246f5 ...</td>\n",
              "        <td style=\"padding-left: 1em; padding-right: 1em; text-align: center; vertical-align: top\">SOYRMVO12A6701D106</td>\n",
              "        <td style=\"padding-left: 1em; padding-right: 1em; text-align: center; vertical-align: top\">1</td>\n",
              "        <td style=\"padding-left: 1em; padding-right: 1em; text-align: center; vertical-align: top\">Keep Away</td>\n",
              "        <td style=\"padding-left: 1em; padding-right: 1em; text-align: center; vertical-align: top\">Godsmack</td>\n",
              "    </tr>\n",
              "</table>\n",
              "<table frame=\"box\" rules=\"cols\">\n",
              "    <tr>\n",
              "        <th style=\"padding-left: 1em; padding-right: 1em; text-align: center\">song</th>\n",
              "    </tr>\n",
              "    <tr>\n",
              "        <td style=\"padding-left: 1em; padding-right: 1em; text-align: center; vertical-align: top\">Master Of Puppets -<br>Metallica ...</td>\n",
              "    </tr>\n",
              "    <tr>\n",
              "        <td style=\"padding-left: 1em; padding-right: 1em; text-align: center; vertical-align: top\">Fall To Pieces - Velvet<br>Revolver ...</td>\n",
              "    </tr>\n",
              "    <tr>\n",
              "        <td style=\"padding-left: 1em; padding-right: 1em; text-align: center; vertical-align: top\">Something In Your Mouth<br>(Album Version) - ...</td>\n",
              "    </tr>\n",
              "    <tr>\n",
              "        <td style=\"padding-left: 1em; padding-right: 1em; text-align: center; vertical-align: top\">No Apologies - Eminem</td>\n",
              "    </tr>\n",
              "    <tr>\n",
              "        <td style=\"padding-left: 1em; padding-right: 1em; text-align: center; vertical-align: top\">Let&#x27;s Go [from<br>&#x27;Salvation&#x27;] - New Order ...</td>\n",
              "    </tr>\n",
              "    <tr>\n",
              "        <td style=\"padding-left: 1em; padding-right: 1em; text-align: center; vertical-align: top\">Surf Wax America - Weezer</td>\n",
              "    </tr>\n",
              "    <tr>\n",
              "        <td style=\"padding-left: 1em; padding-right: 1em; text-align: center; vertical-align: top\">Kill The King - Megadeth</td>\n",
              "    </tr>\n",
              "    <tr>\n",
              "        <td style=\"padding-left: 1em; padding-right: 1em; text-align: center; vertical-align: top\">You Think I Ain&#x27;t Worth A<br>Dollar_ But I Feel Li ...</td>\n",
              "    </tr>\n",
              "    <tr>\n",
              "        <td style=\"padding-left: 1em; padding-right: 1em; text-align: center; vertical-align: top\">Superbeast - Rob Zombie</td>\n",
              "    </tr>\n",
              "    <tr>\n",
              "        <td style=\"padding-left: 1em; padding-right: 1em; text-align: center; vertical-align: top\">Keep Away - Godsmack</td>\n",
              "    </tr>\n",
              "</table>\n",
              "[10 rows x 6 columns]<br/>\n",
              "</div>"
            ],
            "text/plain": [
              "Columns:\n",
              "\tuser_id\tstr\n",
              "\tsong_id\tstr\n",
              "\tlisten_count\tint\n",
              "\ttitle\tstr\n",
              "\tartist\tstr\n",
              "\tsong\tstr\n",
              "\n",
              "Rows: 10\n",
              "\n",
              "Data:\n",
              "+-------------------------------+--------------------+--------------+\n",
              "|            user_id            |      song_id       | listen_count |\n",
              "+-------------------------------+--------------------+--------------+\n",
              "| 276e43ad698705e5011e5091f3... | SOSJRJP12A6D4F826F |      2       |\n",
              "| 276e43ad698705e5011e5091f3... | SOSKYPY12A8C138198 |      1       |\n",
              "| 276e43ad698705e5011e5091f3... | SOSVBPS12A8C141821 |      1       |\n",
              "| 276e43ad698705e5011e5091f3... | SOVIMJC12A6D4F92EC |      2       |\n",
              "| 276e43ad698705e5011e5091f3... | SOWHYSP12A8C142A21 |      5       |\n",
              "| 276e43ad698705e5011e5091f3... | SOWTYVO12AB0180BDA |      8       |\n",
              "| 276e43ad698705e5011e5091f3... | SOWZHOY12A6701F9FC |      1       |\n",
              "| 276e43ad698705e5011e5091f3... | SOXJOZW12A6701E90E |      7       |\n",
              "| 276e43ad698705e5011e5091f3... | SOXNKNC12A6701F7A8 |      1       |\n",
              "| 276e43ad698705e5011e5091f3... | SOYRMVO12A6701D106 |      1       |\n",
              "+-------------------------------+--------------------+--------------+\n",
              "+-------------------------------+-------------------------+\n",
              "|             title             |          artist         |\n",
              "+-------------------------------+-------------------------+\n",
              "|       Master Of Puppets       |        Metallica        |\n",
              "|         Fall To Pieces        |     Velvet Revolver     |\n",
              "| Something In Your Mouth (A... |        Nickelback       |\n",
              "|          No Apologies         |          Eminem         |\n",
              "|  Let's Go [from 'Salvation']  |        New Order        |\n",
              "|        Surf Wax America       |          Weezer         |\n",
              "|         Kill The King         |         Megadeth        |\n",
              "| You Think I Ain't Worth A ... | Queens Of The Stone Age |\n",
              "|           Superbeast          |        Rob Zombie       |\n",
              "|           Keep Away           |         Godsmack        |\n",
              "+-------------------------------+-------------------------+\n",
              "+-------------------------------+\n",
              "|              song             |\n",
              "+-------------------------------+\n",
              "| Master Of Puppets - Metallica |\n",
              "| Fall To Pieces - Velvet Re... |\n",
              "| Something In Your Mouth (A... |\n",
              "|     No Apologies - Eminem     |\n",
              "| Let's Go [from 'Salvation'... |\n",
              "|   Surf Wax America - Weezer   |\n",
              "|    Kill The King - Megadeth   |\n",
              "| You Think I Ain't Worth A ... |\n",
              "|    Superbeast - Rob Zombie    |\n",
              "|      Keep Away - Godsmack     |\n",
              "+-------------------------------+\n",
              "[10 rows x 6 columns]"
            ]
          },
          "metadata": {},
          "execution_count": 6
        }
      ],
      "source": [
        "song_data.tail()"
      ]
    },
    {
      "cell_type": "markdown",
      "source": [
        "# Show the most popular songs in the dataset"
      ],
      "metadata": {
        "id": "gBqaPHgBqAQP"
      }
    },
    {
      "cell_type": "code",
      "source": [
        "song_data['song'].show()"
      ],
      "metadata": {
        "colab": {
          "base_uri": "https://localhost:8080/",
          "height": 809
        },
        "id": "8SMgfNglp_41",
        "outputId": "c1db213a-ef36-4381-97e4-edb1422b1ee7"
      },
      "execution_count": null,
      "outputs": [
        {
          "output_type": "display_data",
          "data": {
            "text/html": [
              "<pre>Materializing SArray</pre>"
            ],
            "text/plain": [
              "Materializing SArray"
            ]
          },
          "metadata": {}
        },
        {
          "output_type": "display_data",
          "data": {
            "text/html": [
              "<html>                 <body>                     <iframe style=\"border:0;margin:0\" width=\"920\" height=\"770\" srcdoc='<html lang=\"en\">                         <head>                             <script src=\"https://cdnjs.cloudflare.com/ajax/libs/vega/5.4.0/vega.js\"></script>                             <script src=\"https://cdnjs.cloudflare.com/ajax/libs/vega-embed/4.0.0/vega-embed.js\"></script>                             <script src=\"https://cdnjs.cloudflare.com/ajax/libs/vega-tooltip/0.5.1/vega-tooltip.min.js\"></script>                             <link rel=\"stylesheet\" type=\"text/css\" href=\"https://cdnjs.cloudflare.com/ajax/libs/vega-tooltip/0.5.1/vega-tooltip.min.css\">                             <style>                             .vega-actions > a{                                 color:white;                                 text-decoration: none;                                 font-family: \"Arial\";                                 cursor:pointer;                                 padding:5px;                                 background:#AAAAAA;                                 border-radius:4px;                                 padding-left:10px;                                 padding-right:10px;                                 margin-right:5px;                             }                             .vega-actions{                                 margin-top:20px;                                 text-align:center                             }                            .vega-actions > a{                                 background:#999999;                            }                             </style>                         </head>                         <body>                             <div id=\"vis\">                             </div>                             <script>                                 var vega_json = \"{\\\"$schema\\\": \\\"https://vega.github.io/schema/vega/v4.json\\\", \\\"autosize\\\": {\\\"type\\\": \\\"fit\\\", \\\"resize\\\": false, \\\"contains\\\": \\\"padding\\\"}, \\\"padding\\\": 8, \\\"metadata\\\": {\\\"bubbleOpts\\\": {\\\"showAllFields\\\": false, \\\"fields\\\": [{\\\"field\\\": \\\"count\\\"}, {\\\"field\\\": \\\"label\\\"}, {\\\"field\\\": \\\"percentage\\\"}]}}, \\\"width\\\": 720, \\\"height\\\": 550, \\\"title\\\": \\\"Distribution of Values [string]\\\", \\\"style\\\": \\\"cell\\\", \\\"data\\\": [{\\\"name\\\": \\\"pts_store_store\\\"}, {\\\"name\\\": \\\"source_2\\\", \\\"values\\\": [{\\\"label\\\": \\\"Sehr kosmisch - Harmonia\\\", \\\"label_idx\\\": 0, \\\"count\\\": 5970, \\\"percentage\\\": \\\"0.534654%\\\"}, {\\\"label\\\": \\\"Undo - Bj\\\\u00f6rk\\\", \\\"label_idx\\\": 1, \\\"count\\\": 5281, \\\"percentage\\\": \\\"0.47295%\\\"}, {\\\"label\\\": \\\"You&apos;re The One - Dwight Yoakam\\\", \\\"label_idx\\\": 2, \\\"count\\\": 4806, \\\"percentage\\\": \\\"0.43041%\\\"}, {\\\"label\\\": \\\"Dog Days Are Over (Radio Edit) - Florence + The Machine\\\", \\\"label_idx\\\": 3, \\\"count\\\": 4536, \\\"percentage\\\": \\\"0.40623%\\\"}, {\\\"label\\\": \\\"Revelry - Kings Of Leon\\\", \\\"label_idx\\\": 4, \\\"count\\\": 4339, \\\"percentage\\\": \\\"0.388587%\\\"}, {\\\"label\\\": \\\"Horn Concerto No. 4 in E flat K495: II. Romance (Andante cantabile) - Barry Tuckwell/Academy of St Martin-in-the-Fields/Sir Neville Marriner\\\", \\\"label_idx\\\": 5, \\\"count\\\": 3949, \\\"percentage\\\": \\\"0.35366%\\\"}, {\\\"label\\\": \\\"Secrets - OneRepublic\\\", \\\"label_idx\\\": 6, \\\"count\\\": 3916, \\\"percentage\\\": \\\"0.350705%\\\"}, {\\\"label\\\": \\\"Tive Sim - Cartola\\\", \\\"label_idx\\\": 7, \\\"count\\\": 3185, \\\"percentage\\\": \\\"0.285239%\\\"}, {\\\"label\\\": \\\"Fireflies - Charttraxx Karaoke\\\", \\\"label_idx\\\": 8, \\\"count\\\": 3171, \\\"percentage\\\": \\\"0.283985%\\\"}, {\\\"label\\\": \\\"Hey_ Soul Sister - Train\\\", \\\"label_idx\\\": 9, \\\"count\\\": 3132, \\\"percentage\\\": \\\"0.280492%\\\"}, {\\\"label\\\": \\\"Drop The World - Lil Wayne / Eminem\\\", \\\"label_idx\\\": 10, \\\"count\\\": 2570, \\\"percentage\\\": \\\"0.230161%\\\"}, {\\\"label\\\": \\\"OMG - Usher featuring will.i.am\\\", \\\"label_idx\\\": 11, \\\"count\\\": 2533, \\\"percentage\\\": \\\"0.226848%\\\"}, {\\\"label\\\": \\\"Other (9940 labels)\\\", \\\"label_idx\\\": 12, \\\"count\\\": 1069221, \\\"percentage\\\": \\\"95.7561%\\\"}]}, {\\\"name\\\": \\\"data_0\\\", \\\"source\\\": \\\"source_2\\\", \\\"transform\\\": [{\\\"type\\\": \\\"formula\\\", \\\"expr\\\": \\\"toNumber(datum[\\\\\\\"count\\\\\\\"])\\\", \\\"as\\\": \\\"count\\\"}, {\\\"type\\\": \\\"filter\\\", \\\"expr\\\": \\\"datum[\\\\\\\"count\\\\\\\"] !== null &amp;&amp; !isNaN(datum[\\\\\\\"count\\\\\\\"])\\\"}]}], \\\"signals\\\": [{\\\"name\\\": \\\"unit\\\", \\\"value\\\": {}, \\\"on\\\": [{\\\"events\\\": \\\"mousemove\\\", \\\"update\\\": \\\"isTuple(group()) ? group() : unit\\\"}]}, {\\\"name\\\": \\\"pts_store\\\", \\\"update\\\": \\\"data(\\\\\\\"pts_store_store\\\\\\\").length &amp;&amp; {count: data(\\\\\\\"pts_store_store\\\\\\\")[0].values[0]}\\\"}, {\\\"name\\\": \\\"pts_store_tuple\\\", \\\"value\\\": {}, \\\"on\\\": [{\\\"events\\\": [{\\\"source\\\": \\\"scope\\\", \\\"type\\\": \\\"click\\\"}], \\\"update\\\": \\\"datum &amp;&amp; item().mark.marktype !== &apos;group&apos; ? {unit: \\\\\\\"\\\\\\\", encodings: [\\\\\\\"x\\\\\\\"], fields: [\\\\\\\"count\\\\\\\"], values: [datum[\\\\\\\"count\\\\\\\"]]} : null\\\", \\\"force\\\": true}]}, {\\\"name\\\": \\\"pts_store_modify\\\", \\\"on\\\": [{\\\"events\\\": {\\\"signal\\\": \\\"pts_store_tuple\\\"}, \\\"update\\\": \\\"modify(\\\\\\\"pts_store_store\\\\\\\", pts_store_tuple, true)\\\"}]}], \\\"marks\\\": [{\\\"name\\\": \\\"marks\\\", \\\"type\\\": \\\"rect\\\", \\\"style\\\": [\\\"bar\\\"], \\\"from\\\": {\\\"data\\\": \\\"data_0\\\"}, \\\"encode\\\": {\\\"hover\\\": {\\\"fill\\\": {\\\"value\\\": \\\"#7EC2F3\\\"}}, \\\"update\\\": {\\\"x\\\": {\\\"scale\\\": \\\"x\\\", \\\"field\\\": \\\"count\\\"}, \\\"x2\\\": {\\\"scale\\\": \\\"x\\\", \\\"value\\\": 0}, \\\"y\\\": {\\\"scale\\\": \\\"y\\\", \\\"field\\\": \\\"label\\\"}, \\\"height\\\": {\\\"scale\\\": \\\"y\\\", \\\"band\\\": true}, \\\"fill\\\": {\\\"value\\\": \\\"#108EE9\\\"}}}}], \\\"scales\\\": [{\\\"name\\\": \\\"x\\\", \\\"type\\\": \\\"linear\\\", \\\"domain\\\": {\\\"data\\\": \\\"data_0\\\", \\\"field\\\": \\\"count\\\"}, \\\"range\\\": [0, {\\\"signal\\\": \\\"width\\\"}], \\\"nice\\\": true, \\\"zero\\\": true}, {\\\"name\\\": \\\"y\\\", \\\"type\\\": \\\"band\\\", \\\"domain\\\": {\\\"data\\\": \\\"data_0\\\", \\\"field\\\": \\\"label\\\", \\\"sort\\\": {\\\"op\\\": \\\"mean\\\", \\\"field\\\": \\\"label_idx\\\", \\\"order\\\": \\\"descending\\\"}}, \\\"range\\\": [{\\\"signal\\\": \\\"height\\\"}, 0], \\\"paddingInner\\\": 0.1, \\\"paddingOuter\\\": 0.05}], \\\"axes\\\": [{\\\"orient\\\": \\\"top\\\", \\\"scale\\\": \\\"x\\\", \\\"labelOverlap\\\": true, \\\"tickCount\\\": {\\\"signal\\\": \\\"ceil(width/40)\\\"}, \\\"title\\\": \\\"Count\\\", \\\"zindex\\\": 1}, {\\\"orient\\\": \\\"top\\\", \\\"scale\\\": \\\"x\\\", \\\"domain\\\": false, \\\"grid\\\": true, \\\"labels\\\": false, \\\"maxExtent\\\": 0, \\\"minExtent\\\": 0, \\\"tickCount\\\": {\\\"signal\\\": \\\"ceil(width/40)\\\"}, \\\"ticks\\\": false, \\\"zindex\\\": 0, \\\"gridScale\\\": \\\"y\\\"}, {\\\"scale\\\": \\\"y\\\", \\\"labelOverlap\\\": true, \\\"orient\\\": \\\"left\\\", \\\"title\\\": \\\"Values\\\", \\\"zindex\\\": 1}], \\\"config\\\": {\\\"axis\\\": {\\\"gridColor\\\": \\\"rgba(204,204,204,1.0)\\\", \\\"labelFont\\\": \\\"\\\\\\\"San Francisco\\\\\\\", HelveticaNeue, Arial\\\", \\\"labelFontSize\\\": 12, \\\"labelPadding\\\": 10, \\\"labelColor\\\": \\\"rgba(0,0,0,0.847)\\\", \\\"tickColor\\\": \\\"rgb(136,136,136)\\\", \\\"titleFont\\\": \\\"\\\\\\\"San Francisco\\\\\\\", HelveticaNeue, Arial\\\", \\\"titleFontWeight\\\": \\\"normal\\\", \\\"titlePadding\\\": 20, \\\"titleFontSize\\\": 14, \\\"titleColor\\\": \\\"rgba(0,0,0,0.847)\\\"}, \\\"axisY\\\": {\\\"minExtent\\\": 30}, \\\"legend\\\": {\\\"labelFont\\\": \\\"\\\\\\\"San Francisco\\\\\\\", HelveticaNeue, Arial\\\", \\\"labelColor\\\": \\\"rgba(0,0,0,0.847)\\\", \\\"titleFont\\\": \\\"\\\\\\\"San Francisco\\\\\\\", HelveticaNeue, Arial\\\", \\\"cornerRadius\\\": 30, \\\"gradientLength\\\": 608, \\\"titleColor\\\": \\\"rgba(0,0,0,0.847)\\\"}, \\\"range\\\": {\\\"heatmap\\\": {\\\"scheme\\\": \\\"greenblue\\\"}}, \\\"style\\\": {\\\"rect\\\": {\\\"stroke\\\": \\\"rgba(200, 200, 200, 0.5)\\\"}, \\\"cell\\\": {\\\"stroke\\\": \\\"transparent\\\"}, \\\"group-title\\\": {\\\"fontSize\\\": 29, \\\"font\\\": \\\"HelveticaNeue, Arial\\\", \\\"fontWeight\\\": \\\"normal\\\", \\\"fill\\\": \\\"rgba(0,0,0,0.65)\\\"}}, \\\"title\\\": {\\\"color\\\": \\\"rgba(0,0,0,0.847)\\\", \\\"font\\\": \\\"\\\\\\\"San Francisco\\\\\\\", HelveticaNeue, Arial\\\", \\\"fontSize\\\": 18, \\\"fontWeight\\\": \\\"normal\\\", \\\"offset\\\": 30}}}\";                                 var vega_json_parsed = JSON.parse(vega_json);                                 var toolTipOpts = {                                     showAllFields: true                                 };                                 if(vega_json_parsed[\"metadata\"] != null){                                     if(vega_json_parsed[\"metadata\"][\"bubbleOpts\"] != null){                                         toolTipOpts = vega_json_parsed[\"metadata\"][\"bubbleOpts\"];                                     };                                 };                                 vegaEmbed(\"#vis\", vega_json_parsed).then(function (result) {                                     vegaTooltip.vega(result.view, toolTipOpts);                                  });                             </script>                         </body>                     </html>' src=\"demo_iframe_srcdoc.htm\">                         <p>Your browser does not support iframes.</p>                     </iframe>                 </body>             </html>"
            ],
            "text/plain": [
              "<IPython.core.display.HTML object>"
            ]
          },
          "metadata": {}
        }
      ]
    },
    {
      "cell_type": "markdown",
      "source": [
        "# Count the number of unique users in the data"
      ],
      "metadata": {
        "id": "Ub6BWZHSpzDE"
      }
    },
    {
      "cell_type": "code",
      "execution_count": null,
      "metadata": {
        "id": "vhSvAaQPiUZk"
      },
      "outputs": [],
      "source": [
        "users=song_data['user_id'].unique()"
      ]
    },
    {
      "cell_type": "code",
      "execution_count": null,
      "metadata": {
        "colab": {
          "base_uri": "https://localhost:8080/"
        },
        "id": "Hr7VxkSzi1Fm",
        "outputId": "52829761-738a-4e5f-d5a6-e441d081951a"
      },
      "outputs": [
        {
          "output_type": "execute_result",
          "data": {
            "text/plain": [
              "dtype: str\n",
              "Rows: 66346\n",
              "['c66c10a9567f0d82ff31441a9fd5063e5cd9dfe8', '02f015d32ac2cd1e52d26e3ec36048711dd5711b', 'f933855d675606737fdc191e9edff7625d08aae8', '4867d5516a280db13695b9b9c7ce6b574f34c6b4', '279292bb36dbfc7f505e36ebf038c81eb1d1d63e', '968f1baebc490d3c6999ee6c85c5cab8b726b347', 'c067c22072a17d33310d7223d7b79f819e48cf42', '4454c4a192a467664286c8b58447709131ebdcf6', '2c494678b5582807c16390f13d076f785e20934e', '900ed526660df9c3442ebe736db94eb0bc251b73', '799816a69ec82a23a3a344971b485bc5417ec078', '5d1ddbcf13592d73dadf477d63150192853d2462', '9011eacdc36af44e94ade6279f72083851361717', '3c3ce43ec19f03b761cbf1560472259dd8e6273e', 'd47126849532947bd7539709a7137d9746ac5280', '27926be2f9f93310ecaa4776af106bed82779c92', 'abfa517fd05216bb3cd5be0eb0d3a6d2c8a6a9ee', 'bf0aa600675ebebaec558e0a007769564199e28f', 'f6c596a519698c97f1591ad89f540d76f6a04f1a', 'a34314df8787c38474847520beb1aff59611af28', 'f95cf2639491a235881359cfacfbe99dbe9784e1', '5469c2e5cb0ee63f615f3edea2052858ecee5fe3', '0a04a4a93700fd51e0b61c208d069441288902a6', 'cbd4a0abd843ac271604ec43e2c1d9e54f499ef9', '3e0a00a7113740a9da53c764f3929117e8a18047', '18078526a165fa4a81b3a0a882e544dec846891c', '696787172dd3f5169dc94deef97e427cee86147d', '8fd604f1be29bb92ce4bd0ba5c7b63d5f1495376', '3a7111f4cdf3c5a85fd4053e3cc2333562e1e0cb', '603f8e91b6144c9b8b4eca138c99302376dc9124', '93e9ce0f48be40773df5bbd51791399a58002d6d', 'c27baaf4da66de473a267747a9f012b73671a005', '31f6fd9d9936adb9f7d0f157fd960c0a676ccfd6', '9d009b13dcd24bea1118776267a58ba3ae5b32ff', 'b976d221efcd6f1e3fe584b975b81552b142b421', '146e1965d1d3907048e9b222aea09b021ed85b48', 'a5044fe28df35ba90fc49449cf1fdaff5243be43', 'c9e869673fb58ca30f01ef29b223db2f9ffbbab9', '7c17be2beb1943f10947d7a6bd47ba0354693d53', '5c604b6fc3d4077dfca40a57eea49388b69a19d6', '532e98155cbfd1e1a474a28ed96e59e50f7c5baf', 'ee43b175ed753b2e2bce806c903d4661ad351a91', '2b1287e7cdd062baeb72ef39b549eea3ace15bee', 'e7d45529c0fbfdae459c232e5aac3ecd6f3c058d', 'e372c27f6cb071518ae500589ae02c126954c148', '8a8eb87dc4de1a671451e4f6745739c77b97c202', '65d22e40eb8867148ef392fb121b835cc6173831', 'd7bbb57afcb969acbfe1289e0687b54a4f1d6bb4', '44390e2c54f1307b56fb0b1d4b4b89ee181942fe', '1b55335067b61f27f3724284ccb8a7a1f6a53c83', 'dc4a6ab83084f5f1c858793fa22f1200d5b6c267', '8d0854e6d4223772b1aeadd6a04811c5cda2ccad', '87e8797703f2f705763d9d28a07c266a8af28ac6', 'b4c75391d49ce797c1af18468f1aa3ae5943f9de', '3621baf59d58962f2d0e1c8923ac08e663caafae', '83b1428917b47a6b130ed471b09033820be78a8c', '1969c10e3841ccd955f1786dc8e64a60790b824f', 'b2dc258c4784e95ba9130e8c609573da7568a908', '0c3f9ea9fb5f25764db3091ee6422199385f4a15', '0ecb1f480ebb237dc7821c898c94219cdfe38789', '9b10c5b0569c679d9d7e258c37c0acb99cbbce02', '39487deef9345b1e22881245cabf4e7c53b6cf6e', 'bfd6cfaf4a0e517336cda1fe1a7bdd61231b8b7e', 'b36d02f372054fb885cbfe7e9c4f47408112e513', '88325c1fc54d4227b223a7ca7c68c2bdc39df54b', '18325842a941bc58449ee71d659a08d1c1bd2383', '8e0a6e777e23b5a165b52e50b2124e93dd9fb3a3', '5f98b842f9546755d5da7bc0ea1627e97ac07cea', '7ad06615d118067e1bf973aa86c672874e0eb78f', '0f7ba73c2939bbc3914c98d71b577c24369b4078', 'd9101b0cf86a9566a1fcaab6b8e9c792f46df0dd', '3c20642cad8a370809cac6ccf62148e7d5deb519', '9685135efd0757150edb8d49e192fbb301e70e94', '71c17371dff96abe86663a7dc83e4334f3e4a67f', 'd3ed03c249e90d0f2c578508169e4ababf9aa62f', '165315cd76410271392b99dc4a8810a6052841ef', '6ddd3bc5d91eec7fa7357bfef99cbc291733df75', 'ab0535d8909c4ef7c1ade3c19067d361faf767ce', '2e70dcc04f82bd858b953b7abbf8161aef5eeb40', '3f2a5636078d12dab36f61f92efc1fc62f72f815', '0cf98ccbc30deb219ff1865a5e0d121ecfabfc69', '878d66c89048528dd629cab65760188353624aff', '304476196c6e2c67cc4fa90a4bbf2c34f1a3487d', '9f78f038854c3ffb9e864ad281a7201d4dd999b2', '75864fe1e1674afe546612ecfd2217f062610a79', '0cd3ba0dbab3f4ca74ccf141ece12ac3efd2305f', '6698f2f408019c8f882bfc4859b7837ae152fe3e', 'b472a8e0407792249a28e8a24f0f82e6cc860822', '883f9cc576ca7c9308b5a56575e1484609c7f83f', '32c21cf95945621ab219218f985a83f30ef94009', 'c30e1f670638e025eeff06bcc8664c1784d05cd6', '1573aa5b56e21f344bee930348014240303598ef', 'b2b08a84654f90585e0dc3c5155d330fb8e4ba59', 'dbbf324c3afe1683c7d3bac2fc9179b5bf306e5a', '360b4499ebb6a98afbcfe95377ff8709eb95faac', '682bcdfc315860324467164e555207c966ef0c5c', '441ff37480cf19f36d1f3e77de2b3d21a7af310b', '4a74f5398a0277392fdb50072da96985a2f7ee49', 'd6a27334038094abda6e00a7a87c782500eda337', '908d133f745bcab047d97dd0ecd1da3f53ee53d4', ... ]"
            ]
          },
          "metadata": {},
          "execution_count": 8
        }
      ],
      "source": [
        "users"
      ]
    },
    {
      "cell_type": "code",
      "source": [
        "len(users)"
      ],
      "metadata": {
        "colab": {
          "base_uri": "https://localhost:8080/"
        },
        "id": "WtALzWKbp49w",
        "outputId": "805b35ca-f7fe-4e03-e65d-bd0004b8403d"
      },
      "execution_count": null,
      "outputs": [
        {
          "output_type": "execute_result",
          "data": {
            "text/plain": [
              "66346"
            ]
          },
          "metadata": {},
          "execution_count": 29
        }
      ]
    },
    {
      "cell_type": "markdown",
      "source": [
        "# Exploating our data for testing perpose"
      ],
      "metadata": {
        "id": "TfamSgZCqYby"
      }
    },
    {
      "cell_type": "code",
      "execution_count": null,
      "metadata": {
        "id": "w8cYhl9Ki3Rq"
      },
      "outputs": [],
      "source": [
        "train_data, test_data=song_data.random_split(.8,seed=0.0)"
      ]
    },
    {
      "cell_type": "markdown",
      "source": [
        "# Create a very simple popularity recommender"
      ],
      "metadata": {
        "id": "u-6TZ3Hhqp5P"
      }
    },
    {
      "cell_type": "code",
      "execution_count": null,
      "metadata": {
        "colab": {
          "base_uri": "https://localhost:8080/",
          "height": 138
        },
        "id": "ad6Qq7OjjrWg",
        "outputId": "dc711a3b-251e-4c1c-8dcd-4104d9dbfe58"
      },
      "outputs": [
        {
          "output_type": "display_data",
          "data": {
            "text/html": [
              "<pre>Warning: Ignoring columns song_id, listen_count, title, artist;</pre>"
            ],
            "text/plain": [
              "Warning: Ignoring columns song_id, listen_count, title, artist;"
            ]
          },
          "metadata": {}
        },
        {
          "output_type": "display_data",
          "data": {
            "text/html": [
              "<pre> To use one of these as a rating column, specify the column name to be used as target</pre>"
            ],
            "text/plain": [
              " To use one of these as a rating column, specify the column name to be used as target"
            ]
          },
          "metadata": {}
        },
        {
          "output_type": "display_data",
          "data": {
            "text/html": [
              "<pre>    and use a method that allows the use of a target.</pre>"
            ],
            "text/plain": [
              "    and use a method that allows the use of a target."
            ]
          },
          "metadata": {}
        },
        {
          "output_type": "display_data",
          "data": {
            "text/html": [
              "<pre>Preparing data set.</pre>"
            ],
            "text/plain": [
              "Preparing data set."
            ]
          },
          "metadata": {}
        },
        {
          "output_type": "display_data",
          "data": {
            "text/html": [
              "<pre>    Data has 893580 observations with 66085 users and 9952 items.</pre>"
            ],
            "text/plain": [
              "    Data has 893580 observations with 66085 users and 9952 items."
            ]
          },
          "metadata": {}
        },
        {
          "output_type": "display_data",
          "data": {
            "text/html": [
              "<pre>    Data prepared in: 1.41126s</pre>"
            ],
            "text/plain": [
              "    Data prepared in: 1.41126s"
            ]
          },
          "metadata": {}
        },
        {
          "output_type": "display_data",
          "data": {
            "text/html": [
              "<pre>893580 observations to process; with 9952 unique items.</pre>"
            ],
            "text/plain": [
              "893580 observations to process; with 9952 unique items."
            ]
          },
          "metadata": {}
        }
      ],
      "source": [
        "popularity_model=turicreate.popularity_recommender.create(train_data,user_id='user_id',item_id='song')"
      ]
    },
    {
      "cell_type": "markdown",
      "source": [
        "# Use the popularity model to make some predictions"
      ],
      "metadata": {
        "id": "HXaD9JqYq-dO"
      }
    },
    {
      "cell_type": "code",
      "execution_count": null,
      "metadata": {
        "colab": {
          "base_uri": "https://localhost:8080/",
          "height": 422
        },
        "id": "KNfVWKTqkG4U",
        "outputId": "b3cf3455-33d6-4180-9609-8b445f70a94a"
      },
      "outputs": [
        {
          "output_type": "execute_result",
          "data": {
            "text/html": [
              "<div style=\"max-height:1000px;max-width:1500px;overflow:auto;\"><table frame=\"box\" rules=\"cols\">\n",
              "    <tr>\n",
              "        <th style=\"padding-left: 1em; padding-right: 1em; text-align: center\">user_id</th>\n",
              "        <th style=\"padding-left: 1em; padding-right: 1em; text-align: center\">song</th>\n",
              "        <th style=\"padding-left: 1em; padding-right: 1em; text-align: center\">score</th>\n",
              "        <th style=\"padding-left: 1em; padding-right: 1em; text-align: center\">rank</th>\n",
              "    </tr>\n",
              "    <tr>\n",
              "        <td style=\"padding-left: 1em; padding-right: 1em; text-align: center; vertical-align: top\">c66c10a9567f0d82ff31441a9<br>fd5063e5cd9dfe8 ...</td>\n",
              "        <td style=\"padding-left: 1em; padding-right: 1em; text-align: center; vertical-align: top\">Sehr kosmisch - Harmonia</td>\n",
              "        <td style=\"padding-left: 1em; padding-right: 1em; text-align: center; vertical-align: top\">4754.0</td>\n",
              "        <td style=\"padding-left: 1em; padding-right: 1em; text-align: center; vertical-align: top\">1</td>\n",
              "    </tr>\n",
              "    <tr>\n",
              "        <td style=\"padding-left: 1em; padding-right: 1em; text-align: center; vertical-align: top\">c66c10a9567f0d82ff31441a9<br>fd5063e5cd9dfe8 ...</td>\n",
              "        <td style=\"padding-left: 1em; padding-right: 1em; text-align: center; vertical-align: top\">Undo - Björk</td>\n",
              "        <td style=\"padding-left: 1em; padding-right: 1em; text-align: center; vertical-align: top\">4227.0</td>\n",
              "        <td style=\"padding-left: 1em; padding-right: 1em; text-align: center; vertical-align: top\">2</td>\n",
              "    </tr>\n",
              "    <tr>\n",
              "        <td style=\"padding-left: 1em; padding-right: 1em; text-align: center; vertical-align: top\">c66c10a9567f0d82ff31441a9<br>fd5063e5cd9dfe8 ...</td>\n",
              "        <td style=\"padding-left: 1em; padding-right: 1em; text-align: center; vertical-align: top\">You&#x27;re The One - Dwight<br>Yoakam ...</td>\n",
              "        <td style=\"padding-left: 1em; padding-right: 1em; text-align: center; vertical-align: top\">3781.0</td>\n",
              "        <td style=\"padding-left: 1em; padding-right: 1em; text-align: center; vertical-align: top\">3</td>\n",
              "    </tr>\n",
              "    <tr>\n",
              "        <td style=\"padding-left: 1em; padding-right: 1em; text-align: center; vertical-align: top\">c66c10a9567f0d82ff31441a9<br>fd5063e5cd9dfe8 ...</td>\n",
              "        <td style=\"padding-left: 1em; padding-right: 1em; text-align: center; vertical-align: top\">Dog Days Are Over (Radio<br>Edit) - Florence + The ...</td>\n",
              "        <td style=\"padding-left: 1em; padding-right: 1em; text-align: center; vertical-align: top\">3633.0</td>\n",
              "        <td style=\"padding-left: 1em; padding-right: 1em; text-align: center; vertical-align: top\">4</td>\n",
              "    </tr>\n",
              "    <tr>\n",
              "        <td style=\"padding-left: 1em; padding-right: 1em; text-align: center; vertical-align: top\">c66c10a9567f0d82ff31441a9<br>fd5063e5cd9dfe8 ...</td>\n",
              "        <td style=\"padding-left: 1em; padding-right: 1em; text-align: center; vertical-align: top\">Revelry - Kings Of Leon</td>\n",
              "        <td style=\"padding-left: 1em; padding-right: 1em; text-align: center; vertical-align: top\">3527.0</td>\n",
              "        <td style=\"padding-left: 1em; padding-right: 1em; text-align: center; vertical-align: top\">5</td>\n",
              "    </tr>\n",
              "    <tr>\n",
              "        <td style=\"padding-left: 1em; padding-right: 1em; text-align: center; vertical-align: top\">c66c10a9567f0d82ff31441a9<br>fd5063e5cd9dfe8 ...</td>\n",
              "        <td style=\"padding-left: 1em; padding-right: 1em; text-align: center; vertical-align: top\">Horn Concerto No. 4 in E<br>flat K495: II. Romance ...</td>\n",
              "        <td style=\"padding-left: 1em; padding-right: 1em; text-align: center; vertical-align: top\">3161.0</td>\n",
              "        <td style=\"padding-left: 1em; padding-right: 1em; text-align: center; vertical-align: top\">6</td>\n",
              "    </tr>\n",
              "    <tr>\n",
              "        <td style=\"padding-left: 1em; padding-right: 1em; text-align: center; vertical-align: top\">c66c10a9567f0d82ff31441a9<br>fd5063e5cd9dfe8 ...</td>\n",
              "        <td style=\"padding-left: 1em; padding-right: 1em; text-align: center; vertical-align: top\">Secrets - OneRepublic</td>\n",
              "        <td style=\"padding-left: 1em; padding-right: 1em; text-align: center; vertical-align: top\">3148.0</td>\n",
              "        <td style=\"padding-left: 1em; padding-right: 1em; text-align: center; vertical-align: top\">7</td>\n",
              "    </tr>\n",
              "    <tr>\n",
              "        <td style=\"padding-left: 1em; padding-right: 1em; text-align: center; vertical-align: top\">c66c10a9567f0d82ff31441a9<br>fd5063e5cd9dfe8 ...</td>\n",
              "        <td style=\"padding-left: 1em; padding-right: 1em; text-align: center; vertical-align: top\">Fireflies - Charttraxx<br>Karaoke ...</td>\n",
              "        <td style=\"padding-left: 1em; padding-right: 1em; text-align: center; vertical-align: top\">2532.0</td>\n",
              "        <td style=\"padding-left: 1em; padding-right: 1em; text-align: center; vertical-align: top\">8</td>\n",
              "    </tr>\n",
              "    <tr>\n",
              "        <td style=\"padding-left: 1em; padding-right: 1em; text-align: center; vertical-align: top\">c66c10a9567f0d82ff31441a9<br>fd5063e5cd9dfe8 ...</td>\n",
              "        <td style=\"padding-left: 1em; padding-right: 1em; text-align: center; vertical-align: top\">Tive Sim - Cartola</td>\n",
              "        <td style=\"padding-left: 1em; padding-right: 1em; text-align: center; vertical-align: top\">2521.0</td>\n",
              "        <td style=\"padding-left: 1em; padding-right: 1em; text-align: center; vertical-align: top\">9</td>\n",
              "    </tr>\n",
              "    <tr>\n",
              "        <td style=\"padding-left: 1em; padding-right: 1em; text-align: center; vertical-align: top\">c66c10a9567f0d82ff31441a9<br>fd5063e5cd9dfe8 ...</td>\n",
              "        <td style=\"padding-left: 1em; padding-right: 1em; text-align: center; vertical-align: top\">Drop The World - Lil<br>Wayne / Eminem ...</td>\n",
              "        <td style=\"padding-left: 1em; padding-right: 1em; text-align: center; vertical-align: top\">2053.0</td>\n",
              "        <td style=\"padding-left: 1em; padding-right: 1em; text-align: center; vertical-align: top\">10</td>\n",
              "    </tr>\n",
              "</table>\n",
              "[10 rows x 4 columns]<br/>\n",
              "</div>"
            ],
            "text/plain": [
              "Columns:\n",
              "\tuser_id\tstr\n",
              "\tsong\tstr\n",
              "\tscore\tfloat\n",
              "\trank\tint\n",
              "\n",
              "Rows: 10\n",
              "\n",
              "Data:\n",
              "+-------------------------------+--------------------------------+--------+------+\n",
              "|            user_id            |              song              | score  | rank |\n",
              "+-------------------------------+--------------------------------+--------+------+\n",
              "| c66c10a9567f0d82ff31441a9f... |    Sehr kosmisch - Harmonia    | 4754.0 |  1   |\n",
              "| c66c10a9567f0d82ff31441a9f... |          Undo - Björk          | 4227.0 |  2   |\n",
              "| c66c10a9567f0d82ff31441a9f... | You're The One - Dwight Yoakam | 3781.0 |  3   |\n",
              "| c66c10a9567f0d82ff31441a9f... | Dog Days Are Over (Radio E...  | 3633.0 |  4   |\n",
              "| c66c10a9567f0d82ff31441a9f... |    Revelry - Kings Of Leon     | 3527.0 |  5   |\n",
              "| c66c10a9567f0d82ff31441a9f... | Horn Concerto No. 4 in E f...  | 3161.0 |  6   |\n",
              "| c66c10a9567f0d82ff31441a9f... |     Secrets - OneRepublic      | 3148.0 |  7   |\n",
              "| c66c10a9567f0d82ff31441a9f... | Fireflies - Charttraxx Karaoke | 2532.0 |  8   |\n",
              "| c66c10a9567f0d82ff31441a9f... |       Tive Sim - Cartola       | 2521.0 |  9   |\n",
              "| c66c10a9567f0d82ff31441a9f... | Drop The World - Lil Wayne...  | 2053.0 |  10  |\n",
              "+-------------------------------+--------------------------------+--------+------+\n",
              "[10 rows x 4 columns]"
            ]
          },
          "metadata": {},
          "execution_count": 12
        }
      ],
      "source": [
        "popularity_model.recommend(users=[users[0]])"
      ]
    },
    {
      "cell_type": "code",
      "execution_count": null,
      "metadata": {
        "colab": {
          "base_uri": "https://localhost:8080/",
          "height": 422
        },
        "id": "WOk6ttvklXyu",
        "outputId": "f25dadc4-b5cb-4b51-a64d-02e387919edd"
      },
      "outputs": [
        {
          "output_type": "execute_result",
          "data": {
            "text/html": [
              "<div style=\"max-height:1000px;max-width:1500px;overflow:auto;\"><table frame=\"box\" rules=\"cols\">\n",
              "    <tr>\n",
              "        <th style=\"padding-left: 1em; padding-right: 1em; text-align: center\">user_id</th>\n",
              "        <th style=\"padding-left: 1em; padding-right: 1em; text-align: center\">song</th>\n",
              "        <th style=\"padding-left: 1em; padding-right: 1em; text-align: center\">score</th>\n",
              "        <th style=\"padding-left: 1em; padding-right: 1em; text-align: center\">rank</th>\n",
              "    </tr>\n",
              "    <tr>\n",
              "        <td style=\"padding-left: 1em; padding-right: 1em; text-align: center; vertical-align: top\">02f015d32ac2cd1e52d26e3ec<br>36048711dd5711b ...</td>\n",
              "        <td style=\"padding-left: 1em; padding-right: 1em; text-align: center; vertical-align: top\">Sehr kosmisch - Harmonia</td>\n",
              "        <td style=\"padding-left: 1em; padding-right: 1em; text-align: center; vertical-align: top\">4754.0</td>\n",
              "        <td style=\"padding-left: 1em; padding-right: 1em; text-align: center; vertical-align: top\">1</td>\n",
              "    </tr>\n",
              "    <tr>\n",
              "        <td style=\"padding-left: 1em; padding-right: 1em; text-align: center; vertical-align: top\">02f015d32ac2cd1e52d26e3ec<br>36048711dd5711b ...</td>\n",
              "        <td style=\"padding-left: 1em; padding-right: 1em; text-align: center; vertical-align: top\">Undo - Björk</td>\n",
              "        <td style=\"padding-left: 1em; padding-right: 1em; text-align: center; vertical-align: top\">4227.0</td>\n",
              "        <td style=\"padding-left: 1em; padding-right: 1em; text-align: center; vertical-align: top\">2</td>\n",
              "    </tr>\n",
              "    <tr>\n",
              "        <td style=\"padding-left: 1em; padding-right: 1em; text-align: center; vertical-align: top\">02f015d32ac2cd1e52d26e3ec<br>36048711dd5711b ...</td>\n",
              "        <td style=\"padding-left: 1em; padding-right: 1em; text-align: center; vertical-align: top\">You&#x27;re The One - Dwight<br>Yoakam ...</td>\n",
              "        <td style=\"padding-left: 1em; padding-right: 1em; text-align: center; vertical-align: top\">3781.0</td>\n",
              "        <td style=\"padding-left: 1em; padding-right: 1em; text-align: center; vertical-align: top\">3</td>\n",
              "    </tr>\n",
              "    <tr>\n",
              "        <td style=\"padding-left: 1em; padding-right: 1em; text-align: center; vertical-align: top\">02f015d32ac2cd1e52d26e3ec<br>36048711dd5711b ...</td>\n",
              "        <td style=\"padding-left: 1em; padding-right: 1em; text-align: center; vertical-align: top\">Dog Days Are Over (Radio<br>Edit) - Florence + The ...</td>\n",
              "        <td style=\"padding-left: 1em; padding-right: 1em; text-align: center; vertical-align: top\">3633.0</td>\n",
              "        <td style=\"padding-left: 1em; padding-right: 1em; text-align: center; vertical-align: top\">4</td>\n",
              "    </tr>\n",
              "    <tr>\n",
              "        <td style=\"padding-left: 1em; padding-right: 1em; text-align: center; vertical-align: top\">02f015d32ac2cd1e52d26e3ec<br>36048711dd5711b ...</td>\n",
              "        <td style=\"padding-left: 1em; padding-right: 1em; text-align: center; vertical-align: top\">Revelry - Kings Of Leon</td>\n",
              "        <td style=\"padding-left: 1em; padding-right: 1em; text-align: center; vertical-align: top\">3527.0</td>\n",
              "        <td style=\"padding-left: 1em; padding-right: 1em; text-align: center; vertical-align: top\">5</td>\n",
              "    </tr>\n",
              "    <tr>\n",
              "        <td style=\"padding-left: 1em; padding-right: 1em; text-align: center; vertical-align: top\">02f015d32ac2cd1e52d26e3ec<br>36048711dd5711b ...</td>\n",
              "        <td style=\"padding-left: 1em; padding-right: 1em; text-align: center; vertical-align: top\">Horn Concerto No. 4 in E<br>flat K495: II. Romance ...</td>\n",
              "        <td style=\"padding-left: 1em; padding-right: 1em; text-align: center; vertical-align: top\">3161.0</td>\n",
              "        <td style=\"padding-left: 1em; padding-right: 1em; text-align: center; vertical-align: top\">6</td>\n",
              "    </tr>\n",
              "    <tr>\n",
              "        <td style=\"padding-left: 1em; padding-right: 1em; text-align: center; vertical-align: top\">02f015d32ac2cd1e52d26e3ec<br>36048711dd5711b ...</td>\n",
              "        <td style=\"padding-left: 1em; padding-right: 1em; text-align: center; vertical-align: top\">Secrets - OneRepublic</td>\n",
              "        <td style=\"padding-left: 1em; padding-right: 1em; text-align: center; vertical-align: top\">3148.0</td>\n",
              "        <td style=\"padding-left: 1em; padding-right: 1em; text-align: center; vertical-align: top\">7</td>\n",
              "    </tr>\n",
              "    <tr>\n",
              "        <td style=\"padding-left: 1em; padding-right: 1em; text-align: center; vertical-align: top\">02f015d32ac2cd1e52d26e3ec<br>36048711dd5711b ...</td>\n",
              "        <td style=\"padding-left: 1em; padding-right: 1em; text-align: center; vertical-align: top\">Hey_ Soul Sister - Train</td>\n",
              "        <td style=\"padding-left: 1em; padding-right: 1em; text-align: center; vertical-align: top\">2538.0</td>\n",
              "        <td style=\"padding-left: 1em; padding-right: 1em; text-align: center; vertical-align: top\">8</td>\n",
              "    </tr>\n",
              "    <tr>\n",
              "        <td style=\"padding-left: 1em; padding-right: 1em; text-align: center; vertical-align: top\">02f015d32ac2cd1e52d26e3ec<br>36048711dd5711b ...</td>\n",
              "        <td style=\"padding-left: 1em; padding-right: 1em; text-align: center; vertical-align: top\">Fireflies - Charttraxx<br>Karaoke ...</td>\n",
              "        <td style=\"padding-left: 1em; padding-right: 1em; text-align: center; vertical-align: top\">2532.0</td>\n",
              "        <td style=\"padding-left: 1em; padding-right: 1em; text-align: center; vertical-align: top\">9</td>\n",
              "    </tr>\n",
              "    <tr>\n",
              "        <td style=\"padding-left: 1em; padding-right: 1em; text-align: center; vertical-align: top\">02f015d32ac2cd1e52d26e3ec<br>36048711dd5711b ...</td>\n",
              "        <td style=\"padding-left: 1em; padding-right: 1em; text-align: center; vertical-align: top\">Tive Sim - Cartola</td>\n",
              "        <td style=\"padding-left: 1em; padding-right: 1em; text-align: center; vertical-align: top\">2521.0</td>\n",
              "        <td style=\"padding-left: 1em; padding-right: 1em; text-align: center; vertical-align: top\">10</td>\n",
              "    </tr>\n",
              "</table>\n",
              "[10 rows x 4 columns]<br/>\n",
              "</div>"
            ],
            "text/plain": [
              "Columns:\n",
              "\tuser_id\tstr\n",
              "\tsong\tstr\n",
              "\tscore\tfloat\n",
              "\trank\tint\n",
              "\n",
              "Rows: 10\n",
              "\n",
              "Data:\n",
              "+-------------------------------+--------------------------------+--------+------+\n",
              "|            user_id            |              song              | score  | rank |\n",
              "+-------------------------------+--------------------------------+--------+------+\n",
              "| 02f015d32ac2cd1e52d26e3ec3... |    Sehr kosmisch - Harmonia    | 4754.0 |  1   |\n",
              "| 02f015d32ac2cd1e52d26e3ec3... |          Undo - Björk          | 4227.0 |  2   |\n",
              "| 02f015d32ac2cd1e52d26e3ec3... | You're The One - Dwight Yoakam | 3781.0 |  3   |\n",
              "| 02f015d32ac2cd1e52d26e3ec3... | Dog Days Are Over (Radio E...  | 3633.0 |  4   |\n",
              "| 02f015d32ac2cd1e52d26e3ec3... |    Revelry - Kings Of Leon     | 3527.0 |  5   |\n",
              "| 02f015d32ac2cd1e52d26e3ec3... | Horn Concerto No. 4 in E f...  | 3161.0 |  6   |\n",
              "| 02f015d32ac2cd1e52d26e3ec3... |     Secrets - OneRepublic      | 3148.0 |  7   |\n",
              "| 02f015d32ac2cd1e52d26e3ec3... |    Hey_ Soul Sister - Train    | 2538.0 |  8   |\n",
              "| 02f015d32ac2cd1e52d26e3ec3... | Fireflies - Charttraxx Karaoke | 2532.0 |  9   |\n",
              "| 02f015d32ac2cd1e52d26e3ec3... |       Tive Sim - Cartola       | 2521.0 |  10  |\n",
              "+-------------------------------+--------------------------------+--------+------+\n",
              "[10 rows x 4 columns]"
            ]
          },
          "metadata": {},
          "execution_count": 13
        }
      ],
      "source": [
        "popularity_model.recommend(users=[users[1]])"
      ]
    },
    {
      "cell_type": "code",
      "execution_count": null,
      "metadata": {
        "colab": {
          "base_uri": "https://localhost:8080/",
          "height": 422
        },
        "id": "QzlkSYxhloVj",
        "outputId": "2e7b1a8d-123a-4a38-b6ed-1693d19b8832"
      },
      "outputs": [
        {
          "output_type": "execute_result",
          "data": {
            "text/html": [
              "<div style=\"max-height:1000px;max-width:1500px;overflow:auto;\"><table frame=\"box\" rules=\"cols\">\n",
              "    <tr>\n",
              "        <th style=\"padding-left: 1em; padding-right: 1em; text-align: center\">user_id</th>\n",
              "        <th style=\"padding-left: 1em; padding-right: 1em; text-align: center\">song</th>\n",
              "        <th style=\"padding-left: 1em; padding-right: 1em; text-align: center\">score</th>\n",
              "        <th style=\"padding-left: 1em; padding-right: 1em; text-align: center\">rank</th>\n",
              "    </tr>\n",
              "    <tr>\n",
              "        <td style=\"padding-left: 1em; padding-right: 1em; text-align: center; vertical-align: top\">87e8797703f2f705763d9d28a<br>07c266a8af28ac6 ...</td>\n",
              "        <td style=\"padding-left: 1em; padding-right: 1em; text-align: center; vertical-align: top\">Undo - Björk</td>\n",
              "        <td style=\"padding-left: 1em; padding-right: 1em; text-align: center; vertical-align: top\">4227.0</td>\n",
              "        <td style=\"padding-left: 1em; padding-right: 1em; text-align: center; vertical-align: top\">1</td>\n",
              "    </tr>\n",
              "    <tr>\n",
              "        <td style=\"padding-left: 1em; padding-right: 1em; text-align: center; vertical-align: top\">87e8797703f2f705763d9d28a<br>07c266a8af28ac6 ...</td>\n",
              "        <td style=\"padding-left: 1em; padding-right: 1em; text-align: center; vertical-align: top\">You&#x27;re The One - Dwight<br>Yoakam ...</td>\n",
              "        <td style=\"padding-left: 1em; padding-right: 1em; text-align: center; vertical-align: top\">3781.0</td>\n",
              "        <td style=\"padding-left: 1em; padding-right: 1em; text-align: center; vertical-align: top\">2</td>\n",
              "    </tr>\n",
              "    <tr>\n",
              "        <td style=\"padding-left: 1em; padding-right: 1em; text-align: center; vertical-align: top\">87e8797703f2f705763d9d28a<br>07c266a8af28ac6 ...</td>\n",
              "        <td style=\"padding-left: 1em; padding-right: 1em; text-align: center; vertical-align: top\">Dog Days Are Over (Radio<br>Edit) - Florence + The ...</td>\n",
              "        <td style=\"padding-left: 1em; padding-right: 1em; text-align: center; vertical-align: top\">3633.0</td>\n",
              "        <td style=\"padding-left: 1em; padding-right: 1em; text-align: center; vertical-align: top\">3</td>\n",
              "    </tr>\n",
              "    <tr>\n",
              "        <td style=\"padding-left: 1em; padding-right: 1em; text-align: center; vertical-align: top\">87e8797703f2f705763d9d28a<br>07c266a8af28ac6 ...</td>\n",
              "        <td style=\"padding-left: 1em; padding-right: 1em; text-align: center; vertical-align: top\">Revelry - Kings Of Leon</td>\n",
              "        <td style=\"padding-left: 1em; padding-right: 1em; text-align: center; vertical-align: top\">3527.0</td>\n",
              "        <td style=\"padding-left: 1em; padding-right: 1em; text-align: center; vertical-align: top\">4</td>\n",
              "    </tr>\n",
              "    <tr>\n",
              "        <td style=\"padding-left: 1em; padding-right: 1em; text-align: center; vertical-align: top\">87e8797703f2f705763d9d28a<br>07c266a8af28ac6 ...</td>\n",
              "        <td style=\"padding-left: 1em; padding-right: 1em; text-align: center; vertical-align: top\">Horn Concerto No. 4 in E<br>flat K495: II. Romance ...</td>\n",
              "        <td style=\"padding-left: 1em; padding-right: 1em; text-align: center; vertical-align: top\">3161.0</td>\n",
              "        <td style=\"padding-left: 1em; padding-right: 1em; text-align: center; vertical-align: top\">5</td>\n",
              "    </tr>\n",
              "    <tr>\n",
              "        <td style=\"padding-left: 1em; padding-right: 1em; text-align: center; vertical-align: top\">87e8797703f2f705763d9d28a<br>07c266a8af28ac6 ...</td>\n",
              "        <td style=\"padding-left: 1em; padding-right: 1em; text-align: center; vertical-align: top\">Secrets - OneRepublic</td>\n",
              "        <td style=\"padding-left: 1em; padding-right: 1em; text-align: center; vertical-align: top\">3148.0</td>\n",
              "        <td style=\"padding-left: 1em; padding-right: 1em; text-align: center; vertical-align: top\">6</td>\n",
              "    </tr>\n",
              "    <tr>\n",
              "        <td style=\"padding-left: 1em; padding-right: 1em; text-align: center; vertical-align: top\">87e8797703f2f705763d9d28a<br>07c266a8af28ac6 ...</td>\n",
              "        <td style=\"padding-left: 1em; padding-right: 1em; text-align: center; vertical-align: top\">Hey_ Soul Sister - Train</td>\n",
              "        <td style=\"padding-left: 1em; padding-right: 1em; text-align: center; vertical-align: top\">2538.0</td>\n",
              "        <td style=\"padding-left: 1em; padding-right: 1em; text-align: center; vertical-align: top\">7</td>\n",
              "    </tr>\n",
              "    <tr>\n",
              "        <td style=\"padding-left: 1em; padding-right: 1em; text-align: center; vertical-align: top\">87e8797703f2f705763d9d28a<br>07c266a8af28ac6 ...</td>\n",
              "        <td style=\"padding-left: 1em; padding-right: 1em; text-align: center; vertical-align: top\">Fireflies - Charttraxx<br>Karaoke ...</td>\n",
              "        <td style=\"padding-left: 1em; padding-right: 1em; text-align: center; vertical-align: top\">2532.0</td>\n",
              "        <td style=\"padding-left: 1em; padding-right: 1em; text-align: center; vertical-align: top\">8</td>\n",
              "    </tr>\n",
              "    <tr>\n",
              "        <td style=\"padding-left: 1em; padding-right: 1em; text-align: center; vertical-align: top\">87e8797703f2f705763d9d28a<br>07c266a8af28ac6 ...</td>\n",
              "        <td style=\"padding-left: 1em; padding-right: 1em; text-align: center; vertical-align: top\">Tive Sim - Cartola</td>\n",
              "        <td style=\"padding-left: 1em; padding-right: 1em; text-align: center; vertical-align: top\">2521.0</td>\n",
              "        <td style=\"padding-left: 1em; padding-right: 1em; text-align: center; vertical-align: top\">9</td>\n",
              "    </tr>\n",
              "    <tr>\n",
              "        <td style=\"padding-left: 1em; padding-right: 1em; text-align: center; vertical-align: top\">87e8797703f2f705763d9d28a<br>07c266a8af28ac6 ...</td>\n",
              "        <td style=\"padding-left: 1em; padding-right: 1em; text-align: center; vertical-align: top\">Drop The World - Lil<br>Wayne / Eminem ...</td>\n",
              "        <td style=\"padding-left: 1em; padding-right: 1em; text-align: center; vertical-align: top\">2053.0</td>\n",
              "        <td style=\"padding-left: 1em; padding-right: 1em; text-align: center; vertical-align: top\">10</td>\n",
              "    </tr>\n",
              "</table>\n",
              "[10 rows x 4 columns]<br/>\n",
              "</div>"
            ],
            "text/plain": [
              "Columns:\n",
              "\tuser_id\tstr\n",
              "\tsong\tstr\n",
              "\tscore\tfloat\n",
              "\trank\tint\n",
              "\n",
              "Rows: 10\n",
              "\n",
              "Data:\n",
              "+-------------------------------+--------------------------------+--------+------+\n",
              "|            user_id            |              song              | score  | rank |\n",
              "+-------------------------------+--------------------------------+--------+------+\n",
              "| 87e8797703f2f705763d9d28a0... |          Undo - Björk          | 4227.0 |  1   |\n",
              "| 87e8797703f2f705763d9d28a0... | You're The One - Dwight Yoakam | 3781.0 |  2   |\n",
              "| 87e8797703f2f705763d9d28a0... | Dog Days Are Over (Radio E...  | 3633.0 |  3   |\n",
              "| 87e8797703f2f705763d9d28a0... |    Revelry - Kings Of Leon     | 3527.0 |  4   |\n",
              "| 87e8797703f2f705763d9d28a0... | Horn Concerto No. 4 in E f...  | 3161.0 |  5   |\n",
              "| 87e8797703f2f705763d9d28a0... |     Secrets - OneRepublic      | 3148.0 |  6   |\n",
              "| 87e8797703f2f705763d9d28a0... |    Hey_ Soul Sister - Train    | 2538.0 |  7   |\n",
              "| 87e8797703f2f705763d9d28a0... | Fireflies - Charttraxx Karaoke | 2532.0 |  8   |\n",
              "| 87e8797703f2f705763d9d28a0... |       Tive Sim - Cartola       | 2521.0 |  9   |\n",
              "| 87e8797703f2f705763d9d28a0... | Drop The World - Lil Wayne...  | 2053.0 |  10  |\n",
              "+-------------------------------+--------------------------------+--------+------+\n",
              "[10 rows x 4 columns]"
            ]
          },
          "metadata": {},
          "execution_count": 14
        }
      ],
      "source": [
        "popularity_model.recommend(users=[users[52]])"
      ]
    },
    {
      "cell_type": "markdown",
      "source": [
        "# Build a recommender with personalization"
      ],
      "metadata": {
        "id": "xiOzTgEQrCH_"
      }
    },
    {
      "cell_type": "code",
      "execution_count": null,
      "metadata": {
        "id": "jVhywBoulxfl"
      },
      "outputs": [],
      "source": [
        "# based upon the popularity the recomanded data goes to similer for everyone..."
      ]
    },
    {
      "cell_type": "code",
      "execution_count": null,
      "metadata": {
        "id": "dKBHoYjemFsH"
      },
      "outputs": [],
      "source": [
        "#building our recomander system based upon the personalisation..."
      ]
    },
    {
      "cell_type": "code",
      "execution_count": null,
      "metadata": {
        "colab": {
          "base_uri": "https://localhost:8080/",
          "height": 451
        },
        "id": "3WTAtTl_ms24",
        "outputId": "b97abac2-421a-4b71-d674-0b1992e83848"
      },
      "outputs": [
        {
          "output_type": "display_data",
          "data": {
            "text/html": [
              "<pre>Warning: Ignoring columns song_id, listen_count, title, artist;</pre>"
            ],
            "text/plain": [
              "Warning: Ignoring columns song_id, listen_count, title, artist;"
            ]
          },
          "metadata": {}
        },
        {
          "output_type": "display_data",
          "data": {
            "text/html": [
              "<pre> To use one of these as a rating column, specify the column name to be used as target</pre>"
            ],
            "text/plain": [
              " To use one of these as a rating column, specify the column name to be used as target"
            ]
          },
          "metadata": {}
        },
        {
          "output_type": "display_data",
          "data": {
            "text/html": [
              "<pre>    and use a method that allows the use of a target.</pre>"
            ],
            "text/plain": [
              "    and use a method that allows the use of a target."
            ]
          },
          "metadata": {}
        },
        {
          "output_type": "display_data",
          "data": {
            "text/html": [
              "<pre>Preparing data set.</pre>"
            ],
            "text/plain": [
              "Preparing data set."
            ]
          },
          "metadata": {}
        },
        {
          "output_type": "display_data",
          "data": {
            "text/html": [
              "<pre>    Data has 893580 observations with 66085 users and 9952 items.</pre>"
            ],
            "text/plain": [
              "    Data has 893580 observations with 66085 users and 9952 items."
            ]
          },
          "metadata": {}
        },
        {
          "output_type": "display_data",
          "data": {
            "text/html": [
              "<pre>    Data prepared in: 1.47871s</pre>"
            ],
            "text/plain": [
              "    Data prepared in: 1.47871s"
            ]
          },
          "metadata": {}
        },
        {
          "output_type": "display_data",
          "data": {
            "text/html": [
              "<pre>Training model from provided data.</pre>"
            ],
            "text/plain": [
              "Training model from provided data."
            ]
          },
          "metadata": {}
        },
        {
          "output_type": "display_data",
          "data": {
            "text/html": [
              "<pre>Gathering per-item and per-user statistics.</pre>"
            ],
            "text/plain": [
              "Gathering per-item and per-user statistics."
            ]
          },
          "metadata": {}
        },
        {
          "output_type": "display_data",
          "data": {
            "text/html": [
              "<pre>+--------------------------------+------------+</pre>"
            ],
            "text/plain": [
              "+--------------------------------+------------+"
            ]
          },
          "metadata": {}
        },
        {
          "output_type": "display_data",
          "data": {
            "text/html": [
              "<pre>| Elapsed Time (Item Statistics) | % Complete |</pre>"
            ],
            "text/plain": [
              "| Elapsed Time (Item Statistics) | % Complete |"
            ]
          },
          "metadata": {}
        },
        {
          "output_type": "display_data",
          "data": {
            "text/html": [
              "<pre>+--------------------------------+------------+</pre>"
            ],
            "text/plain": [
              "+--------------------------------+------------+"
            ]
          },
          "metadata": {}
        },
        {
          "output_type": "display_data",
          "data": {
            "text/html": [
              "<pre>| 1.253ms                        | 1.5        |</pre>"
            ],
            "text/plain": [
              "| 1.253ms                        | 1.5        |"
            ]
          },
          "metadata": {}
        },
        {
          "output_type": "display_data",
          "data": {
            "text/html": [
              "<pre>| 51.466ms                       | 100        |</pre>"
            ],
            "text/plain": [
              "| 51.466ms                       | 100        |"
            ]
          },
          "metadata": {}
        },
        {
          "output_type": "display_data",
          "data": {
            "text/html": [
              "<pre>+--------------------------------+------------+</pre>"
            ],
            "text/plain": [
              "+--------------------------------+------------+"
            ]
          },
          "metadata": {}
        },
        {
          "output_type": "display_data",
          "data": {
            "text/html": [
              "<pre>Setting up lookup tables.</pre>"
            ],
            "text/plain": [
              "Setting up lookup tables."
            ]
          },
          "metadata": {}
        },
        {
          "output_type": "display_data",
          "data": {
            "text/html": [
              "<pre>Processing data in one pass using dense lookup tables.</pre>"
            ],
            "text/plain": [
              "Processing data in one pass using dense lookup tables."
            ]
          },
          "metadata": {}
        },
        {
          "output_type": "display_data",
          "data": {
            "text/html": [
              "<pre>+-------------------------------------+------------------+-----------------+</pre>"
            ],
            "text/plain": [
              "+-------------------------------------+------------------+-----------------+"
            ]
          },
          "metadata": {}
        },
        {
          "output_type": "display_data",
          "data": {
            "text/html": [
              "<pre>| Elapsed Time (Constructing Lookups) | Total % Complete | Items Processed |</pre>"
            ],
            "text/plain": [
              "| Elapsed Time (Constructing Lookups) | Total % Complete | Items Processed |"
            ]
          },
          "metadata": {}
        },
        {
          "output_type": "display_data",
          "data": {
            "text/html": [
              "<pre>+-------------------------------------+------------------+-----------------+</pre>"
            ],
            "text/plain": [
              "+-------------------------------------+------------------+-----------------+"
            ]
          },
          "metadata": {}
        },
        {
          "output_type": "display_data",
          "data": {
            "text/html": [
              "<pre>| 282.294ms                           | 0                | 0               |</pre>"
            ],
            "text/plain": [
              "| 282.294ms                           | 0                | 0               |"
            ]
          },
          "metadata": {}
        },
        {
          "output_type": "display_data",
          "data": {
            "text/html": [
              "<pre>| 1.95s                               | 100              | 9952            |</pre>"
            ],
            "text/plain": [
              "| 1.95s                               | 100              | 9952            |"
            ]
          },
          "metadata": {}
        },
        {
          "output_type": "display_data",
          "data": {
            "text/html": [
              "<pre>+-------------------------------------+------------------+-----------------+</pre>"
            ],
            "text/plain": [
              "+-------------------------------------+------------------+-----------------+"
            ]
          },
          "metadata": {}
        },
        {
          "output_type": "display_data",
          "data": {
            "text/html": [
              "<pre>Finalizing lookup tables.</pre>"
            ],
            "text/plain": [
              "Finalizing lookup tables."
            ]
          },
          "metadata": {}
        },
        {
          "output_type": "display_data",
          "data": {
            "text/html": [
              "<pre>Generating candidate set for working with new users.</pre>"
            ],
            "text/plain": [
              "Generating candidate set for working with new users."
            ]
          },
          "metadata": {}
        },
        {
          "output_type": "display_data",
          "data": {
            "text/html": [
              "<pre>Finished training in 3.03499s</pre>"
            ],
            "text/plain": [
              "Finished training in 3.03499s"
            ]
          },
          "metadata": {}
        }
      ],
      "source": [
        "personalised_recomander_model=turicreate.item_similarity_recommender.create(train_data,user_id='user_id',item_id='song')"
      ]
    },
    {
      "cell_type": "markdown",
      "source": [
        "# Apply personalized model to make song recommendations"
      ],
      "metadata": {
        "id": "FGPQPyZNrQJt"
      }
    },
    {
      "cell_type": "code",
      "execution_count": null,
      "metadata": {
        "colab": {
          "base_uri": "https://localhost:8080/",
          "height": 422
        },
        "id": "Jy-qJPknnGIM",
        "outputId": "0a0ebf19-3e87-4ac3-caf8-8c4d8a43462b"
      },
      "outputs": [
        {
          "output_type": "execute_result",
          "data": {
            "text/html": [
              "<div style=\"max-height:1000px;max-width:1500px;overflow:auto;\"><table frame=\"box\" rules=\"cols\">\n",
              "    <tr>\n",
              "        <th style=\"padding-left: 1em; padding-right: 1em; text-align: center\">user_id</th>\n",
              "        <th style=\"padding-left: 1em; padding-right: 1em; text-align: center\">song</th>\n",
              "        <th style=\"padding-left: 1em; padding-right: 1em; text-align: center\">score</th>\n",
              "        <th style=\"padding-left: 1em; padding-right: 1em; text-align: center\">rank</th>\n",
              "    </tr>\n",
              "    <tr>\n",
              "        <td style=\"padding-left: 1em; padding-right: 1em; text-align: center; vertical-align: top\">c66c10a9567f0d82ff31441a9<br>fd5063e5cd9dfe8 ...</td>\n",
              "        <td style=\"padding-left: 1em; padding-right: 1em; text-align: center; vertical-align: top\">Cuando Pase El Temblor -<br>Soda Stereo ...</td>\n",
              "        <td style=\"padding-left: 1em; padding-right: 1em; text-align: center; vertical-align: top\">0.019450453611520622</td>\n",
              "        <td style=\"padding-left: 1em; padding-right: 1em; text-align: center; vertical-align: top\">1</td>\n",
              "    </tr>\n",
              "    <tr>\n",
              "        <td style=\"padding-left: 1em; padding-right: 1em; text-align: center; vertical-align: top\">c66c10a9567f0d82ff31441a9<br>fd5063e5cd9dfe8 ...</td>\n",
              "        <td style=\"padding-left: 1em; padding-right: 1em; text-align: center; vertical-align: top\">Fireflies - Charttraxx<br>Karaoke ...</td>\n",
              "        <td style=\"padding-left: 1em; padding-right: 1em; text-align: center; vertical-align: top\">0.014473731701190654</td>\n",
              "        <td style=\"padding-left: 1em; padding-right: 1em; text-align: center; vertical-align: top\">2</td>\n",
              "    </tr>\n",
              "    <tr>\n",
              "        <td style=\"padding-left: 1em; padding-right: 1em; text-align: center; vertical-align: top\">c66c10a9567f0d82ff31441a9<br>fd5063e5cd9dfe8 ...</td>\n",
              "        <td style=\"padding-left: 1em; padding-right: 1em; text-align: center; vertical-align: top\">Love Is A Losing Game -<br>Amy Winehouse ...</td>\n",
              "        <td style=\"padding-left: 1em; padding-right: 1em; text-align: center; vertical-align: top\">0.014286596041459303</td>\n",
              "        <td style=\"padding-left: 1em; padding-right: 1em; text-align: center; vertical-align: top\">3</td>\n",
              "    </tr>\n",
              "    <tr>\n",
              "        <td style=\"padding-left: 1em; padding-right: 1em; text-align: center; vertical-align: top\">c66c10a9567f0d82ff31441a9<br>fd5063e5cd9dfe8 ...</td>\n",
              "        <td style=\"padding-left: 1em; padding-right: 1em; text-align: center; vertical-align: top\">Marry Me - Train</td>\n",
              "        <td style=\"padding-left: 1em; padding-right: 1em; text-align: center; vertical-align: top\">0.014133471709031325</td>\n",
              "        <td style=\"padding-left: 1em; padding-right: 1em; text-align: center; vertical-align: top\">4</td>\n",
              "    </tr>\n",
              "    <tr>\n",
              "        <td style=\"padding-left: 1em; padding-right: 1em; text-align: center; vertical-align: top\">c66c10a9567f0d82ff31441a9<br>fd5063e5cd9dfe8 ...</td>\n",
              "        <td style=\"padding-left: 1em; padding-right: 1em; text-align: center; vertical-align: top\">Secrets - OneRepublic</td>\n",
              "        <td style=\"padding-left: 1em; padding-right: 1em; text-align: center; vertical-align: top\">0.013591665488023024</td>\n",
              "        <td style=\"padding-left: 1em; padding-right: 1em; text-align: center; vertical-align: top\">5</td>\n",
              "    </tr>\n",
              "    <tr>\n",
              "        <td style=\"padding-left: 1em; padding-right: 1em; text-align: center; vertical-align: top\">c66c10a9567f0d82ff31441a9<br>fd5063e5cd9dfe8 ...</td>\n",
              "        <td style=\"padding-left: 1em; padding-right: 1em; text-align: center; vertical-align: top\">Sehr kosmisch - Harmonia</td>\n",
              "        <td style=\"padding-left: 1em; padding-right: 1em; text-align: center; vertical-align: top\">0.013398789442502536</td>\n",
              "        <td style=\"padding-left: 1em; padding-right: 1em; text-align: center; vertical-align: top\">6</td>\n",
              "    </tr>\n",
              "    <tr>\n",
              "        <td style=\"padding-left: 1em; padding-right: 1em; text-align: center; vertical-align: top\">c66c10a9567f0d82ff31441a9<br>fd5063e5cd9dfe8 ...</td>\n",
              "        <td style=\"padding-left: 1em; padding-right: 1em; text-align: center; vertical-align: top\">Te Hacen Falta Vitaminas<br>- Soda Stereo ...</td>\n",
              "        <td style=\"padding-left: 1em; padding-right: 1em; text-align: center; vertical-align: top\">0.01293028317964994</td>\n",
              "        <td style=\"padding-left: 1em; padding-right: 1em; text-align: center; vertical-align: top\">7</td>\n",
              "    </tr>\n",
              "    <tr>\n",
              "        <td style=\"padding-left: 1em; padding-right: 1em; text-align: center; vertical-align: top\">c66c10a9567f0d82ff31441a9<br>fd5063e5cd9dfe8 ...</td>\n",
              "        <td style=\"padding-left: 1em; padding-right: 1em; text-align: center; vertical-align: top\">OMG - Usher featuring<br>will.i.am ...</td>\n",
              "        <td style=\"padding-left: 1em; padding-right: 1em; text-align: center; vertical-align: top\">0.012777828253232516</td>\n",
              "        <td style=\"padding-left: 1em; padding-right: 1em; text-align: center; vertical-align: top\">8</td>\n",
              "    </tr>\n",
              "    <tr>\n",
              "        <td style=\"padding-left: 1em; padding-right: 1em; text-align: center; vertical-align: top\">c66c10a9567f0d82ff31441a9<br>fd5063e5cd9dfe8 ...</td>\n",
              "        <td style=\"padding-left: 1em; padding-right: 1em; text-align: center; vertical-align: top\">Y solo se me ocurre<br>amarte (Unplugged) - ...</td>\n",
              "        <td style=\"padding-left: 1em; padding-right: 1em; text-align: center; vertical-align: top\">0.012341127945826603</td>\n",
              "        <td style=\"padding-left: 1em; padding-right: 1em; text-align: center; vertical-align: top\">9</td>\n",
              "    </tr>\n",
              "    <tr>\n",
              "        <td style=\"padding-left: 1em; padding-right: 1em; text-align: center; vertical-align: top\">c66c10a9567f0d82ff31441a9<br>fd5063e5cd9dfe8 ...</td>\n",
              "        <td style=\"padding-left: 1em; padding-right: 1em; text-align: center; vertical-align: top\">No Dejes Que... -<br>Caifanes ...</td>\n",
              "        <td style=\"padding-left: 1em; padding-right: 1em; text-align: center; vertical-align: top\">0.012104249917543851</td>\n",
              "        <td style=\"padding-left: 1em; padding-right: 1em; text-align: center; vertical-align: top\">10</td>\n",
              "    </tr>\n",
              "</table>\n",
              "[10 rows x 4 columns]<br/>\n",
              "</div>"
            ],
            "text/plain": [
              "Columns:\n",
              "\tuser_id\tstr\n",
              "\tsong\tstr\n",
              "\tscore\tfloat\n",
              "\trank\tint\n",
              "\n",
              "Rows: 10\n",
              "\n",
              "Data:\n",
              "+-------------------------------+--------------------------------+\n",
              "|            user_id            |              song              |\n",
              "+-------------------------------+--------------------------------+\n",
              "| c66c10a9567f0d82ff31441a9f... | Cuando Pase El Temblor - S...  |\n",
              "| c66c10a9567f0d82ff31441a9f... | Fireflies - Charttraxx Karaoke |\n",
              "| c66c10a9567f0d82ff31441a9f... | Love Is A Losing Game - Am...  |\n",
              "| c66c10a9567f0d82ff31441a9f... |        Marry Me - Train        |\n",
              "| c66c10a9567f0d82ff31441a9f... |     Secrets - OneRepublic      |\n",
              "| c66c10a9567f0d82ff31441a9f... |    Sehr kosmisch - Harmonia    |\n",
              "| c66c10a9567f0d82ff31441a9f... | Te Hacen Falta Vitaminas -...  |\n",
              "| c66c10a9567f0d82ff31441a9f... | OMG - Usher featuring will...  |\n",
              "| c66c10a9567f0d82ff31441a9f... | Y solo se me ocurre amarte...  |\n",
              "| c66c10a9567f0d82ff31441a9f... |   No Dejes Que... - Caifanes   |\n",
              "+-------------------------------+--------------------------------+\n",
              "+----------------------+------+\n",
              "|        score         | rank |\n",
              "+----------------------+------+\n",
              "| 0.019450453611520622 |  1   |\n",
              "| 0.014473731701190654 |  2   |\n",
              "| 0.014286596041459303 |  3   |\n",
              "| 0.014133471709031325 |  4   |\n",
              "| 0.013591665488023024 |  5   |\n",
              "| 0.013398789442502536 |  6   |\n",
              "| 0.01293028317964994  |  7   |\n",
              "| 0.012777828253232516 |  8   |\n",
              "| 0.012341127945826603 |  9   |\n",
              "| 0.012104249917543851 |  10  |\n",
              "+----------------------+------+\n",
              "[10 rows x 4 columns]"
            ]
          },
          "metadata": {},
          "execution_count": 18
        }
      ],
      "source": [
        "personalised_recomander_model.recommend(users=[users[0]])"
      ]
    },
    {
      "cell_type": "code",
      "execution_count": null,
      "metadata": {
        "colab": {
          "base_uri": "https://localhost:8080/",
          "height": 422
        },
        "id": "4LLhV0aqnPeI",
        "outputId": "3e1e6180-f344-49e2-ce13-201ad40c3534"
      },
      "outputs": [
        {
          "output_type": "execute_result",
          "data": {
            "text/html": [
              "<div style=\"max-height:1000px;max-width:1500px;overflow:auto;\"><table frame=\"box\" rules=\"cols\">\n",
              "    <tr>\n",
              "        <th style=\"padding-left: 1em; padding-right: 1em; text-align: center\">user_id</th>\n",
              "        <th style=\"padding-left: 1em; padding-right: 1em; text-align: center\">song</th>\n",
              "        <th style=\"padding-left: 1em; padding-right: 1em; text-align: center\">score</th>\n",
              "        <th style=\"padding-left: 1em; padding-right: 1em; text-align: center\">rank</th>\n",
              "    </tr>\n",
              "    <tr>\n",
              "        <td style=\"padding-left: 1em; padding-right: 1em; text-align: center; vertical-align: top\">02f015d32ac2cd1e52d26e3ec<br>36048711dd5711b ...</td>\n",
              "        <td style=\"padding-left: 1em; padding-right: 1em; text-align: center; vertical-align: top\">Where The Boat Leaves<br>From (Album) - Zac Brown ...</td>\n",
              "        <td style=\"padding-left: 1em; padding-right: 1em; text-align: center; vertical-align: top\">0.06153608858585358</td>\n",
              "        <td style=\"padding-left: 1em; padding-right: 1em; text-align: center; vertical-align: top\">1</td>\n",
              "    </tr>\n",
              "    <tr>\n",
              "        <td style=\"padding-left: 1em; padding-right: 1em; text-align: center; vertical-align: top\">02f015d32ac2cd1e52d26e3ec<br>36048711dd5711b ...</td>\n",
              "        <td style=\"padding-left: 1em; padding-right: 1em; text-align: center; vertical-align: top\">Different Kind Of Fine<br>(Album) - Zac Brown Band ...</td>\n",
              "        <td style=\"padding-left: 1em; padding-right: 1em; text-align: center; vertical-align: top\">0.06052837520837784</td>\n",
              "        <td style=\"padding-left: 1em; padding-right: 1em; text-align: center; vertical-align: top\">2</td>\n",
              "    </tr>\n",
              "    <tr>\n",
              "        <td style=\"padding-left: 1em; padding-right: 1em; text-align: center; vertical-align: top\">02f015d32ac2cd1e52d26e3ec<br>36048711dd5711b ...</td>\n",
              "        <td style=\"padding-left: 1em; padding-right: 1em; text-align: center; vertical-align: top\">Jolene (Album) - Zac<br>Brown Band ...</td>\n",
              "        <td style=\"padding-left: 1em; padding-right: 1em; text-align: center; vertical-align: top\">0.05786820501089096</td>\n",
              "        <td style=\"padding-left: 1em; padding-right: 1em; text-align: center; vertical-align: top\">3</td>\n",
              "    </tr>\n",
              "    <tr>\n",
              "        <td style=\"padding-left: 1em; padding-right: 1em; text-align: center; vertical-align: top\">02f015d32ac2cd1e52d26e3ec<br>36048711dd5711b ...</td>\n",
              "        <td style=\"padding-left: 1em; padding-right: 1em; text-align: center; vertical-align: top\">Sic &#x27;Em On A Chicken<br>(Album) - Zac Brown Band ...</td>\n",
              "        <td style=\"padding-left: 1em; padding-right: 1em; text-align: center; vertical-align: top\">0.05518669635057449</td>\n",
              "        <td style=\"padding-left: 1em; padding-right: 1em; text-align: center; vertical-align: top\">4</td>\n",
              "    </tr>\n",
              "    <tr>\n",
              "        <td style=\"padding-left: 1em; padding-right: 1em; text-align: center; vertical-align: top\">02f015d32ac2cd1e52d26e3ec<br>36048711dd5711b ...</td>\n",
              "        <td style=\"padding-left: 1em; padding-right: 1em; text-align: center; vertical-align: top\">Who&#x27;s Kissing You Tonight<br>- Jason Aldean ...</td>\n",
              "        <td style=\"padding-left: 1em; padding-right: 1em; text-align: center; vertical-align: top\">0.05306333303451538</td>\n",
              "        <td style=\"padding-left: 1em; padding-right: 1em; text-align: center; vertical-align: top\">5</td>\n",
              "    </tr>\n",
              "    <tr>\n",
              "        <td style=\"padding-left: 1em; padding-right: 1em; text-align: center; vertical-align: top\">02f015d32ac2cd1e52d26e3ec<br>36048711dd5711b ...</td>\n",
              "        <td style=\"padding-left: 1em; padding-right: 1em; text-align: center; vertical-align: top\">What Country Is - Luke<br>Bryan ...</td>\n",
              "        <td style=\"padding-left: 1em; padding-right: 1em; text-align: center; vertical-align: top\">0.037490807473659515</td>\n",
              "        <td style=\"padding-left: 1em; padding-right: 1em; text-align: center; vertical-align: top\">6</td>\n",
              "    </tr>\n",
              "    <tr>\n",
              "        <td style=\"padding-left: 1em; padding-right: 1em; text-align: center; vertical-align: top\">02f015d32ac2cd1e52d26e3ec<br>36048711dd5711b ...</td>\n",
              "        <td style=\"padding-left: 1em; padding-right: 1em; text-align: center; vertical-align: top\">Highway 20 Ride (Album) -<br>Zac Brown Band ...</td>\n",
              "        <td style=\"padding-left: 1em; padding-right: 1em; text-align: center; vertical-align: top\">0.03733157366514206</td>\n",
              "        <td style=\"padding-left: 1em; padding-right: 1em; text-align: center; vertical-align: top\">7</td>\n",
              "    </tr>\n",
              "    <tr>\n",
              "        <td style=\"padding-left: 1em; padding-right: 1em; text-align: center; vertical-align: top\">02f015d32ac2cd1e52d26e3ec<br>36048711dd5711b ...</td>\n",
              "        <td style=\"padding-left: 1em; padding-right: 1em; text-align: center; vertical-align: top\">Do I - Luke Bryan</td>\n",
              "        <td style=\"padding-left: 1em; padding-right: 1em; text-align: center; vertical-align: top\">0.033077359199523926</td>\n",
              "        <td style=\"padding-left: 1em; padding-right: 1em; text-align: center; vertical-align: top\">8</td>\n",
              "    </tr>\n",
              "    <tr>\n",
              "        <td style=\"padding-left: 1em; padding-right: 1em; text-align: center; vertical-align: top\">02f015d32ac2cd1e52d26e3ec<br>36048711dd5711b ...</td>\n",
              "        <td style=\"padding-left: 1em; padding-right: 1em; text-align: center; vertical-align: top\">One Fine Wire - Colbie<br>Caillat ...</td>\n",
              "        <td style=\"padding-left: 1em; padding-right: 1em; text-align: center; vertical-align: top\">0.03125</td>\n",
              "        <td style=\"padding-left: 1em; padding-right: 1em; text-align: center; vertical-align: top\">9</td>\n",
              "    </tr>\n",
              "    <tr>\n",
              "        <td style=\"padding-left: 1em; padding-right: 1em; text-align: center; vertical-align: top\">02f015d32ac2cd1e52d26e3ec<br>36048711dd5711b ...</td>\n",
              "        <td style=\"padding-left: 1em; padding-right: 1em; text-align: center; vertical-align: top\">Midnight Bottle - Colbie<br>Caillat ...</td>\n",
              "        <td style=\"padding-left: 1em; padding-right: 1em; text-align: center; vertical-align: top\">0.030737705528736115</td>\n",
              "        <td style=\"padding-left: 1em; padding-right: 1em; text-align: center; vertical-align: top\">10</td>\n",
              "    </tr>\n",
              "</table>\n",
              "[10 rows x 4 columns]<br/>\n",
              "</div>"
            ],
            "text/plain": [
              "Columns:\n",
              "\tuser_id\tstr\n",
              "\tsong\tstr\n",
              "\tscore\tfloat\n",
              "\trank\tint\n",
              "\n",
              "Rows: 10\n",
              "\n",
              "Data:\n",
              "+-------------------------------+--------------------------------+\n",
              "|            user_id            |              song              |\n",
              "+-------------------------------+--------------------------------+\n",
              "| 02f015d32ac2cd1e52d26e3ec3... | Where The Boat Leaves From...  |\n",
              "| 02f015d32ac2cd1e52d26e3ec3... | Different Kind Of Fine (Al...  |\n",
              "| 02f015d32ac2cd1e52d26e3ec3... | Jolene (Album) - Zac Brown...  |\n",
              "| 02f015d32ac2cd1e52d26e3ec3... | Sic 'Em On A Chicken (Albu...  |\n",
              "| 02f015d32ac2cd1e52d26e3ec3... | Who's Kissing You Tonight ...  |\n",
              "| 02f015d32ac2cd1e52d26e3ec3... |  What Country Is - Luke Bryan  |\n",
              "| 02f015d32ac2cd1e52d26e3ec3... | Highway 20 Ride (Album) - ...  |\n",
              "| 02f015d32ac2cd1e52d26e3ec3... |       Do I - Luke Bryan        |\n",
              "| 02f015d32ac2cd1e52d26e3ec3... | One Fine Wire - Colbie Caillat |\n",
              "| 02f015d32ac2cd1e52d26e3ec3... | Midnight Bottle - Colbie C...  |\n",
              "+-------------------------------+--------------------------------+\n",
              "+----------------------+------+\n",
              "|        score         | rank |\n",
              "+----------------------+------+\n",
              "| 0.06153608858585358  |  1   |\n",
              "| 0.06052837520837784  |  2   |\n",
              "| 0.05786820501089096  |  3   |\n",
              "| 0.05518669635057449  |  4   |\n",
              "| 0.05306333303451538  |  5   |\n",
              "| 0.037490807473659515 |  6   |\n",
              "| 0.03733157366514206  |  7   |\n",
              "| 0.033077359199523926 |  8   |\n",
              "|       0.03125        |  9   |\n",
              "| 0.030737705528736115 |  10  |\n",
              "+----------------------+------+\n",
              "[10 rows x 4 columns]"
            ]
          },
          "metadata": {},
          "execution_count": 19
        }
      ],
      "source": [
        "personalised_recomander_model.recommend(users=[users[1]])"
      ]
    },
    {
      "cell_type": "markdown",
      "source": [
        "# Apply model to find similar songs in the data set"
      ],
      "metadata": {
        "id": "TvdTNMtztHz-"
      }
    },
    {
      "cell_type": "code",
      "source": [
        "personalised_recomander_model.get_similar_items(['With Or Without You - U2'])"
      ],
      "metadata": {
        "colab": {
          "base_uri": "https://localhost:8080/",
          "height": 301
        },
        "id": "78ZSl5xytHB3",
        "outputId": "3233407a-940f-4d73-bd2a-44caea7bcba6"
      },
      "execution_count": null,
      "outputs": [
        {
          "output_type": "execute_result",
          "data": {
            "text/html": [
              "<div style=\"max-height:1000px;max-width:1500px;overflow:auto;\"><table frame=\"box\" rules=\"cols\">\n",
              "    <tr>\n",
              "        <th style=\"padding-left: 1em; padding-right: 1em; text-align: center\">song</th>\n",
              "        <th style=\"padding-left: 1em; padding-right: 1em; text-align: center\">similar</th>\n",
              "        <th style=\"padding-left: 1em; padding-right: 1em; text-align: center\">score</th>\n",
              "        <th style=\"padding-left: 1em; padding-right: 1em; text-align: center\">rank</th>\n",
              "    </tr>\n",
              "    <tr>\n",
              "        <td style=\"padding-left: 1em; padding-right: 1em; text-align: center; vertical-align: top\">With Or Without You - U2</td>\n",
              "        <td style=\"padding-left: 1em; padding-right: 1em; text-align: center; vertical-align: top\">I Still Haven&#x27;t Found<br>What I&#x27;m Looking For  ...</td>\n",
              "        <td style=\"padding-left: 1em; padding-right: 1em; text-align: center; vertical-align: top\">0.04285717010498047</td>\n",
              "        <td style=\"padding-left: 1em; padding-right: 1em; text-align: center; vertical-align: top\">1</td>\n",
              "    </tr>\n",
              "    <tr>\n",
              "        <td style=\"padding-left: 1em; padding-right: 1em; text-align: center; vertical-align: top\">With Or Without You - U2</td>\n",
              "        <td style=\"padding-left: 1em; padding-right: 1em; text-align: center; vertical-align: top\">Hold Me_ Thrill Me_ Kiss<br>Me_ Kill Me - U2 ...</td>\n",
              "        <td style=\"padding-left: 1em; padding-right: 1em; text-align: center; vertical-align: top\">0.033734917640686035</td>\n",
              "        <td style=\"padding-left: 1em; padding-right: 1em; text-align: center; vertical-align: top\">2</td>\n",
              "    </tr>\n",
              "    <tr>\n",
              "        <td style=\"padding-left: 1em; padding-right: 1em; text-align: center; vertical-align: top\">With Or Without You - U2</td>\n",
              "        <td style=\"padding-left: 1em; padding-right: 1em; text-align: center; vertical-align: top\">Window In The Skies - U2</td>\n",
              "        <td style=\"padding-left: 1em; padding-right: 1em; text-align: center; vertical-align: top\">0.03283584117889404</td>\n",
              "        <td style=\"padding-left: 1em; padding-right: 1em; text-align: center; vertical-align: top\">3</td>\n",
              "    </tr>\n",
              "    <tr>\n",
              "        <td style=\"padding-left: 1em; padding-right: 1em; text-align: center; vertical-align: top\">With Or Without You - U2</td>\n",
              "        <td style=\"padding-left: 1em; padding-right: 1em; text-align: center; vertical-align: top\">Vertigo - U2</td>\n",
              "        <td style=\"padding-left: 1em; padding-right: 1em; text-align: center; vertical-align: top\">0.03007519245147705</td>\n",
              "        <td style=\"padding-left: 1em; padding-right: 1em; text-align: center; vertical-align: top\">4</td>\n",
              "    </tr>\n",
              "    <tr>\n",
              "        <td style=\"padding-left: 1em; padding-right: 1em; text-align: center; vertical-align: top\">With Or Without You - U2</td>\n",
              "        <td style=\"padding-left: 1em; padding-right: 1em; text-align: center; vertical-align: top\">Sunday Bloody Sunday - U2</td>\n",
              "        <td style=\"padding-left: 1em; padding-right: 1em; text-align: center; vertical-align: top\">0.02713179588317871</td>\n",
              "        <td style=\"padding-left: 1em; padding-right: 1em; text-align: center; vertical-align: top\">5</td>\n",
              "    </tr>\n",
              "    <tr>\n",
              "        <td style=\"padding-left: 1em; padding-right: 1em; text-align: center; vertical-align: top\">With Or Without You - U2</td>\n",
              "        <td style=\"padding-left: 1em; padding-right: 1em; text-align: center; vertical-align: top\">Bad - U2</td>\n",
              "        <td style=\"padding-left: 1em; padding-right: 1em; text-align: center; vertical-align: top\">0.02517986297607422</td>\n",
              "        <td style=\"padding-left: 1em; padding-right: 1em; text-align: center; vertical-align: top\">6</td>\n",
              "    </tr>\n",
              "    <tr>\n",
              "        <td style=\"padding-left: 1em; padding-right: 1em; text-align: center; vertical-align: top\">With Or Without You - U2</td>\n",
              "        <td style=\"padding-left: 1em; padding-right: 1em; text-align: center; vertical-align: top\">A Day Without Me - U2</td>\n",
              "        <td style=\"padding-left: 1em; padding-right: 1em; text-align: center; vertical-align: top\">0.023715436458587646</td>\n",
              "        <td style=\"padding-left: 1em; padding-right: 1em; text-align: center; vertical-align: top\">7</td>\n",
              "    </tr>\n",
              "    <tr>\n",
              "        <td style=\"padding-left: 1em; padding-right: 1em; text-align: center; vertical-align: top\">With Or Without You - U2</td>\n",
              "        <td style=\"padding-left: 1em; padding-right: 1em; text-align: center; vertical-align: top\">Another Time Another<br>Place - U2 ...</td>\n",
              "        <td style=\"padding-left: 1em; padding-right: 1em; text-align: center; vertical-align: top\">0.020325183868408203</td>\n",
              "        <td style=\"padding-left: 1em; padding-right: 1em; text-align: center; vertical-align: top\">8</td>\n",
              "    </tr>\n",
              "    <tr>\n",
              "        <td style=\"padding-left: 1em; padding-right: 1em; text-align: center; vertical-align: top\">With Or Without You - U2</td>\n",
              "        <td style=\"padding-left: 1em; padding-right: 1em; text-align: center; vertical-align: top\">Walk On - U2</td>\n",
              "        <td style=\"padding-left: 1em; padding-right: 1em; text-align: center; vertical-align: top\">0.020202040672302246</td>\n",
              "        <td style=\"padding-left: 1em; padding-right: 1em; text-align: center; vertical-align: top\">9</td>\n",
              "    </tr>\n",
              "    <tr>\n",
              "        <td style=\"padding-left: 1em; padding-right: 1em; text-align: center; vertical-align: top\">With Or Without You - U2</td>\n",
              "        <td style=\"padding-left: 1em; padding-right: 1em; text-align: center; vertical-align: top\">Get On Your Boots - U2</td>\n",
              "        <td style=\"padding-left: 1em; padding-right: 1em; text-align: center; vertical-align: top\">0.019685029983520508</td>\n",
              "        <td style=\"padding-left: 1em; padding-right: 1em; text-align: center; vertical-align: top\">10</td>\n",
              "    </tr>\n",
              "</table>\n",
              "[10 rows x 4 columns]<br/>\n",
              "</div>"
            ],
            "text/plain": [
              "Columns:\n",
              "\tsong\tstr\n",
              "\tsimilar\tstr\n",
              "\tscore\tfloat\n",
              "\trank\tint\n",
              "\n",
              "Rows: 10\n",
              "\n",
              "Data:\n",
              "+--------------------------+-------------------------------+\n",
              "|           song           |            similar            |\n",
              "+--------------------------+-------------------------------+\n",
              "| With Or Without You - U2 | I Still Haven't Found What... |\n",
              "| With Or Without You - U2 | Hold Me_ Thrill Me_ Kiss M... |\n",
              "| With Or Without You - U2 |    Window In The Skies - U2   |\n",
              "| With Or Without You - U2 |          Vertigo - U2         |\n",
              "| With Or Without You - U2 |   Sunday Bloody Sunday - U2   |\n",
              "| With Or Without You - U2 |            Bad - U2           |\n",
              "| With Or Without You - U2 |     A Day Without Me - U2     |\n",
              "| With Or Without You - U2 | Another Time Another Place... |\n",
              "| With Or Without You - U2 |          Walk On - U2         |\n",
              "| With Or Without You - U2 |     Get On Your Boots - U2    |\n",
              "+--------------------------+-------------------------------+\n",
              "+----------------------+------+\n",
              "|        score         | rank |\n",
              "+----------------------+------+\n",
              "| 0.04285717010498047  |  1   |\n",
              "| 0.033734917640686035 |  2   |\n",
              "| 0.03283584117889404  |  3   |\n",
              "| 0.03007519245147705  |  4   |\n",
              "| 0.02713179588317871  |  5   |\n",
              "| 0.02517986297607422  |  6   |\n",
              "| 0.023715436458587646 |  7   |\n",
              "| 0.020325183868408203 |  8   |\n",
              "| 0.020202040672302246 |  9   |\n",
              "| 0.019685029983520508 |  10  |\n",
              "+----------------------+------+\n",
              "[10 rows x 4 columns]"
            ]
          },
          "metadata": {},
          "execution_count": 34
        }
      ]
    },
    {
      "cell_type": "code",
      "source": [
        "personalised_recomander_model.get_similar_items(['Chan Chan (Live) - Buena Vista Social Club'])"
      ],
      "metadata": {
        "colab": {
          "base_uri": "https://localhost:8080/",
          "height": 422
        },
        "id": "djSFIlEUtUAy",
        "outputId": "d9073ecf-aed6-4e0a-e779-3fad7a953a06"
      },
      "execution_count": null,
      "outputs": [
        {
          "output_type": "execute_result",
          "data": {
            "text/html": [
              "<div style=\"max-height:1000px;max-width:1500px;overflow:auto;\"><table frame=\"box\" rules=\"cols\">\n",
              "    <tr>\n",
              "        <th style=\"padding-left: 1em; padding-right: 1em; text-align: center\">song</th>\n",
              "        <th style=\"padding-left: 1em; padding-right: 1em; text-align: center\">similar</th>\n",
              "        <th style=\"padding-left: 1em; padding-right: 1em; text-align: center\">score</th>\n",
              "        <th style=\"padding-left: 1em; padding-right: 1em; text-align: center\">rank</th>\n",
              "    </tr>\n",
              "    <tr>\n",
              "        <td style=\"padding-left: 1em; padding-right: 1em; text-align: center; vertical-align: top\">Chan Chan (Live) - Buena<br>Vista Social Club ...</td>\n",
              "        <td style=\"padding-left: 1em; padding-right: 1em; text-align: center; vertical-align: top\">Murmullo - Buena Vista<br>Social Club ...</td>\n",
              "        <td style=\"padding-left: 1em; padding-right: 1em; text-align: center; vertical-align: top\">0.1881188154220581</td>\n",
              "        <td style=\"padding-left: 1em; padding-right: 1em; text-align: center; vertical-align: top\">1</td>\n",
              "    </tr>\n",
              "    <tr>\n",
              "        <td style=\"padding-left: 1em; padding-right: 1em; text-align: center; vertical-align: top\">Chan Chan (Live) - Buena<br>Vista Social Club ...</td>\n",
              "        <td style=\"padding-left: 1em; padding-right: 1em; text-align: center; vertical-align: top\">La Bayamesa - Buena Vista<br>Social Club ...</td>\n",
              "        <td style=\"padding-left: 1em; padding-right: 1em; text-align: center; vertical-align: top\">0.1871921420097351</td>\n",
              "        <td style=\"padding-left: 1em; padding-right: 1em; text-align: center; vertical-align: top\">2</td>\n",
              "    </tr>\n",
              "    <tr>\n",
              "        <td style=\"padding-left: 1em; padding-right: 1em; text-align: center; vertical-align: top\">Chan Chan (Live) - Buena<br>Vista Social Club ...</td>\n",
              "        <td style=\"padding-left: 1em; padding-right: 1em; text-align: center; vertical-align: top\">Amor de Loca Juventud -<br>Buena Vista Social Club ...</td>\n",
              "        <td style=\"padding-left: 1em; padding-right: 1em; text-align: center; vertical-align: top\">0.18483412265777588</td>\n",
              "        <td style=\"padding-left: 1em; padding-right: 1em; text-align: center; vertical-align: top\">3</td>\n",
              "    </tr>\n",
              "    <tr>\n",
              "        <td style=\"padding-left: 1em; padding-right: 1em; text-align: center; vertical-align: top\">Chan Chan (Live) - Buena<br>Vista Social Club ...</td>\n",
              "        <td style=\"padding-left: 1em; padding-right: 1em; text-align: center; vertical-align: top\">Diferente - Gotan Project</td>\n",
              "        <td style=\"padding-left: 1em; padding-right: 1em; text-align: center; vertical-align: top\">0.021459221839904785</td>\n",
              "        <td style=\"padding-left: 1em; padding-right: 1em; text-align: center; vertical-align: top\">4</td>\n",
              "    </tr>\n",
              "    <tr>\n",
              "        <td style=\"padding-left: 1em; padding-right: 1em; text-align: center; vertical-align: top\">Chan Chan (Live) - Buena<br>Vista Social Club ...</td>\n",
              "        <td style=\"padding-left: 1em; padding-right: 1em; text-align: center; vertical-align: top\">Mistica - Orishas</td>\n",
              "        <td style=\"padding-left: 1em; padding-right: 1em; text-align: center; vertical-align: top\">0.020576119422912598</td>\n",
              "        <td style=\"padding-left: 1em; padding-right: 1em; text-align: center; vertical-align: top\">5</td>\n",
              "    </tr>\n",
              "    <tr>\n",
              "        <td style=\"padding-left: 1em; padding-right: 1em; text-align: center; vertical-align: top\">Chan Chan (Live) - Buena<br>Vista Social Club ...</td>\n",
              "        <td style=\"padding-left: 1em; padding-right: 1em; text-align: center; vertical-align: top\">Hotel California - Gipsy<br>Kings ...</td>\n",
              "        <td style=\"padding-left: 1em; padding-right: 1em; text-align: center; vertical-align: top\">0.019304990768432617</td>\n",
              "        <td style=\"padding-left: 1em; padding-right: 1em; text-align: center; vertical-align: top\">6</td>\n",
              "    </tr>\n",
              "    <tr>\n",
              "        <td style=\"padding-left: 1em; padding-right: 1em; text-align: center; vertical-align: top\">Chan Chan (Live) - Buena<br>Vista Social Club ...</td>\n",
              "        <td style=\"padding-left: 1em; padding-right: 1em; text-align: center; vertical-align: top\">Nací Orishas - Orishas</td>\n",
              "        <td style=\"padding-left: 1em; padding-right: 1em; text-align: center; vertical-align: top\">0.019157111644744873</td>\n",
              "        <td style=\"padding-left: 1em; padding-right: 1em; text-align: center; vertical-align: top\">7</td>\n",
              "    </tr>\n",
              "    <tr>\n",
              "        <td style=\"padding-left: 1em; padding-right: 1em; text-align: center; vertical-align: top\">Chan Chan (Live) - Buena<br>Vista Social Club ...</td>\n",
              "        <td style=\"padding-left: 1em; padding-right: 1em; text-align: center; vertical-align: top\">Gitana - Willie Colon</td>\n",
              "        <td style=\"padding-left: 1em; padding-right: 1em; text-align: center; vertical-align: top\">0.018796980381011963</td>\n",
              "        <td style=\"padding-left: 1em; padding-right: 1em; text-align: center; vertical-align: top\">8</td>\n",
              "    </tr>\n",
              "    <tr>\n",
              "        <td style=\"padding-left: 1em; padding-right: 1em; text-align: center; vertical-align: top\">Chan Chan (Live) - Buena<br>Vista Social Club ...</td>\n",
              "        <td style=\"padding-left: 1em; padding-right: 1em; text-align: center; vertical-align: top\">Le Moulin - Yann Tiersen</td>\n",
              "        <td style=\"padding-left: 1em; padding-right: 1em; text-align: center; vertical-align: top\">0.018796980381011963</td>\n",
              "        <td style=\"padding-left: 1em; padding-right: 1em; text-align: center; vertical-align: top\">9</td>\n",
              "    </tr>\n",
              "    <tr>\n",
              "        <td style=\"padding-left: 1em; padding-right: 1em; text-align: center; vertical-align: top\">Chan Chan (Live) - Buena<br>Vista Social Club ...</td>\n",
              "        <td style=\"padding-left: 1em; padding-right: 1em; text-align: center; vertical-align: top\">Criminal - Gotan Project</td>\n",
              "        <td style=\"padding-left: 1em; padding-right: 1em; text-align: center; vertical-align: top\">0.018779337406158447</td>\n",
              "        <td style=\"padding-left: 1em; padding-right: 1em; text-align: center; vertical-align: top\">10</td>\n",
              "    </tr>\n",
              "</table>\n",
              "[10 rows x 4 columns]<br/>\n",
              "</div>"
            ],
            "text/plain": [
              "Columns:\n",
              "\tsong\tstr\n",
              "\tsimilar\tstr\n",
              "\tscore\tfloat\n",
              "\trank\tint\n",
              "\n",
              "Rows: 10\n",
              "\n",
              "Data:\n",
              "+-------------------------------+--------------------------------+\n",
              "|              song             |            similar             |\n",
              "+-------------------------------+--------------------------------+\n",
              "| Chan Chan (Live) - Buena V... | Murmullo - Buena Vista Soc...  |\n",
              "| Chan Chan (Live) - Buena V... | La Bayamesa - Buena Vista ...  |\n",
              "| Chan Chan (Live) - Buena V... | Amor de Loca Juventud - Bu...  |\n",
              "| Chan Chan (Live) - Buena V... |   Diferente - Gotan Project    |\n",
              "| Chan Chan (Live) - Buena V... |       Mistica - Orishas        |\n",
              "| Chan Chan (Live) - Buena V... | Hotel California - Gipsy Kings |\n",
              "| Chan Chan (Live) - Buena V... |     Nací Orishas - Orishas     |\n",
              "| Chan Chan (Live) - Buena V... |     Gitana - Willie Colon      |\n",
              "| Chan Chan (Live) - Buena V... |    Le Moulin - Yann Tiersen    |\n",
              "| Chan Chan (Live) - Buena V... |    Criminal - Gotan Project    |\n",
              "+-------------------------------+--------------------------------+\n",
              "+----------------------+------+\n",
              "|        score         | rank |\n",
              "+----------------------+------+\n",
              "|  0.1881188154220581  |  1   |\n",
              "|  0.1871921420097351  |  2   |\n",
              "| 0.18483412265777588  |  3   |\n",
              "| 0.021459221839904785 |  4   |\n",
              "| 0.020576119422912598 |  5   |\n",
              "| 0.019304990768432617 |  6   |\n",
              "| 0.019157111644744873 |  7   |\n",
              "| 0.018796980381011963 |  8   |\n",
              "| 0.018796980381011963 |  9   |\n",
              "| 0.018779337406158447 |  10  |\n",
              "+----------------------+------+\n",
              "[10 rows x 4 columns]"
            ]
          },
          "metadata": {},
          "execution_count": 36
        }
      ]
    },
    {
      "cell_type": "markdown",
      "source": [
        "# Find the unique Artist in our data base"
      ],
      "metadata": {
        "id": "TqocU-kirel3"
      }
    },
    {
      "cell_type": "code",
      "execution_count": null,
      "metadata": {
        "id": "zHMuHz2xnW1n"
      },
      "outputs": [],
      "source": [
        "artist=song_data['artist'].unique()"
      ]
    },
    {
      "cell_type": "code",
      "source": [
        "artist"
      ],
      "metadata": {
        "colab": {
          "base_uri": "https://localhost:8080/"
        },
        "id": "17uKfbNIro11",
        "outputId": "220378bf-4050-4601-a172-e0f49c55bbae"
      },
      "execution_count": null,
      "outputs": [
        {
          "output_type": "execute_result",
          "data": {
            "text/plain": [
              "dtype: str\n",
              "Rows: 3375\n",
              "['The Dells', 'Diana Ross', 'Kurtis Blow', 'She & Him', 'Ensiferum', 'Beth Quist', 'Vangelis', 'Graham Nash', 'Death From Above 1979', 'Eamon', 'Melanie', 'Katie Melua', 'Lil Jon / The East Side Boyz', 'Gat Décor', 'Doves', \"The dB's\", 'Brilliant Red Lights', 'Franco De Vita', 'Coldplay', 'Jay-Z / JD', \"Des'ree\", 'Puff Daddy', 'Tom Petty And The Heartbreakers', 'Twista featuring Pharrell Williams', 'East Blues Experience', 'Threshold', 'Zoegirl', 'The Wonders', 'Talib Kweli / Mary J. Blige', 'Cilla Black', 'Black Label Society', 'Triple Six Mafia', 'Bright Eyes', 'Tinie Tempah', 'Broken Social Scene', 'Blackstreet', 'Ratatat', 'Blitzen Trapper', 'Petra', 'Shotta', 'Kris Allen', 'Hot Chip', 'Airscape', 'Boggle Karaoke', 'Miike Snow', 'Basshunter', 'Jay-Z / Beanie Sigel / Scarface', 'Ida Corr Vs Fedde Le Grand', 'Ruben Gonzalez', 'Andrew W.K.', 'Mecano', '3OH!3', 'Trailer Choir_ Trailer Choir', \"Dr. Dre / Hittman / Knoc-Turn'al\", 'Peter_ Bjorn and John Featuring Victoria Bergsman', 'Sugarland', 'Michael Cera & Ellen Page', 'Cartola', 'Keri Hilson', 'Moimir Papalescu & The Nihilists', 'Brad Paisley', 'Jim Lauderdale/Ralph Stanley & The Clinch Mountain Boys', 'Soilwork', '16Volt', 'Filter', 'Monster Magnet', 'Demi Lovato', 'Dr. Dre / Thomas Chong / Mary J. Blige / Rell', 'Prohom', 'Kix', \"Soulja Boy Tell'em / Sammie\", 'Estopa', 'Ron Carter', 'Gogol Bordello', 'Diplo', 'Big Shug', 'Aníbal Troilo - Roberto Grela', 'The Stray Cats', 'Television', 'Velour 100', 'Billy Preston / Syreeta', 'Emma Shapplin', 'Manu Chao', 'Lil Jon & The East Side Boyz / Ludacris / Usher', 'Trapt', 'Los Wawanco', 'Alexandra Burke Feat. Flo Rida', 'George Younce', 'Rammstein', 'Caifanes', 'Looking Glass', 'Stardeath And White Dwarfs', 'Everly Brothers', 'Spoon', 'The Northern Pikes', 'Gipsy Kings', 'The Wannadies', 'Silverchair', 'Bjork', 'Men Without Hats', ... ]"
            ]
          },
          "metadata": {},
          "execution_count": 31
        }
      ]
    },
    {
      "cell_type": "code",
      "source": [
        "len(artist)"
      ],
      "metadata": {
        "colab": {
          "base_uri": "https://localhost:8080/"
        },
        "id": "j6Hr9IXyrrZ-",
        "outputId": "7b39da18-a045-4b3e-d53c-c9d5602a1329"
      },
      "execution_count": null,
      "outputs": [
        {
          "output_type": "execute_result",
          "data": {
            "text/plain": [
              "3375"
            ]
          },
          "metadata": {},
          "execution_count": 32
        }
      ]
    },
    {
      "cell_type": "markdown",
      "source": [
        "# Finding the most popular Artist in our data base "
      ],
      "metadata": {
        "id": "71YZsJQ_rwS0"
      }
    },
    {
      "cell_type": "code",
      "execution_count": null,
      "metadata": {
        "id": "PKhs9vXonwLg"
      },
      "outputs": [],
      "source": [
        "x={}\n",
        "for i in song_data['artist']:\n",
        "  if i not in x:\n",
        "    x[i]=1\n",
        "  else:\n",
        "    x[i]=x[i]+1"
      ]
    },
    {
      "cell_type": "code",
      "execution_count": null,
      "metadata": {
        "colab": {
          "base_uri": "https://localhost:8080/"
        },
        "id": "_WSPIg-LpB60",
        "outputId": "443b53f8-f0ee-4ea0-fad7-17d6ee0e0bc1"
      },
      "outputs": [
        {
          "output_type": "execute_result",
          "data": {
            "text/plain": [
              "13945"
            ]
          },
          "metadata": {},
          "execution_count": 22
        }
      ],
      "source": [
        "max(x.values())"
      ]
    },
    {
      "cell_type": "code",
      "execution_count": null,
      "metadata": {
        "colab": {
          "base_uri": "https://localhost:8080/",
          "height": 35
        },
        "id": "6JgzXPd1rOTB",
        "outputId": "dd7aef03-2ef9-4928-b7cd-5db4c5c8e5e7"
      },
      "outputs": [
        {
          "output_type": "execute_result",
          "data": {
            "application/vnd.google.colaboratory.intrinsic+json": {
              "type": "string"
            },
            "text/plain": [
              "'Coldplay'"
            ]
          },
          "metadata": {},
          "execution_count": 23
        }
      ],
      "source": [
        "max(x,key=x.get)\n"
      ]
    },
    {
      "cell_type": "markdown",
      "source": [
        "# Finding the low popular Artist in our data base"
      ],
      "metadata": {
        "id": "TP_ZQSRfsNAe"
      }
    },
    {
      "cell_type": "code",
      "execution_count": null,
      "metadata": {
        "colab": {
          "base_uri": "https://localhost:8080/",
          "height": 35
        },
        "id": "6FaUQEDttMVI",
        "outputId": "9b324638-2937-4cd6-9a00-f9b9ae823e06"
      },
      "outputs": [
        {
          "output_type": "execute_result",
          "data": {
            "application/vnd.google.colaboratory.intrinsic+json": {
              "type": "string"
            },
            "text/plain": [
              "'William Tabbert'"
            ]
          },
          "metadata": {},
          "execution_count": 25
        }
      ],
      "source": [
        "min(x,key=x.get)"
      ]
    },
    {
      "cell_type": "code",
      "execution_count": null,
      "metadata": {
        "colab": {
          "base_uri": "https://localhost:8080/"
        },
        "id": "1T_C-87orVbe",
        "outputId": "7e5bb5fb-5888-427f-bc05-9e540d7f1f91"
      },
      "outputs": [
        {
          "output_type": "execute_result",
          "data": {
            "text/plain": [
              "12"
            ]
          },
          "metadata": {},
          "execution_count": 24
        }
      ],
      "source": [
        "x['William Tabbert']"
      ]
    },
    {
      "cell_type": "markdown",
      "source": [
        "# Finding most popular artist, the one with highest total listen_count"
      ],
      "metadata": {
        "id": "gV269j63sel1"
      }
    },
    {
      "cell_type": "code",
      "execution_count": null,
      "metadata": {
        "colab": {
          "base_uri": "https://localhost:8080/"
        },
        "id": "w5NSn4Xlwn0K",
        "outputId": "52449468-62fb-4a85-9bea-92092223970a"
      },
      "outputs": [
        {
          "output_type": "execute_result",
          "data": {
            "text/plain": [
              "dtype: int\n",
              "Rows: ?\n",
              "[1, 3, 1, 1, 1, 1, 1, 1, 1, 1, 1, 1, ... ]"
            ]
          },
          "metadata": {},
          "execution_count": 33
        }
      ],
      "source": [
        "song_data[song_data['artist']=='William Tabbert']['listen_count']"
      ]
    },
    {
      "cell_type": "code",
      "execution_count": null,
      "metadata": {
        "colab": {
          "base_uri": "https://localhost:8080/"
        },
        "id": "smf1ECz9y8t-",
        "outputId": "b66a962c-b9a0-4bee-ae08-75247413b1ca"
      },
      "outputs": [
        {
          "output_type": "stream",
          "name": "stdout",
          "text": [
            "{'The Dells': 274, 'Diana Ross': 302, 'Kurtis Blow': 239, 'She & Him': 2199, 'Ensiferum': 210, 'Beth Quist': 379, 'Vangelis': 324, 'Graham Nash': 252, 'Death From Above 1979': 109, 'Eamon': 181, 'Melanie': 114, 'Katie Melua': 2549, 'Lil Jon / The East Side Boyz': 197, 'Gat Décor': 185, 'Doves': 302, \"The dB's\": 759, 'Brilliant Red Lights': 241, 'Franco De Vita': 187, 'Coldplay': 35362, 'Jay-Z / JD': 224, \"Des'ree\": 1314, 'Puff Daddy': 1866, 'Tom Petty And The Heartbreakers': 2867, 'Twista featuring Pharrell Williams': 954, 'East Blues Experience': 100, 'Threshold': 267, 'Zoegirl': 305, 'The Wonders': 135, 'Talib Kweli / Mary J. Blige': 67, 'Cilla Black': 100, 'Black Label Society': 254, 'Triple Six Mafia': 1554, 'Bright Eyes': 3800, 'Tinie Tempah': 1076, 'Broken Social Scene': 604, 'Blackstreet': 747, 'Ratatat': 3727, 'Blitzen Trapper': 422, 'Petra': 168, 'Shotta': 82, 'Kris Allen': 857, 'Hot Chip': 3984, 'Airscape': 130, 'Boggle Karaoke': 30, 'Miike Snow': 1919, 'Basshunter': 3033, 'Jay-Z / Beanie Sigel / Scarface': 208, 'Ida Corr Vs Fedde Le Grand': 694, 'Ruben Gonzalez': 236, 'Andrew W.K.': 144, 'Mecano': 172, '3OH!3': 4339, 'Trailer Choir_ Trailer Choir': 244, \"Dr. Dre / Hittman / Knoc-Turn'al\": 204, 'Peter_ Bjorn and John Featuring Victoria Bergsman': 640, 'Sugarland': 2061, 'Michael Cera & Ellen Page': 202, 'Cartola': 12713, 'Keri Hilson': 574, 'Moimir Papalescu & The Nihilists': 177, 'Brad Paisley': 2731, 'Jim Lauderdale/Ralph Stanley & The Clinch Mountain Boys': 125, 'Soilwork': 313, '16Volt': 579, 'Filter': 161, 'Monster Magnet': 206, 'Demi Lovato': 1296, 'Dr. Dre / Thomas Chong / Mary J. Blige / Rell': 341, 'Prohom': 363, 'Kix': 1870, \"Soulja Boy Tell'em / Sammie\": 485, 'Estopa': 302, 'Ron Carter': 7500, 'Gogol Bordello': 528, 'Diplo': 30, 'Big Shug': 511, 'Aníbal Troilo - Roberto Grela': 362, 'The Stray Cats': 411, 'Television': 234, 'Velour 100': 375, 'Billy Preston / Syreeta': 189, 'Emma Shapplin': 252, 'Manu Chao': 241, 'Lil Jon & The East Side Boyz / Ludacris / Usher': 256, 'Trapt': 256, 'Los Wawanco': 108, 'Alexandra Burke Feat. Flo Rida': 221, 'George Younce': 668, 'Rammstein': 12656, 'Caifanes': 373, 'Looking Glass': 357, 'Stardeath And White Dwarfs': 522, 'Everly Brothers': 180, 'Spoon': 1061, 'The Northern Pikes': 252, 'Gipsy Kings': 793, 'The Wannadies': 361, 'Silverchair': 641, 'Bjork': 245, 'Men Without Hats': 132, 'Tom Petty': 976, 'Sam & Dave': 656, 'Giannis Aggelakas': 80, 'Blue Swede': 266, 'Los Auténticos Decadentes': 813, 'Scooter': 1202, \"The Men They Couldn't Hang\": 309, 'Mike Nero': 281, 'Stardust': 249, 'Dash Berlin': 636, 'The Von Bondies': 208, 'MIKA': 1033, 'Yazoo': 338, 'Szarka Gyula': 130, 'Brand New': 2186, 'Flo Rida': 1381, 'Pissed Jeans': 142, 'G. Love & Special Sauce': 196, 'Serj Tankian': 730, 'Jill Scott': 1488, 'Slipknot': 6408, 'Plastic Boy': 286, 'Marisa Monte': 195, 'London After Midnight': 1375, 'Sergio Mendes': 276, 'Fionn Regan': 94, 'Big Tymers / Unplugged / Official': 115, 'Crystal Gayle': 240, 'The Car Is On Fire': 387, 'Beyoncé featuring Lady Gaga': 144, 'Kid Rock': 1162, 'The Marshall Tucker Band': 330, 'Josh Turner / Dr. Ralph Stanley / Diamond Rio': 156, 'The Cat Empire': 540, 'Phil Vassar': 142, 'Markus Krunegård': 1326, 'Boston': 2063, 'No Doubt / Bounty Killer': 140, 'Ashlee Simpson': 622, 'The Presidents of the United States of America': 670, 'The Ordinary Boys': 907, 'Ray LaMontagne': 2773, 'Jonathan Butler': 306, 'Terrorvision': 783, 'Prince & The New Power Generation': 476, 'Forever The Sickest Kids': 497, 'Young Money / Shawt Dawg': 251, 'Michael Nyman': 255, 'Dido': 1965, 'Ray Charles': 167, '+44': 313, 'Blackstreet / Dr. Dre': 551, 'Calle 13 Featuring Bajofondo Tango Club and Panasuyo': 273, 'Explosions In The Sky': 2282, 'Steps': 383, 'MIMS': 373, 'Bruce Springsteen': 1682, 'Armin van Buuren': 3374, 'Third Eye Blind': 2159, 'Soul For Real': 396, 'The Notting Hillbillies': 891, 'The Corrs': 349, 'The Grass Roots': 522, 'Los Lobos': 517, 'Gal Costa': 192, 'The Rural Alberta Advantage': 234, 'Tommy James And The Shondells': 1037, 'Rob De Nijs': 176, 'Almighty Defenders': 88, 'The Coffee Club Orchestra': 577, 'The Stills': 646, 'Walter Wanderley': 120, 'Eric Church': 2419, 'Benga': 144, 'Bernard Fanning': 81, 'Dimmu Borgir': 236, 'Kill Hannah': 380, 'Nick Lowe': 1775, 'David Crowder*Band': 479, 'Devotchka': 919, 'Slum Village': 962, 'Dr. Dre / Eminem / Alvin Joiner': 1086, 'Bayside': 411, 'Harvey Danger': 312, 'Vampire Weekend': 8623, 'Ladyhawke': 186, 'Mylo': 122, 'Randy Houser': 145, 'The-Dream': 652, 'Alice Cooper': 305, 'Camila': 4347, 'Wyclef Jean featuring Claudette Ortiz of City High': 380, '50 Cent': 1601, 'Warren Zevon': 224, 'James Ingram;Linda Ronstadt': 162, 'All That Remains': 300, 'Washed Out': 274, 'Spandau Ballet': 402, 'Stevie Nicks / Tom Petty And The Heartbreakers': 237, 'AFI': 2213, 'Mariza': 182, 'Kato': 260, 'Depeche Mode': 2655, 'Lisa Loeb': 67, 'Gorillaz': 10467, 'Secret Garden': 183, 'The Soggy Bottom Boys': 262, 'DUNCAN SHEIK': 190, 'Beatallica': 197, 'DESTRUCTION': 788, 'Streetlight Manifesto': 679, 'Totta Näslund': 576, 'Birdman / Lil Wayne / Drake': 684, 'No Doubt': 2769, 'Ryan Adams': 1067, 'Mariah Carey Featuring Dru Hill': 59, 'Stateless': 220, 'Sugar Ray feat. Super Cat': 373, 'Squirrel Nut Zippers': 122, 'Sugar Pie DeSanto': 1628, 'Neutral Milk Hotel': 2056, 'The Misfits': 881, 'Twista': 1374, 'Borodin String Quartet': 179, 'STRATOVARIUS': 69, 'Hellogoodbye;Elliott Yamin': 930, 'Fort Minor (Featuring Common And Styles Of Beyond)': 198, 'Todd Barry': 5498, 'Natasha Bedingfield': 548, 'Bone Thugs-N-Harmony / Akon': 350, 'Cosmo Vitelli': 2569, 'Eagles': 3668, 'The Subways': 206, '[re:jazz]': 270, 'System of a Down': 2500, 'Banaroo': 148, 'Eddie Izzard': 159, 'Mr. Scruff': 203, 'Custom Blue': 179, 'Claw Boys Claw': 508, 'CANDLEMASS': 297, 'Kate Ryan': 667, 'Big Bopper': 339, 'Gym Class Heroes': 2151, 'Wolfsheim': 845, 'The Pierces': 211, 'USS (Ubiquitous Synergy Seeker)': 942, 'Deadmau5': 5546, 'Lady & Bird': 693, 'Keisha White': 687, 'Cage The Elephant': 5603, 'Milczenie Owiec': 1141, 'Velvet Revolver': 143, 'Simon Patterson': 142, 'Vanilla Ice': 1233, 'Melendi': 436, 'Four Tops': 189, 'The Lemonheads': 121, 'Eric Prydz': 1355, 'Max Richter': 1332, 'Hinder': 1863, 'Brotha Lynch Hung': 511, 'Bill Medley & Jennifer Warnes': 272, 'Kid Dynamite': 337, 'Sabrina Malheiros': 293, 'Big Punisher featuring Joe': 247, 'Wilson Pickett': 544, 'Dragonette': 165, 'Box Car Racer': 372, 'The Beautiful South': 225, 'Love': 61, 'Faithless': 1142, \"John Brown's Body\": 178, 'Los Del Rio': 277, 'Charlie Louvin': 2093, 'The Exciters': 68, 'The Jacksons': 853, 'Andru Donalds': 100, 'Black Crowes': 244, 'Ska-P': 333, 'CCCP - Fedeli Alla Linea': 899, 'Chris Brown featuring T-Pain': 289, 'Dakis': 254, 'Mudvayne': 181, 'Donavon Frankenreiter': 426, 'Laura Branigan': 365, 'LMFAO': 2619, 'Black Rob': 110, 'Sex Pistols': 205, 'Powderfinger': 662, 'FM Static': 301, \"Kanye West / Consequence / Cam'Ron\": 243, 'DMX': 1415, 'Pavement': 7423, 'Mondo Marcio': 313, 'Plies featuring Akon': 405, 'Bruce Dickinson': 533, 'Caribou': 1682, 'DHT Feat. Edmée': 1246, 'Fred Falke': 88, 'Nas / Damian \"Jr. Gong\" Marley': 223, 'The Killers / Lou Reed': 275, 'Manchester Orchestra': 196, 'John Farnham': 272, 'Demi Lovato/Joe Jonas': 132, 'Tea Leaf Green': 296, 'Georgia Satellites': 141, 'Gang Starr': 1212, 'Big Tymers / Tateeze / Boo And Gotti': 191, 'Nightwish': 3499, 'bel canto': 669, 'Julie London': 1378, '!!!': 157, 'Kruiz': 564, 'Inverse': 537, 'Bryn Terfel / Berliner Philharmoniker / Claudio Abbado': 299, 'Deftones': 1516, 'Arctic Monkeys': 4627, 'Feargal Sharkey': 75, 'Elizeth Cardoso': 583, 'Noosa Head Feat. Marshall Jefferson': 104, 'José González': 2066, 'Peter Schmalfuss': 106, 'Flight Of The Conchords': 1698, \"Ariel Pink's Haunted Graffiti\": 282, 'Monolithe': 163, 'Kollaa Kestää': 1059, 'The Chordettes': 779, 'John Legend featuring The Stephens Family': 231, 'Fountains Of Wayne': 727, 'Rosana': 1589, 'Adam & The Ants': 175, 'Cows': 138, 'Aaliyah': 1566, 'Jim Jones & Ron Browz featuring Juelz Santana': 994, 'Helloween': 314, 'GRANDADDY': 337, 'Lamb Of God': 107, 'Blink-182': 5503, 'Christina Milian': 459, 'RUN-DMC': 445, 'Lazlo Bane': 153, 'Armin van Buuren feat. Nadia Ali': 141, 'Joao Gilberto': 135, 'Aretha Franklin': 253, 'Junip': 98, 'Jimmy Eat World': 4211, 'Pohlmann.': 116, 'Metronomy': 55, 'Ian Van Dahl': 301, 'Andrea Bocelli': 1349, 'NEEDTOBREATHE': 1274, 'Lonesome River Band': 157, 'Del Tha Funkee Homosapien': 88, 'Comisarios de la Sierra': 131, 'Five Iron Frenzy': 12392, 'Gabriella Cilmi': 141, 'Jodeci': 230, 'The fFormula': 1224, \"Margot & The Nuclear So And So's\": 805, 'Eve 6': 162, 'Cassie': 1377, 'Stone Sour': 686, 'Simple Plan': 782, 'The Smithereens': 211, 'Bill Conti': 99, 'Stars': 1360, 'Clara Hill': 3394, 'Blur': 2020, 'Left Lane Cruiser': 378, 'Richard Souther': 176, 'UNKLE': 329, 'J. Holiday': 900, 'Celldweller': 299, 'Lale Andersen': 183, 'Butthole Surfers': 333, 'Dino Merlin': 725, 'Ludacris': 249, 'America': 483, 'Matt Monro': 102, 'Aril Brikha': 193, 'Kanye West / T-Pain': 526, 'Arcade Fire': 5306, 'Newsboys': 189, 'What We Feel': 911, 'Ruben Blades': 529, 'Lykke Li': 2357, 'Luiz Bonfa / Oscar Castro Neves / Lalo Schifrin': 87, 'Reginald Dixon': 284, 'Macy Gray': 87, 'Despina Vandi': 604, 'HYPOCRISY': 1615, 'Jarabe De Palo': 1153, 'Ben Kweller': 393, 'Soul II Soul Featuring Caron Wheeler': 242, 'Justin': 214, 'Teenage Fanclub': 153, 'Bran Van 3000': 354, 'Big Tymers / TQ / Barewolf': 91, 'Kanye West / GLC / Consequence': 228, 'Robert Palmer': 2466, 'Kyle Cease': 383, 'Kiss': 1207, 'Amy Winehouse': 7846, 'Hole': 548, 'Tracie Spencer': 128, 'Caesars': 450, 'Be Bop Deluxe': 160, 'Eminem / Royce Da 5-9': 107, 'A Love Ends Suicide': 137, 'Damage': 198, 'Usher featuring will.i.am': 6771, 'Colin Hay': 128, 'Seu Jorge': 222, 'Digitalism': 976, 'Angus & Julia Stone': 5822, 'Hellogoodbye': 195, \"Ol' Dirty Bastard\": 165, 'PAULA COLE': 506, 'Franz Ferdinand': 3067, 'The Audition': 54, 'Brandy': 172, 'The Gerbils': 2510, 'Horse The Band': 352, 'Red Light Company': 199, 'C.V. Jørgensen': 963, 'James Blake': 382, 'Chris Brown featuring Kanye West': 151, 'June Christy': 309, \"Old 97's\": 2136, 'Olive': 166, 'Jaco Pastorius': 98, 'Ron Van Den Beuken': 311, 'Rob Sonic': 154, 'When The Empire Falls': 301, 'Surfer Blood': 156, 'Lupe Fiasco featuring Matt Santos': 1076, 'Alexi Murdoch': 1337, 'Los Originales De San Juan': 145, 'Alicia Keys;Jimmy Cozier': 121, 'Lesley Gore': 204, 'Weird Al Yankovic': 313, 'Mariah Carey Featuring Cameo': 138, 'Telex': 290, 'Big & Rich': 200, 'The Cool Kids': 73, 'Asian Dub Foundation': 482, 'Ignition': 261, 'Curtis Mayfield': 200, 'Duncan Dhu': 1276, 'Red': 303, 'John Hiatt': 348, 'The Moldy Peaches': 339, 'Audio Adrenaline': 905, 'Gavin Rossdale': 220, 'Don Omar': 1728, 'Flyleaf': 3810, 'Mumm-Ra': 407, 'Thievery Corporation': 1712, 'Lita Ford & Ozzy Osborne': 304, 'Paul Kalkbrenner': 249, 'Norman Blake': 99, 'Sugarcult': 224, 'Chaka Khan': 371, 'The Luniz': 361, 'Grace Potter and the Nocturnals': 137, 'Bedouin Soundclash': 439, 'Alesana': 826, 'Kenny Wayne Shepherd Band': 388, 'Happy Mondays': 915, 'Whitney Houston': 143, 'La Mosca Tse-Tse': 138, 'We Are Scientists': 678, 'Young Money / Gucci Mane': 308, 'Ligeia': 311, 'Cirrus': 141, 'DJ Shadow': 672, 'Justin Timberlake Featuring T.I.': 442, '10cc': 592, 'Redemption': 258, 'Calle 13': 4042, 'Black Star': 218, 'XTC': 79, 'Young Bleed': 985, 'Die Mooskirchner': 7063, 'Hermans Hermits': 135, 'Jason Mraz & Colbie Caillat': 5597, 'Niños Mutantes': 164, 'Kid Cudi': 5949, 'The Ramones': 84, 'Nina Simone': 89, 'George Braith': 483, 'Moloko': 371, 'Meav Ni Mhaolchatha': 80, 'The Strokes': 3793, 'Sugar Ray': 534, 'Café Tacvba': 1959, 'Pencey Prep': 292, 'Vinnie Vincent Invasion': 431, 'Avenged Sevenfold': 4855, 'Chris Tomlin': 507, \"K'naan / Adam Levine\": 194, 'Mariah Carey feat. Boyz II Men': 456, 'Evan and Jaron': 224, 'Jadakiss / Mary J. Blige': 156, 'Massive Attack': 3365, 'Jay-Z': 2511, 'Tracy Lawrence': 203, 'Way Out West': 433, 'Markus Schulz': 334, 'Parov Stelar': 3777, 'Fleet Foxes': 3848, 'Ayo': 283, 'Finley Quaye;Beth Orton': 190, 'Aphex Twin': 271, 'Primus': 654, 'Petey Pablo': 160, 'The Dixie Cups': 392, 'Ke$ha': 2046, 'Ra Ra Riot': 386, 'Casual featuring Del Tha Funkee Homosapien': 102, 'Tony Carreira': 108, 'MSTRKRFT / John Legend': 414, 'Limp Bizkit': 2542, 'Kenny Wayne Shepherd': 336, 'Alesha Dixon': 278, 'Sami Saari': 259, 'The Zombies': 224, 'The Fresh & Onlys': 95, 'Ismael Serrano': 157, 'Son Of A Plumber': 551, 'Against Me!': 567, 'A-Ha': 372, 'Wes Montgomery': 170, 'Muse': 20220, 'Reel Feelings': 24, 'Walls Of Jericho': 384, 'Emiliana Torrini': 140, 'Brooke Fraser': 416, 'Elvis Costello': 165, 'Parkway Drive': 203, 'Broken Social Scene Presents: Brendan Canning': 405, 'Journey': 467, 'Clive Scott': 73, 'Jennifer Hudson': 177, 'Erin McKeown': 995, 'Bitty McLean': 535, 'Maldita Nerea': 172, 'Howard Jones': 494, 'Los Enanitos Verdes': 279, 'Justin Bieber / Usher': 1055, 'Britney Spears featuring Ying Yang Twins': 160, 'Steve Winwood': 149, 'Aaron Shust': 654, 'Travis': 795, 'Trivium': 926, 'Bronski Beat': 148, 'Rick James': 957, 'Bachman Turner Overdrive': 231, 'Andrew Gold': 404, 'A Rocket To The Moon': 341, 'Berlin': 89, 'Asking Alexandria': 2658, 'Unter Null': 148, 'Citizen Cope': 162, 'R.E.M.': 580, 'Saliva': 1764, 'The Thrills': 104, 'Original Love': 220, \"Klaus Doldinger's Passport\": 642, 'Dirty Projectors': 95, 'Bobby Brown': 182, 'Chumbawamba': 66, 'José Gonzalez': 857, 'Molotov': 1169, 'The Orb': 334, 'Rockwell': 229, 'August Burns Red': 487, 'Jamiroquai': 799, 'Najee': 161, 'Justin Timberlake;Justin Timberlake featuring will.i.am': 194, 'Maelo Ruiz': 594, 'Mark Otten': 160, 'The Game': 233, 'R Kelly': 425, 'The Undertones': 672, 'Baxter Dury': 133, 'Gene Chandler': 315, 'A Perfect Circle': 2731, 'Santogold': 1005, 'Collie Buddz featuring Roache': 286, 'Mos Def / Slick Rick': 103, 'Nicolette': 506, 'Michael Sembello': 326, 'Sam Paglia': 497, 'Los Fabulosos Cadillacs': 903, 'Kim Wilde': 367, 'The Pretenders': 368, 'Slayer': 628, 'The Cure': 1825, 'Che Sudaka': 969, 'Miley Cyrus/Billy Ray Cyrus': 232, 'Leggo Beast': 1023, 'The Beach Boys': 870, 'Alex K': 211, 'Derek Webb': 466, 'Control Machete': 200, 'Los Abuelos De La Nada': 367, 'Bring Me The Horizon': 1112, 'Rainbow': 197, 'Faces': 181, 'Shakira': 7041, 'Bread': 721, 'Motion City Soundtrack': 408, 'Jason Derulo': 4353, 'Green Day': 6925, 'Ulrich Schnauss': 1025, 'Hwood': 213, 'Calle 13 Featuring La Mala Rodríguez': 297, 'Aloe Blacc': 1433, 'Madison Avenue': 377, 'Bobby Goldsboro': 135, 'Ill Nino': 270, \"Plain White T's\": 3299, 'Santana Featuring Chad Kroeger': 441, 'Maroon 5 / Rihanna': 701, 'Jake Hess': 2161, 'The Yardbirds': 242, 'Joseph Spence': 412, 'Steppenwolf': 2019, 'Frou Frou': 1222, 'Kristian Stanfill': 137, 'Sheena Easton': 5763, 'Gods Property': 174, 'Little People': 140, 'Kleerup featuring Lykke Li': 326, 'Gondwana': 397, 'Pillar': 213, 'Cold': 288, 'Sense Field': 672, 'Paulina Rubio': 1307, 'Yung Joc featuring Gorilla Zoe': 574, 'Fireflight': 643, 'Slim Dusty': 974, 'Steel Pulse': 707, 'El-P': 704, 'Brandon Heath': 679, 'Sondaschule': 555, 'Mikel Erentxun': 209, 'Tarkan': 276, 'The Breeders': 310, 'Tal Bachman': 206, 'Cher': 766, 'SOJA': 717, 'Beyoncé': 13132, 'Notes From Underground': 409, 'Plies featuring Tank': 156, 'Cold War Kids': 210, 'Craig David': 1413, 'Bob Newhart': 608, 'themselves': 80, 'Every Avenue': 319, 'Kid Cudi Vs Crookers': 3723, 'Swearing At Motorists': 746, 'Ewan McGregor / Alessandro Safina': 290, 'Adoniran Barbosa - Com Nosso Samba': 711, 'James Taylor': 1406, 'Tenacious D': 429, 'The Mamas & The Papas': 2315, 'Jim Sturgess': 1483, 'Mae': 721, 'Liquid People': 297, 'Puppetmastaz': 100, 'Uffie': 91, 'Portugal. The Man': 292, 'Bobby Valentino': 216, 'Xavier Rudd': 633, 'Beverley Craven': 358, 'Lil Wayne / Eminem': 8472, 'Franco Battiato': 363, 'Cut Copy': 3286, 'Kardinal Offishall / Akon': 134, 'Madder Mortem': 124, 'The Cranberries': 2444, 'The Virgins': 116, 'Fernando Soto': 123, 'Joe Cocker': 521, 'Something Happens': 266, 'Relient K': 1274, 'Cabaret Voltaire': 336, 'Rhapsody': 312, 'Saigon Kick': 272, 'Jamie T': 233, 'Boys Like Girls featuring Taylor Swift': 1327, 'The Del McCoury Band': 100, 'Prince Alla': 277, 'The Shins': 2793, 'T.I.': 1830, 'Guildo Horn': 662, 'Marco V': 103, 'Deep Forest': 589, 'Tony Evans': 180, 'Nancy Sinatra': 358, 'Melody Gardot': 660, 'Toro Y Moi': 980, 'Queens Of The Stone Age': 2573, 'Rush': 1235, 'Jamie Foxx featuring Justin Timberlake & T.I.': 160, 'Aqua': 626, 'Robert Johnson': 1146, 'Dirty Vegas': 225, 'Jay-Z / John Legend': 212, 'Kurt Vile': 208, 'Soda Stereo': 3765, 'Wamdue Project': 110, 'The Boxmasters': 561, 'Cheikh Lô': 208, '12 Stones': 429, 'Shania Twain': 3733, 'Embrace': 296, 'Orishas': 3019, 'So Many Dynamos': 549, 'Rudeboy Records': 164, 'Josh Groban (Featuring Lili Haydn)': 181, 'Vilma Palma e Vampiros': 595, 'Cypress Hill featuring Pitbull and Marc Anthony': 93, 'The Killers': 15184, 'Nu Shooz': 296, 'The Red Jumpsuit Apparatus': 3179, 'Paramore': 10511, 'Bullet For My Valentine': 3620, 'John Lee Hooker': 168, 'Kalle Baah': 284, 'Sara Bareilles': 3105, 'Goldfinger': 221, \"Hymie's Basement\": 362, 'Sir Mix-A-Lot': 101, 'Cherise': 211, 'Giorgio Moroder / David Bowie': 198, 'Xtreme': 405, 'Juice & Molemen': 224, 'Medina Azahara': 317, 'Whitney Houston feat. Faith Evans and Kelly Price': 335, 'The Game / 50 Cent': 235, 'High School Musical Cast': 848, 'Aruna Abrams/Ken Hauptman/Jeannie Lurie': 106, 'Rich Boy / Andre 3000 / Jim Jones / Nelly / Murphy Lee / The Game': 364, 'Madcon': 749, 'The Calling': 268, 'Santigold': 381, 'Justin Bieber': 29715, 'David Guetta - The Egg - Joachim Garraud - Chris Willis': 251, 'Z-RO': 552, '23 Skidoo': 218, 'George Dalaras': 917, 'Manowar': 266, 'Marc Almond': 1075, 'Frankie Goes To Hollywood': 776, 'Exodus': 147, 'Leo Garcia': 80, 'Josh Turner': 3277, 'Sticky Fingaz / Still Living / X-1': 321, 'Metallica / Marianne Faithfull': 2003, 'Rob Zombie': 1644, 'Jorge Drexler / Jeff Eckels / Carina Voly / John Vriesacker / Ana Laan / Leo Sidran / Ben Sidran': 260, \"Cam'Ron / Juelz Santana\": 385, 'Anis': 710, 'Jon McLaughlin': 239, 'Kalafut': 545, 'Seeed': 158, 'Buddy Holly': 284, 'Youth Group': 163, 'Drake': 712, 'Pyranja': 100, 'Peter And Gordon': 184, 'Cypress Hill': 732, 'April Stevens': 311, 'Bebe And Cece Winans': 669, 'Weird Al\" Yankovic': 727, 'Usher': 4338, 'Euge Groove': 698, 'Noir Désir': 319, 'Maxwell': 458, 'Lou Bega': 278, 'Meg Baird': 144, 'Michael Giacchino': 96, 'Wyclef Jean featuring Akon_ Lil Wayne_ and introducing Niia': 106, 'HUM': 78, 'The Cardigans': 1849, 'Pat Benatar': 367, 'Jacky Terrasson': 3223, 'The Nashville Bluegrass Band': 75, 'Energy 52': 586, 'The Cave Singers': 348, 'P.M. Dawn': 597, 'Elvis Perkins': 44, 'RUN-DMC vs. Jason Nevins': 512, 'Lil Jon / The East Side Boyz / R. Kelly / Ludacris': 92, 'Heaven Shall Burn': 147, 'M.A. Numminen': 433, 'Julio Iglesias duet with Willie Nelson': 218, 'Julia Fordham': 801, 'Usher Featuring The Nu Beginning': 350, 'Bananarama': 418, 'The Shangri-Las': 224, 'Paul Van Dyk Featuring Jessica Sutta': 132, 'Theory Of A Deadman': 1344, \"P. Diddy feat. The Notorious B.I.G._ The Lox_ Lil' Kim\": 380, 'Edwin McCain': 602, 'Taylor Swift': 19376, 'Bonobo': 1301, 'Sade': 2904, 'Andres Calamaro': 3307, 'Nelly / Jaheim': 201, 'Radney Foster': 5596, 'The White Stripes': 5489, 'Michèle Arnaud': 181, 'Ryan Adams & The Cardinals': 1144, 'Aimee Mann': 302, \"L'orchestre du boutique classique moderne\": 109, 'The Darkness': 608, 'Mel & Kim': 371, 'Paulinho Da Viola': 243, \"The Pretend It's December Choir\": 185, 'John Waite': 1553, 'Judy Cheeks': 79, 'Atlantic Starr': 118, 'Dead Kennedys': 677, 'Thee Silver Mountain Reveries': 391, 'Kingston Trio': 420, 'Robbie Williams': 736, 'The Isley Brothers': 397, 'Suba  feat. Cibelle': 127, \"Martin O'Donnell And Michael Salvatori\": 617, 'Billy Joel': 379, 'Cyberfit': 741, 'Rihanna / Kardinal Offishall': 47, 'Base Ball Bear': 5162, 'Death Cab for Cutie': 3966, 'El Arrebato': 575, 'Smokie Norful': 278, 'Pandit Hariprasad Chaurasia': 726, 'Deadmau5 & Kaskade': 369, 'Jackson Browne': 527, 'Steve Miller': 350, 'Mychael Danna & Jeff Danna': 404, 'The Gits': 198, 'Fergie / Ludacris': 1198, 'The Cinematic Orchestra feat. Lou Rhodes': 149, 'Dr. Know': 634, 'NOFX': 1495, 'Bob Marley': 622, 'Ariel Rot': 168, 'Foo Fighters': 9504, 'Young Dro (Featuring T.I.)': 268, 'LU': 2274, 'Bangles': 248, 'Héroes del Silencio': 1113, 'Alicia Keys featuring John Mayer': 452, 'Seal': 444, 'Village People': 578, 'Peggy Lee': 446, 'Sean Kingston and Justin Bieber': 3282, 'Di-rect': 504, 'Five Finger Death Punch': 4490, 'Fall Out Boy': 5163, 'Creed': 2357, 'Strike Anywhere': 198, 'Sea Wolf': 209, 'Snoop Dogg Featuring Xzibit': 208, \"K'Naan\": 2051, 'Herbie Hancock': 328, 'Dr. Dre / Hittman': 66, 'Owl City': 6550, 'Neil Young': 1963, 'Prince': 1302, 'Sick Of It All': 276, 'Gotan Project': 2721, 'Dispatch': 1138, 'The Stranglers': 310, 'A Hope For Home': 383, 'Revl9n': 265, 'Gino Fioravanti_ Gianluigi Toso': 140, 'Electronic': 234, 'Bleeding Through': 89, 'Lil Wayne': 1577, 'Burial': 407, 'Tommy Bolin': 324, 'Carlos Jean': 63, 'Chikita Violenta': 154, 'The Jesus And Mary Chain': 126, 'KMC Feat. Dhany': 856, 'The Outfield': 183, 'Crosby_ Stills & Nash': 1467, 'Red I Flight': 201, 'Motörhead': 325, \"Lady GaGa / Colby O'Donis\": 4924, 'Arma Blanca': 101, 'Bow Wow feat. Chris Brown and Johntá Austin': 510, 'N.E.R.D. FEATURING MALICE': 105, 'Brooks & Dunn': 1327, 'Justyna Steczkowska': 264, 'Kaoma': 896, 'Gwen Stefani': 705, 'Remy Zero': 268, 'Ennio Morricone': 1264, 'Eric Clapton': 2476, 'Chaka Khan Chaka Khan': 290, 'The Ruby Suns': 215, 'Apocalyptica / Sandra Nasic': 820, 'Janis Joplin': 369, 'Juvenile / Mannie Fresh / Lil Wayne': 588, 'Brad Paisley With Andy Griffith': 271, 'Joshua Radin': 4089, 'Feist': 3433, 'Fever Ray': 672, 'Trisha Yearwood': 317, 'Elvis Costello & The Attractions': 185, 'Guru Josh Project': 623, 'MC Hammer': 2706, 'Deerhunter': 248, 'Amity in fame': 197, 'The Kills': 2521, 'Kiuas': 253, 'Boom Bip': 140, 'Steve Anderson': 307, 'Delta Spirit': 98, 'Bonobo feat.  Bajka': 164, 'Groundation': 110, 'Go West': 220, 'Musical Youth': 293, 'Ricardo Montaner': 87, 'Metric': 6892, 'Miley Cyrus': 9862, 'La Rue Ketanou': 438, 'Phish': 1171, 'Daniel Powter': 255, '38 Special': 135, 'Scorpions': 706, 'Lady GaGa / Kardinal Offishall': 168, 'Enya': 9964, 'Yung Berg': 899, 'The Bucketheads': 206, 'Hi-Tek': 187, 'Arch Enemy': 131, 'Otis Rush': 196, 'Exile': 329, 'Lil Wayne / Robin Thicke': 128, 'Blue October / Imogen Heap': 266, 'Heavy D & The Boyz / Aaron Hall': 275, 'Yung Joc feat Trick Daddy_ Block & Jazze Pha': 42, 'Steve Goodman': 787, \"Gov't Mule\": 243, 'Delerium': 177, 'Mando Diao': 468, 'Jenny Owen Youngs': 114, 'Jag Panzer': 2719, 'Barão Vermelho': 463, '3OH!3 featuring Neon Hitch': 457, 'Nile': 431, 'Mobb Deep': 89, 'Yuksek': 591, 'John Legend featuring Kanye west': 160, 'Red Nex': 245, 'Arthur Conley': 184, 'Mase': 163, 'Bob Dylan': 767, 'Local Natives': 2821, 'V V Brown': 102, 'Baby Bash / Butch Cassidy / Don Cisco / Nino Brown / Russell Lee / Mr. Kee': 98, 'Crosby_ Stills_ Nash & Young': 770, 'Saosin': 450, 'China Crisis': 330, 'Mariah Carey': 4677, 'Satish Vyas': 796, 'Rank 1': 369, 'Antony & The Johnsons': 658, 'Kanye West': 9992, 'Seine': 1246, 'Throw Rag': 156, 'Exploited': 102, 'Rhonda Vincent': 153, 'Atmosphere': 566, 'Marcy Playground': 78, 'Billy Idol': 2127, 'Commodores': 492, 'Tub Ring': 13701, 'Tim Hughes': 395, 'Violet Indiana': 495, 'Christina Aguilera': 1537, 'Timbaland / Justin Timberlake / Nelly Furtado': 972, 'Lighthouse Family': 405, 'Misfatto': 234, 'The Libertines': 501, 'Nelly / Lincoln University Vocal Ensemble': 369, 'Ester Dean / Chris Brown': 820, 'Shifty': 256, 'Bodo Wartke': 202, 'Simply Red': 466, 'LeAnn Rimes': 634, 'Mount Sims': 277, 'Ordo Rosarius Equilibrio': 347, 'Faith Evans': 401, 'Enrique Iglesias': 4215, 'Damian Marley / Bobby Brown': 114, 'Jonny Lang': 126, 'Hootie And The Blowfish': 372, 'The Kingsmen': 233, 'Soul II Soul': 697, 'La Ley': 164, 'Europe': 614, 'Timbaland / Amar / Jim Beanz': 60, 'Billy Squier': 511, 'R. Kelly': 482, 'Grandmaster Flash & The Furious Five': 585, 'Dirty Sanchez': 131, 'Riverside': 635, 'Dixie Chicks': 1130, 'Charles Mingus': 56, 'Bee Gees': 1076, 'Isaac Hayes': 234, 'Walker Brothers': 466, 'Ticanaf': 159, 'M Ward': 372, 'Boyz II Men': 1667, 'Young Jeezy': 639, 'Timbaland / Fall Out Boy': 171, 'Groove Armada': 631, 'The Lonely Island / Chris Parnell': 279, \"Screamin' Jay Hawkins\": 472, 'Marc Et Claude': 219, 'Pnau': 204, 'Kylie Minogue': 1279, 'Junkie XL': 726, 'Kim Sozzi': 571, 'The Specials': 482, 'Les Négresses Vertes': 449, 'Rancid': 880, 'Holy Fuck': 2183, 'TRUSTcompany': 356, 'Enrico Musiani': 60, 'John Scofield': 447, 'Brian Eno': 218, 'Jorn': 242, 'The Bonzo Dog Band': 941, 'The Sundays': 181, 'Sev Statik': 805, 'Timbiriche': 214, 'Brian Poole & The Tremeloes': 545, 'Free': 637, 'Ben Folds Five': 232, 'All Time Low': 3693, 'War Of Ages': 778, 'Joe Cocker / Jennifer Warnes': 111, 'Kevin Johansen': 108, 'Soltero': 1392, 'Loudon Wainwright III': 374, 'Louis Armstrong': 284, 'Kings Of Leon': 43218, 'The Dresden Dolls': 181, 'Blind Faith': 56, 'Mícheál Ó Súilleabháin': 95, 'Skid Row': 560, 'Jimmy Jones': 680, 'The Appleseed Cast': 781, 'Chris Cagle': 462, 'MSTRKRFT': 937, 'Daft Punk': 17266, 'The Disco Boys': 310, 'Black Eyed Peas': 14070, 'Lupe Fiasco feat. GemStones': 241, 'Future Loop Foundation': 575, 'Pieces Of A Dream': 120, 'Erlend Øye': 320, 'This Beautiful Republic': 298, 'Zion Train': 634, 'Brigitte Bardot / Serge Gainsbourg': 88, 'Sly Fox': 197, 'Generation X': 430, \"L'âme Immortelle\": 435, 'Patsy Cline / The Jordanaires': 166, 'RJD2': 182, 'Reel Big Fish': 288, 'Sick Puppies': 3081, 'Marumari': 531, 'Osker': 349, 'Alizée': 390, 'Michael Jackson': 3564, 'Kat DeLuna featuring Busta Rhymes': 554, 'Shaggy / Samantha Cole': 2127, 'Legião Urbana': 202, 'Fabolous / Ne-Yo': 201, \"Lauryn Hill Featuring D'Angelo\": 239, 'Scouting for Girls': 554, 'Mastodon': 476, 'Escape The Fate': 3210, 'Lisa Hannigan': 96, 'MDC': 228, 'Kelis Featuring Too $hort': 420, 'Timbaland / Mia': 250, 'Benassi Bros.': 203, 'ZZ Top': 569, 'Underoath': 719, 'Limi-T 21': 287, 'Raincoats': 209, 'Warren Barfield': 1300, 'Fito Paez': 221, \"Gigi D'agostino\": 572, 'Barren Cross': 230, 'Sikth': 832, \"Umphrey's McGee\": 178, 'Londonbeat': 192, 'Bootsy Collins': 681, 'Sage Francis': 175, \"The Go-Go's\": 237, 'Triumvirat': 713, 'Mary': 167, 'Lindisfarne': 743, 'Skillet': 9425, 'Kate Nash': 1626, 'Dangerdoom': 324, 'Dio': 447, 'Tinariwen': 179, 'Ghostface Killah / Kid Capri': 80, 'Four Year Strong': 356, 'Tina Turner': 443, 'LMFAO / Lil Jon': 2218, 'UMOJA': 106, 'Prodigy': 570, 'Livvi Franc': 107, 'Westside Connection': 815, 'Dread Zeppelin': 249, 'Stray Cats': 251, 'Eric Johnson': 310, 'Safri Duo': 185, 'Cute Is What We Aim For': 187, 'Junior Murvin': 829, 'Kimya Dawson': 815, 'Damian Marley / Stephen Marley / Black Thought': 131, 'Cathedral': 221, 'Teddy Pendergrass': 311, 'The Fugees': 425, 'Martin Orford': 325, 'Antony & The Johnsons with Boy George': 141, 'Grand Funk': 273, 'Mr. Oizo': 315, 'Phosphorescent': 203, 'Skunk Anansie': 490, 'Lil Scrappy': 1546, 'Steve Aoki Feat. [[[Zuper Blahq]]]': 202, '+ / - {Plus/Minus}': 475, 'Great Lake Swimmers': 134, 'Ja Rule / Vita': 610, 'Jack Johnson / Matt Costa / Zach Gill / Dan Lebowitz / Steve Adams': 116, 'Johnny Darrell': 195, 'Timbaland / Katy Perry': 1199, 'Reality Check': 2886, 'Ana Caram': 77, 'Lulu  Santos': 238, 'Drake / Bun B / Lil Wayne': 551, 'Alkaline Trio': 136, 'Steve Miller Band': 1717, 'The Temptations': 127, 'Joe Vasconcellos': 97, 'Count Basie': 122, 'John Legend': 1598, 'Brant Bjork': 308, 'Ricky Martin': 150, 'Trey Songz': 1976, 'Nikolaj Nørlund': 496, 'John Lee Hooker & Carlos Santana': 94, 'Lou Reed': 232, 'Attica! Attica!': 161, 'Casting Crowns': 709, 'Eagle Seagull': 260, 'Ester Drang': 109, 'Matt Redman': 719, 'Sa Trincha': 266, 'Fonseca': 1455, 'The Dropkick Murphys': 211, 'Tommy Sands': 430, 'Boney M.': 196, 'Foals': 1892, 'Shwayze': 359, 'Nine Black Alps': 74, 'Ismo Alanko Säätiö': 476, 'As I Lay Dying': 108, 'Culture Beat': 657, 'A Flock Of Seagulls': 466, 'Lloyd / Ashanti / Scarface': 42, 'Story Of The Year': 141, 'The Oak Ridge Boys': 301, 'Akon / Snoop Dogg': 520, 'Miriam Makeba': 167, 'Tinchy Stryder / Taio Cruz': 155, 'Chris Cornell': 805, 'Benny Benassi Presents The Biz': 2421, 'Terror Squad / Remy / Fat Joe': 152, 'Pork Dukes': 742, 'Marilyn Manson': 3063, 'The Weepies': 1272, 'Kanye West / Syleena Johnson': 511, 'The xx': 1951, 'Dr Feelgood': 1139, 'Dion & The Belmonts': 1567, 'William Tabbert': 14, 'Hawthorne Heights': 97, 'Francisca Valenzuela': 841, 'Wykked Wytch': 409, 'Bloodhound Gang': 2288, 'Gary Moore': 310, 'Glen Hansard': 276, 'Popol Vuh': 580, 'Venus Hum': 137, 'NARNIA': 191, 'Panic At The Disco': 5910, 'Bill Bruford': 267, 'Zombie Nation': 240, 'Kaiser Chiefs': 1753, 'matchbox twenty': 7444, 'The Walkmen': 87, 'GNR': 58, 'Cake': 4987, 'Disturbing Tha Peace / Ludacris / Mystikal / I-20': 603, 'Philippe Rochard': 2911, 'Shione Yukawa': 415, 'Harry Chapin': 679, 'Matt Costa': 780, 'Jonas Steur': 265, 'Scottish Chamber Orchestra/Jukka-Pekka Saraste': 531, 'Chris Brown featuring will.i.am': 268, 'Usher featuring Beyoncé': 156, 'Kurt Carr & The Kurt Carr Singers': 257, 'Johnny Winter': 2661, 'CSS': 620, 'The Pain Machinery': 400, 'Aerosmith': 6917, 'Charles Wright': 196, 'Jack Johnson / Kawika Kahiapo': 296, 'Maino': 364, 'The Aluminum Group': 253, 'Tame Impala': 66, 'The Lonely Island / Jack Black': 280, 'Cobra Starship': 162, 'David Guetta - Akon': 450, 'Within Temptation': 924, 'Bryan Adams': 1998, 'Colossal': 2530, 'Sidney Samson': 492, 'Jorge Drexler': 1575, 'Mariah Carey / Jadakiss / Styles P': 288, 'Tom Colontonio': 407, 'Fangoria': 231, 'Beyonce & Shakira': 347, 'Mazzy Star': 252, 'The Trews': 228, 'Nelly': 477, 'Mark Ronson': 90, 'The Pharcyde': 493, 'Musiq Soulchild': 196, 'Supertramp': 976, 'Ozzy Osbourne': 936, 'Air Supply': 465, 'Nouvelle Vague': 334, 'The Ethiopians': 247, 'The Avett Brothers': 4319, 'ATB': 2184, 'Mark Knight & Funkagenda': 170, 'Tamia': 638, 'Mariah Carey / Twista': 204, 'Plastilina Mosh': 608, 'Breakfast Club': 137, 'The Grascals': 860, 'David Guetta': 627, 'Neneh Cherry': 627, 'Leon Russell': 454, \"O'Rosko Raricim\": 1749, 'Karen O And The Kids': 95, 'KT Tunstall': 1194, 'Future Rock': 4987, 'J. Karjalainen & Mustat Lasit': 5241, 'Fabolous': 721, 'Despised Icon': 601, 'Maya Nasri': 85, 'BT': 75, 'Dexys Midnight Runners': 796, 'Time Requiem': 159, 'James Morrison': 638, 'Monrose': 259, 'Bette Midler': 243, 'Jackson 5': 96, 'Roadrunner United': 457, 'City And Colour': 1756, 'Manuel Carrasco': 278, 'Blackalicious': 256, 'Our Lady Peace': 133, 'David Bowie': 3447, 'Salt-N-Pepa': 376, 'Carnal Forge': 970, 'The Mars Volta': 1763, 'Stevie Ray Vaughan And Double Trouble': 384, 'Bobby Helms': 252, 'N.W.A.': 713, 'Sub Focus': 212, 'Ghostface Killah / Trife Da God / Sun God': 90, 'Kanye West / Mos Def / Freeway / The Boys Choir Of Harlem': 295, 'Modern English': 627, 'Matthew Dear': 374, 'The Hawaiians': 325, 'Eli Young Band': 188, 'The Last Shadow Puppets': 117, 'Wiz Khalifa': 1323, 'Gary Hoey': 265, 'Weezer': 8768, 'Penguin Café Orchestra': 888, 'Chris Bathgate': 340, 'David Arkenstone': 153, 'Mariah': 124, 'Carl Douglas': 300, 'Joseph Arthur': 138, 'Simon & Garfunkel': 374, 'Antonio Carlos Jobim': 197, 'Morcheeba': 2686, 'Drake / Kanye West / Lil Wayne / Eminem': 3296, 'Phil Collins': 4842, 'Envio': 487, 'Abba': 1530, 'Q-Burns Abstract Message': 641, 'Atreyu': 769, 'Deep Blue Something': 1587, 'US3 Featuring Rahsaan And Gerard Presencer': 834, 'Decapitated': 418, '311': 920, 'Stellar Kart': 379, 'Bobby Darin': 249, 'Fort Minor [Featuring Holly Brook And Jonah Matranga]': 801, 'Nana Caymmi': 313, 'Olé Olé': 372, 'DePhazz': 186, 'Janis Joplin Vs Medicine Head': 155, 'The Hush Sound': 607, 'The Four Seasons': 102, 'Angels and Airwaves': 10058, 'The Cheetah Girls': 396, 'Mariah Carey / Young Jeezy': 121, 'Julian Lennon': 142, \"Christopher O'Riley\": 952, 'Bachman-Turner Overdrive': 1278, 'Megadeth': 261, 'Fischerspooner': 187, 'The George Shearing Quintet with Nancy Wilson': 666, 'Ladytron': 392, 'Murray Head': 343, 'Amparanoia': 183, 'Danny Elfman': 310, 'Morbid Angel': 371, 'Nas featuring R. Kelly': 223, 'Ludovico Einaudi': 870, 'Frank Black': 284, 'Yellowcard': 2973, 'Glenn Lewis': 301, 'The Smiths': 5267, 'Tiësto & Sneaky Sound System': 298, 'Fluke': 784, 'Beneath the Massacre': 494, 'Matt Wertz': 570, 'House Of Pain': 628, \"Keyshia Cole / Missy Elliott / Lil' Kim\": 232, 'JoJo': 1136, 'Earthless': 131, \"Caribou (formerly Dan Snaith's Manitoba)\": 574, 'The Devil Wears Prada': 412, 'Fort Minor (Featuring Kenna_ Jonah Matranga And Styles Of Beyond)': 323, 'Five for Fighting': 439, 'Spin Doctors': 65, 'Kajagoogoo': 846, 'Colbie Caillat / Jason Reeves': 263, 'Tommy Sparks': 341, 'Sidewalk Prophets': 124, 'David Guetta - Joachim Garraud - Chris Willis': 787, 'Julio Iglesias duet with Frank Sinatra': 536, 'John Altman': 39, \"Pandora's Box\": 2543, 'Sting / Mary J. Blige': 123, 'Lily Allen': 7957, 'TV On The Radio': 736, 'Mayday Parade': 4922, 'Jeans (Mexico)': 104, 'Cassie Feat. Diddy & Yung Joc': 664, 'Mobin Master Feat. Robin S.': 536, 'Outkast Featuring Killer Mike': 763, 'Origin': 185, 'Armand Van Helden & A-TRAK Present Duck Sauce': 143, 'The Hives': 668, 'Hieroglyphics': 131, 'Gretchen Wilson': 165, 'Bonnie Tyler': 489, 'Man Man': 2383, 'Green Day Can You Rock Instructional': 264, 'Blue States': 133, 'Mutya Buena': 374, 'Violent Femmes': 996, 'Ludacris / T-Pain': 199, 'Thin Lizzy': 531, 'A Day To Remember': 7822, 'GZA/Genius / Killah Priest': 487, 'Mikromusic': 330, 'Robin Thicke': 700, 'Blue October': 822, 'Down To The Bone featuring Hil St. Soul': 104, '112': 93, 'Enrique Iglesias / Ciara': 197, 'Thalia': 288, 'KC & The Sunshine Band': 259, 'La Renga': 912, 'The Statler Brothers': 242, 'Sheila Walsh': 235, 'Bobbie Gentry': 791, 'Two Cow Garage': 272, 'Los Traileros Del Norte': 315, \"Cooly's Hot Box\": 150, 'Godsmack': 3671, 'Soulive': 72, 'Fugees': 491, 'Jack White & Alicia Keys': 84, 'Jody Bernal': 38, 'Soft': 309, 'Panteón Rococó': 371, 'Klaus Schulze': 320, 'Ronski Speed': 294, 'Linkin Park': 21368, 'Dave Grusin': 694, 'Orgy': 249, 'Blood Red Shoes': 153, 'Robin Thicke / Lil Wayne': 339, 'Mika Miko': 92, 'Charles Aznavour': 226, 'Emmy The Great': 454, 'South Park': 238, 'The Spades': 535, 'The Space Brothers': 175, 'Madeleine Peyroux': 281, 'La Oreja de Van Gogh': 186, 'Deborah Harry & Iggy Pop': 336, 'Black Kids': 165, 'Brazilian Girls': 255, 'Dave Aju': 225, 'Ludacris / Chris Brown / Sean Garrett': 125, 'Discovery': 468, 'MC5': 137, 'Nevea Tears': 131, 'Pulp': 512, 'Bag Raiders': 594, 'Macaco': 1037, 'Alison Krauss and Union Station': 143, 'Kejsi Tola': 292, 'Silvio Rodríguez': 1022, 'Paolo Nutini': 1122, 'Primal Scream': 163, 'Captain & Tennille': 360, 'Operahouse': 208, 'Ja-Man All Stars': 276, 'Gorilla Zoe': 429, 'Mat Kearney': 450, 'Daedelus': 102, 'Lindsay Lohan': 226, 'Garbage': 1607, 'Kyuss': 121, 'Deer Tick': 359, 'Dragesekstetten': 63, 'Public Image Ltd': 366, 'Enur': 100, 'Thousand Foot Krutch': 1293, 'Rihanna / Sean Paul': 381, 'Watermelon Slim': 494, 'Hillsong United': 303, 'Sunlounger': 223, 'Diana Krall': 261, 'Lil Wayne / Shanell': 191, 'Phoenix': 8063, 'Keane': 120, 'Lasgo': 279, 'Stelios Kazantzides': 218, 'Chris Classic': 265, 'Alaska Y Los Pegamoides': 246, 'T.Rex': 184, 'Elbow': 406, 'Tristania': 274, 'Eiffel 65': 563, 'Shaggy / Brian & Tony Gold': 616, 'Can': 312, 'Koopsta Knicca': 113, \"Guns N' Roses\": 15889, 'Tokio Hotel': 1388, 'Louis Smith': 1694, 'Carlene Carter': 475, 'Papa Roach': 562, 'Blind Melon': 1822, 'The Game / Eminem': 342, 'The Lonely Island / T-Pain': 2820, 'Max Richter - Tilda Swinton': 201, 'Stevie Wonder': 1245, 'Little Anthony & The Imperials': 253, 'Corinne Bailey Rae': 2399, 'Stavento': 508, 'Camané': 289, 'Gang Starr/Inspectah Deck': 2304, 'Ed Harcourt': 111, 'The Michael Schenker Group': 574, 'Blue Foundation': 554, 'Sergio Caputo': 111, 'Jaco Pastorius_ Brian Melvin': 206, 'Yvonne Elliman': 376, 'Shantel': 440, 'Thievery Corporation feat. Emiliana Torrini': 87, 'Grand Funk Railroad': 418, 'Rinôçérôse / Mark Gardener': 987, 'Angelic Upstarts': 277, 'Perfect Stranger': 474, 'Michael Cretu': 1617, 'Daddy Yankee / Randy': 276, 'Shiny Toy Guns': 492, 'The Pussycat Dolls / Timbaland': 219, 'Meat Loaf': 185, 'Eminem / Bizarre': 360, 'Hannah Montana': 522, 'Fort Minor (Featuring Black Thought Of The Roots And Styles Of Beyond)': 229, 'Viola': 601, 'Alex Ubago': 821, 'Intocable': 220, 'The Academy Is...': 545, 'Fatboy Slim': 1790, 'Hot Chocolate': 121, 'Art Brut': 435, 'Ferry Corsten': 174, 'ANGELZOOM': 320, 'Alison Krauss': 972, 'Train': 25402, 'LCD Soundsystem': 4677, 'Junior M.A.F.I.A.': 204, 'Andrew Bird': 3252, 'Panic! At The Disco': 2090, '2Mex': 168, 'Lostprophets': 553, 'The Creation': 162, 'Joy Division': 1213, 'Temple Of The Dog': 295, 'Method Man': 568, 'Kutt Calhoun': 680, 'Edgar Oceransky': 599, 'The Saturdays': 104, 'Joan Jett & The Blackhearts': 121, 'Lauryn Hill;Bob Marley': 137, 'A Silent Film': 179, 'The Blizzard': 140, 'Tarot': 831, 'Bowerbirds': 201, 'Madina Lake': 125, 'Hanson': 213, 'The Clash': 1976, 'Re-up Gang': 167, 'Young Jeezy / Akon': 493, 'UB40': 2029, 'Divinyls': 656, 'Mystikal': 794, 'Onar': 807, 'Marty Stuart': 642, 'Elisa': 780, 'John Travolta / Olivia Newton-John': 157, 'Cary Brothers': 123, 'Madvillain_ MED aka Medaphor': 105, 'Mos Def': 362, 'Bill Wells & Maher Shalal Hash Baz': 136, 'Madvillain': 145, 'Vitalic': 389, 'Aesop Rock': 1059, 'Bloc Party': 3143, 'Camera Obscura': 2846, 'Patrice Rushen': 93, 'Common / Kanye West': 121, 'JayMay': 359, 'Natalie Imbruglia': 795, 'The Surfaris': 147, 'Ernie K-Doe': 350, 'Alex Gaudino Feat. Crystal Waters': 356, 'Finger Eleven': 1290, 'Dashboard Confessional': 2397, 'Geri Halliwell': 574, 'Lauryn Hill': 1228, 'Chromeo': 2357, 'Los Campesinos!': 90, 'Kanye West / Kid Cudi': 217, 'Gus Gus': 329, 'Cheap Trick': 129, 'ENUR Feat NATASJA': 712, 'Rui Veloso': 244, 'Haloo Helsinki!': 150, 'Pretenders': 85, 'Thelma Houston': 427, 'Vienio & Pele': 1441, 'DJ Khaled': 2591, 'Lit': 696, 'Darren Styles': 1216, 'Civil Twilight': 297, 'Sheryl Crow': 2927, \"D'Angelo\": 328, 'Boards of Canada': 661, 'Karminsky Experience': 145, 'Pretty Ricky': 1017, 'Peaches': 243, 'Filo + Peri': 193, 'Thom Yorke': 276, 'Clannad': 437, 'Yahel': 121, 'Cyndi Lauper': 1642, 'Nick Drake': 1551, 'Sammie Featuring J.T. Money': 125, 'Willie Colon': 374, 'Tiësto feat. Calvin Harris': 218, 'A Fine Frenzy': 2665, 'Cher / Peter Cetera': 165, 'Jeff Buckley': 810, 'Ramones': 2912, 'Illya Kuryaki And The Valderramas': 256, 'Jason Collett': 642, 'Shakira featuring Carlos Santana': 127, 'Billy Curringham': 1040, 'Crosby_ Stills_ Nash and Young': 719, 'Sigur Ros': 791, 'Casiotone For The Painfully Alone': 392, 'Colbie Caillat': 6580, 'MxPx': 890, 'Paul Johnson': 152, 'Common': 1036, 'Nneka': 56, 'Echo And The Bunnymen': 1046, 'King Harvest': 283, 'Young Money': 876, 'Swizz Beatz': 594, 'Bonnie Raitt': 184, 'Empire Of The Sun': 1694, 'Donna Lewis': 644, 'Lupe Fiasco feat. Unkle': 101, 'Waylon Jennings': 82, 'Jackie Wilson': 211, 'Tag Team': 314, 'Danger Doom': 561, 'Rata Blanca': 714, 'The Pogues': 141, 'Uniikki': 429, 'Make the Girl Dance': 378, 'Jorge Gonzalez': 682, 'Daddy Yankee': 3110, 'Paul Oakenfold': 1379, 'Rihanna / Vybz Kartel': 60, 'Eminem / Dr. Dre': 1128, 'Imogen Heap': 1539, 'Augustana': 150, 'Lady GaGa': 12224, 'Rage Against The Machine': 3888, 'Bobby Lee': 255, 'Sam Adams': 294, 'Changing Faces': 201, 'Anne Dudley': 297, 'The Verve': 5511, 'Chaka Demus & Pliers': 167, 'Camper Van Beethoven': 71, 'Joe Strummer & The Mescaleros': 222, 'Wang Chung': 263, 'Cat Stevens': 8348, 'Funki Porcini': 195, 'Three Days Grace': 2740, 'Kanye West / Mos Def': 161, 'Eddy Grant': 1583, 'Lil Wayne / Kevin Rudolf': 249, 'Mos Def / Talib Kweli': 99, 'Madonna': 2604, 'Cat Power': 2243, 'Tone Loc': 156, 'Fort Minor (Featuring John Legend)': 489, 'Staind': 2345, 'Lucas Masciano': 344, 'Robbie Fulks': 118, 'Friendly Fires': 364, 'Clear Vu': 374, 'Alan Jackson': 853, 'Charly García': 1438, 'Audioslave': 3501, 'Don McLean': 492, \"Fat Freddy's Drop\": 483, 'Carpenters': 3677, 'The Sugarhill Gang': 483, 'Iron & Wine': 577, 'Jack Johnson / Matt Costa': 528, 'Archie Shepp / William Kunstler': 349, 'The Meters': 564, 'Richard Ashcroft': 406, 'System 7': 365, 'rinôçérôse': 104, 'Carcass': 676, 'No Doubt / Lady Saw': 426, 'Valerio Scanu': 993, 'Michael Franti & Spearhead / Cherine Anderson': 63, 'Flaco Jimenez': 179, 'Joe Bonamassa': 80, 'O-Zone': 223, 'Darude': 1237, 'Kanye West / Jay-Z / J. Ivy': 179, 'Aerolineas Federales': 280, 'Usher Featuring Kelis': 161, 'Ying Yang Twins': 127, 'Descendents': 359, 'Taking Back Sunday': 1581, 'Blake Shelton': 919, 'The Lonely Island': 3213, 'Bentley Rhythm Ace': 507, 'Kris Kross': 795, 'The Trashmen': 361, '10 Years': 560, 'White Lion': 664, 'Calle 13 Featuring Café Tacuba': 415, 'Liz Callaway': 311, 'Emil Gilels/Orchestre de la Société des Concerts du Conservatoire/André Cluytens': 910, 'Cocoa Brovas': 764, 'Jerry Lewis': 81, 'Noisy Stylus': 251, 'Tandem': 43, 'Matt Nathanson': 703, 'Faith Hill And Tim McGraw': 1165, 'Example': 657, 'Once Tiros': 347, 'Wyclef Jean / Mary J. Blige': 273, 'The Futureheads': 949, 'Barry Manilow': 297, 'Yeasayer': 2384, 'El Barrio': 186, 'Captain Sensible': 708, 'Dan Black': 491, 'Kansas': 884, 'Jonny L': 1506, 'Biffy Clyro': 1165, 'The Dust Brothers (featuring Tyler Durden)': 219, 'Chris Rea': 744, 'Player': 299, 'Jose Gonzalez': 186, 'Bobby McFerrin': 1156, 'Fergie / Will.I.Am': 586, 'Tech N9ne': 665, 'Röyksopp': 4681, 'The Bobby Fuller Four': 170, 'Liquid Tension Experiment': 374, 'EP': 179, 'Balkan Beat Box': 611, 'Black Eyed Peas / Papa Roach': 104, 'Crowded House': 634, 'The Black Crowes': 124, 'Fanfarlo': 313, 'Kid Cudi / Kanye West / Common': 3627, 'Rehab': 203, 'Joan Osborne': 511, 'Ashley MacIsaac': 290, 'Josh Groban': 1330, 'Barry Tuckwell/Academy of St Martin-in-the-Fields/Sir Neville Marriner': 21953, 'Joe Arroyo': 155, 'Emilia': 187, 'Liquido': 276, 'Alicia Keys': 8762, 'Big Tymers': 468, 'Eva Cassidy': 587, 'And So I Watch You from Afar': 752, 'Enigma': 2842, 'Irene Cara': 614, 'Dr. Dre': 835, 'Yung Joc': 402, 'Ricky Martin Feat. La Mari de \"Chambao': 182, 'The Kingston Trio': 390, 'Chesney Hawkes': 280, 'The Weavers': 156, 'Beep Beep': 226, 'Miami Horror': 469, 'Immortal Technique': 610, 'Fontella Bass': 382, 'Bebe': 1519, 'Eminem': 21627, 'The Moody Blues': 170, 'Milli Vanilli': 478, 'Gentleman Reg': 302, 'Danity Kane': 440, 'Robbie Seay Band': 210, 'Baby Bash': 217, 'Nelly / Paul Wall / Ali & Gipp': 538, 'Mario Winans': 243, 'Lil Wayne / Bobby Valentino / Kidd Kidd': 790, 'Chiddy Bang': 2021, 'Wu-Tang Clan': 167, 'Ice Cube': 4072, 'Aly & AJ': 297, 'Shinedown': 4473, 'Beirut': 6224, 'Thomas Gold & Matthias Menck': 321, 'Cornershop': 244, 'Morrissey': 63, 'Luis Miguel': 156, 'Talib Kweli / Pharoahe Monch / Black Thought': 238, 'Simple Minds': 782, \"K's Choice\": 124, 'Marc Anthony': 2157, 'Mo B. Dick': 355, 'OutKast': 2699, 'Ween': 805, 'Red Hot Chili Peppers / Beavis And Butt-Head': 70, 'Gino Vannelli': 682, 'Andrés Cepeda': 1044, 'Musiq / DJ Aktive / Carol Riddick': 105, 'Billy Ray Cyrus': 184, 'Agnostic Front': 236, 'No Te Va Gustar': 1346, 'Ayabie': 593, 'Binary Star': 976, 'Jack Johnson / G. Love': 216, 'The Knack': 332, 'Ryan Leslie': 832, '4 Non Blondes': 984, 'Bad Religion': 693, 'The Champs': 551, 'Omarion': 275, 'Two Door Cinema Club': 6980, 'Jars Of Clay': 133, 'The Lonely Island / Julian Casablancas': 864, 'Toni Braxton': 204, 'Country Joe & The Fish': 72, 'The Streets': 523, 'Shawn Colvin': 683, 'Joshua Radin_ Schuyler Fisk': 593, 'Misfits': 403, 'Amanda Perez': 651, 'Snoop Dogg': 384, 'Kruder & Dorfmeister': 122, 'Gul 3': 82, 'Jack Johnson': 20177, 'Heart': 1381, 'Eminem / Dr. Dre / 50 Cent': 1145, 'George Lopez': 409, 'Ying Yang Twins ft. Lil Jon & The East Side Boyz': 484, 'HAMMERFALL': 644, 'The Vapors': 145, 'Nacho Cano': 401, 'Kid Cudi / MGMT / Ratatat': 5644, 'Olivier Darock': 1299, 'The Dodos': 611, 'Urban Chill Out': 211, 'Chicago': 125, 'Karkkiautomaatti': 294, 'Amoral': 336, 'Adrian Sherwood': 83, 'Basement Jaxx': 409, 'Rihanna / Dwane Husbands': 75, 'Taylor Swift / Colbie Caillat': 897, 'Sisqo': 298, 'Kreator': 1468, 'Twin Atlantic': 529, 'Britney Spears duet with Don Phillip': 269, 'Twista feat. Kayne West & Jamie Foxx': 830, 'Three 6 Mafia vs. Tiësto with Sean Kingston and Flo Rida': 242, 'Eminem / Dina Rae': 2287, 'Bat For Lashes': 405, 'Gazpacho': 329, 'MGMT': 7102, 'Sia': 2115, 'Cass McCombs': 753, 'Kirk Franklin & The Family': 261, 'Colt Ford': 383, 'Cass McCombs feat. Karen Black': 380, 'Opeth': 100, 'Beenie Man': 285, 'Natiruts': 4422, 'The Pussycat Dolls / Snoop Dogg': 433, 'Four Tet': 3720, 'Nelly Furtado': 472, 'Animal Collective': 1589, 'The Rembrandts': 234, \"Dustin O'Halloran\": 612, 'Sting': 2089, 'Eliza Doolittle': 627, 'Was (Not Was)': 314, 'Ying Yang Twins ft. Wyclef Jean': 362, 'Animotion': 260, 'King Floyd': 649, 'Scott Krippayne': 253, 'Delerium feat. Sarah McLachlan': 1209, 'Kate Voegele': 736, 'T-Pain featuring Teddy Verseti': 366, 'Yma Sumac': 81, 'Lupe Fiasco': 3205, 'Anouk': 437, 'Los Rodriguez': 1259, 'Jan Hammer': 483, 'All Good Funk Alliance': 184, 'Radiohead': 17899, 'Emanon': 72, 'Blufeld': 294, 'Full Blown Chaos': 116, 'Noisettes': 99, 'Incubus': 5610, 'Badly Drawn Boy': 337, 'The Casualties': 1380, 'Iron And Wine': 3392, 'Tears For Fears / Oleta Adams': 213, 'Sound 5': 778, 'Carrie Underwood': 863, 'Blackfoot': 246, 'The Kinks': 710, 'Paul & Fritz Kalkbrenner': 477, 'Stone Temple Pilots': 2872, 'Nevermore': 1103, 'Skids': 95, 'Starship': 370, 'Machine Head': 765, '10_000 Maniacs': 210, 'Kaskade': 922, 'Shop Boyz': 331, 'Big Kuntry King': 139, 'Paris Combo': 1037, 'Procol Harum': 894, 'White Rabbits': 164, '4 Skins': 113, 'The Animals': 758, 'The Fray': 1367, 'Black Sheep': 235, 'Talking Heads': 979, 'Noel Pointer': 476, 'Olivia Newton-John': 3085, 'The Monkees': 285, 'Juanes': 3871, 'The Pussycat Dolls / Busta Rhymes': 699, 'Damero feat. Nevis Peak': 961, 'Tiziano Ferro': 323, 'Apparat': 350, 'Bailter Space': 287, 'Spiderbait': 835, 'Carlos Y José': 470, 'Jennifer Lopez': 890, 'Fragma': 496, 'Donny Osmond': 84, 'Paco De Lucia': 367, 'Astrix': 122, 'Frightened Rabbit': 1832, 'The Supremes': 359, 'All Saints': 151, 'Days Of The New': 4479, 'They Might Be Giants': 116, 'Cristina Donà': 286, 'The Whitest Boy Alive': 2357, 'Method Man / Busta Rhymes': 197, 'Varios': 752, 'Penguins': 253, 'Sauce Money Featuring Jay-Z': 257, 'Kat DeLuna': 1092, 'Local H': 206, 'Big Mountain': 282, 'Kenny Rogers': 786, 'Wolfmother': 2212, 'The Black Eyed Peas': 92, 'Widespread Panic': 335, 'Telefon Tel Aviv': 473, '59 Times the Pain': 1726, 'Reik': 321, 'Mike And The Mechanics': 4626, 'Gabriel & Dresden': 209, 'Violeta Parra': 1006, 'Celtic Woman': 1385, 'We The Kings featuring Demi Lovato': 292, 'Slightly Stoopid': 1569, 'Flogging Molly': 2844, 'Savatage': 573, 'N.W.A ft. Eazy-E': 284, 'Sin Bandera': 809, 'Shaggy / Ricardo Ducent': 867, 'Candy Dulfer': 297, 'Carlos Baute': 642, 'Great White': 834, 'Moby': 3134, 'Os Paralamas Do Sucesso': 118, 'Alejandro Fernandez': 97, 'Akon / Wyclef Jean': 135, 'Showaddywaddy': 112, 'Samael': 145, 'Bow Wow': 838, 'Gin Blossoms': 765, 'Johnny Hates Jazz': 153, 'Major Organ And The Adding Machine': 364, 'Clarika': 410, 'Aereogramme': 169, 'Brain Drill': 159, '1990s': 594, 'Tech N9NE Collabos featuring Big Scoob_ Krizz Kaliko': 352, 'Collective Soul': 644, 'Randy Travis': 365, 'We Were Promised Jetpacks': 175, 'Murs': 102, 'Maxi Priest': 125, 'B.o.B': 3991, 'Octopus Project': 4682, 'Jimmy Buffett': 124, 'Fabolous / The-Dream': 200, 'Sebastien Tellier': 182, 'New Radicals': 1659, \"Gilbert O'Sullivan\": 179, 'Ligabue': 229, 'Public Enemy': 216, 'Edward Sharpe & The Magnetic Zeros': 6056, 'Leonard Cohen': 1322, 'Deepest Blue': 1277, 'Mickie Krause': 1974, 'Digable Planets': 188, 'Voo Doo Phunk': 618, 'Avantasia': 431, 'FC/ Kahuna': 215, 'Palm Skin Productions': 256, 'Tiësto': 996, 'J. Geils Band': 159, 'Nada Surf': 395, 'Travie McCoy': 5768, 'Stefan Schrom': 226, 'Mala Rodriguez': 516, 'Just Jack': 900, 'Razorlight': 334, 'Dolly Parton & Kenny Rogers': 163, 'Rokker Zsolti': 271, 'The Contours': 496, 'Eric Burdon & War': 522, 'Catupecu Machu': 496, 'Randy Crawford': 6048, 'Wall Of Voodoo': 303, 'Caro Emerald': 305, 'Mindy Smith': 241, 'Irish Tenors': 598, 'Lupe Fiasco feat. Nikki Jean': 198, 'Gavin DeGraw': 501, 'The Long Blondes': 264, 'Doris Day': 452, 'Deep Purple': 782, 'Afromental': 188, 'Leila Pinheiro': 240, 'Andy Starr': 440, 'Fleetwood Mac': 1179, 'Pet Shop Boys With Dusty Springfield': 116, 'Dominique A': 4782, 'Klaus Badelt': 1266, 'Tiny Vipers': 774, 'Sir Elwoodin Hiljaiset Varit': 300, 'Brooklyn Bounce': 1176, 'Hooligans': 377, 'Son By 4': 338, 'Ying Yang Twins ft. Pitbull': 729, 'Ulf Wakenius': 432, 'Blind Pilot': 578, 'Platero Y Tu': 1298, 'Andre Hazes': 1275, 'Alabama': 544, 'Weeping Tile': 446, 'The Robert Cray Band': 251, 'Julieta Venegas A Dueto Con Dante': 105, 'Rick Ross': 545, 'Fredericks_ Goldman_ Jones': 104, 'Transvision Vamp': 917, \"'N Sync/Phil Collins\": 177, 'Graham Coxon': 280, 'Pursuit Of Happiness': 223, 'Justice': 5210, 'Rodrigo y Gabriela': 1199, 'Carl Dobkins_ Jr.': 111, 'Yölintu': 776, 'Times New Viking': 616, 'Rebecka Törnqvist': 370, 'Kari Hansa & Gregers Hes': 414, 'Bohren & Der Club Of Gore': 2379, 'Bon Jovi': 10373, 'Bobby \"Boris\" Pickett': 412, 'BK-One': 626, 'John Mayer': 17955, 'Jennifer Lopez featuring Ja Rule': 200, 'João Gilberto': 2625, \"I'm From Barcelona\": 350, 'The Lonely Island / Justin Timberlake': 568, 'T. Rex': 244, 'Lupe Fiasco feat. Matthew Santos': 241, 'Ativin': 390, 'Shai': 301, 'Tears For Fears': 2698, 'Anberlin': 2203, 'Emilie Simon': 172, 'Musiq / Ayana': 321, 'Doc & Merle Watson': 101, 'Cuentos Borgeanos': 303, 'Dot Allison': 730, 'P. Diddy': 843, 'Afterhours': 152, 'Everything But The Girl': 1143, '3rd Force': 215, 'Astrud Gilberto': 204, 'Brenda Lee': 118, 'Jason Mraz': 5824, 'The Killers / Toni Halliday': 65, 'Junior Senior': 173, 'Alex Gaudino Feat. Shena': 102, 'Ace Frehley': 86, 'Sauce Money Featuring Memphis Bleek': 1227, 'Kristinia DeBarge': 319, 'Amanda Seyfried': 388, 'Velvet Underground & Nico': 80, 'Diddy - Dirty Money / T.I.': 294, 'Space Cat vs Pixel': 150, 'Tito El Bambino': 369, 'New Found Glory': 607, 'Line Renaud': 2252, 'SNAP!': 807, 'Jurassic 5 / Nelly Furtado': 135, 'Uncle Kracker': 1822, 'The Morning Benders': 202, 'Dorian': 85, 'Dazz Band': 260, 'Lupe Fiasco feat. Biship G and Nikki Jean': 255, 'Hit-O-Matic': 99, 'Danny Gatton': 260, 'Blondie': 1416, 'Kings Of Convenience': 1248, 'Dum Dum Girls': 377, 'CKY': 1133, 'Alison Krauss / Union Station': 1864, 'Falling Up': 256, 'Anna Nalick': 270, 'Lonestar': 221, 'Benny Benassi': 228, 'Mad Season': 119, 'Michelle Shocked': 217, 'Spice Girls': 910, 'The Cinematic Orchestra feat. Fontella Bass': 102, 'Sonny Boy Williamson': 1831, 'Telepopmusik': 740, 'The Everly Brothers': 153, 'Westside Connection Featuring Nate Dogg': 120, 'MxPx Feat. Mark Hoppus': 261, 'Kate Winslet': 728, 'Gibonni': 402, 'J-Black & Masta Ace': 365, 'Gian Marco': 976, 'Restiform Bodies': 3169, 'The Roots / Cody Chestnutt': 554, 'Lionel Richie / Diana Ross': 451, 'Crystal Waters': 147, 'Mariah Carey / Damian Marley': 67, 'Musiq': 1107, 'John Michael Montgomery': 661, \"Sexion d'Assaut\": 293, 'India.Arie': 1392, 'Ok Go': 1911, 'Sister Nancy': 222, 'New Model Army': 145, 'Rihanna / will.i.am': 515, \"Christina Aguilera / Lil' Kim / Mya / Pink\": 1271, 'The Boxer Rebellion': 182, 'Ericke': 198, 'Rick Ross / T-Pain': 136, 'The Knife': 1584, 'New Boyz': 1067, 'Cracker': 674, 'Afroman': 839, 'Rachael Yamagata;Malcolm Burn': 306, 'Rilo Kiley': 1993, 'Damian Marley / Nas': 542, 'Huggy Bear': 341, 'Pixie Lott': 329, 'Caparezza': 233, 'D-12 / Obie Trice': 141, 'Default': 73, 'Buju Banton': 359, 'Sweet': 162, 'Bryan Adams / Sting / Rod Stewart': 271, 'Jurassic 5 / Dave Matthews Band': 196, 'Alter Ego': 209, 'Culture Club': 518, 'Regina Spektor': 3858, 'Sam Cooke': 14029, 'Horkyze Slyze': 715, 'Bond': 368, 'David Gray': 993, 'We Came As Romans': 282, 'Spineshank': 834, 'Iron Butterfly': 569, 'The Blues Brothers': 1418, 'Midlake': 187, 'Artist Unknown': 514, 'Beyoncé feat. Slim Thug': 763, 'The Black Ghosts': 151, \"Colby O'Donis / Akon\": 164, 'The Buggles': 3879, 'Corona': 419, 'Dimension 5': 453, 'A-Team': 170, 'Second Hand Serenade': 1066, 'Richard Marx': 654, 'Olle Adolphson': 747, 'Bell Biv DeVoe': 581, 'Stijn': 231, 'Oscar Peterson': 461, 'Britney Spears': 5028, 'Harmonia': 21646, 'Modest Mouse': 7329, 'Melody Club': 206, 'Sepultura': 123, 'Afro Celt Sound System': 1074, 'Kevin Blechdom': 964, 'Department of Eagles': 85, 'The Mercury Program': 547, 'Thelonious Monk': 172, 'Khia': 342, 'Jack Johnson / Paula Fuga': 360, 'Smash hit combo': 169, 'Backstreet Boys': 317, 'Piratensound': 114, 'Smash Mouth': 2972, 'The Young Rascals': 83, 'P!nk': 1009, 'Iration': 1749, 'We The Kings': 2056, 'Maria Gadú': 235, 'The Distillers': 308, 'Luis Alberto Spinetta': 341, 'Jamie Foxx featuring T-Pain': 629, 'Cliff Richard & The Shadows': 2052, 'Carter Burwell': 605, 'Electric Light Orchestra': 393, 'Counting Crows': 2709, 'Hermano': 221, 'Ibrahim Ferrer': 328, 'Pendulum': 2347, 'Silverstein': 154, 'Band Aid': 248, 'Beastie Boys': 10427, 'Annie Lennox': 166, '50 Cent / Lloyd Banks / Eminem': 284, 'Gaz Nevada': 912, 'Nâdiya': 36, 'Officer Negative': 112, 'Klaxons': 1205, 'Blues Traveler': 512, 'OneRepublic': 25754, 'The Wombats': 657, 'Mano Negra': 1197, 'Bodyrox': 901, 'Peter Sarstedt': 169, 'Keri Hilson / Lil Wayne': 283, 'Sleater-kinney': 422, 'Less Than Jake': 109, 'Armored Saint': 107, 'Homesick James': 1430, 'Mansun': 648, 'Gold Panda': 227, 'Mariah Carey Featuring Busta Rhymes_ Fabulous And  DJ Clue': 77, '98º': 248, 'Faithless Featuring Dido': 339, 'Next': 191, 'D-12': 1428, 'Cupid': 454, 'Magic Sam': 158, 'Josh Ritter': 81, 'Afrika Bambaataa & The Soul Sonic Force': 466, 'Anathema': 131, 'El Coyote Y Su Banda Tierra Santa': 187, 'Chuck Berry': 432, 'Showtek': 112, 'The Pussycat Dolls': 3917, 'Eastern Sun and John Kelley': 402, 'Medeski_ Martin & Wood': 106, 'Evanescence': 11522, 'Brett Dennen': 678, 'Ray J / Yung Berg': 458, 'Ellie Goulding': 2762, 'Jadakiss / Jazmine Sullivan': 212, 'Ziggy Marley': 389, 'Headhunterz': 451, 'Kraftwerk': 214, 'The Wreckers': 450, 'Silvain Vanot': 267, 'Ben Folds': 897, 'Suzanne Vega': 292, 'Stevie Nicks & Don Henley': 187, 'O.A.R.': 794, 'Confederate Railroad': 549, 'Gaelic Storm': 162, 'The Cinematic Orchestra': 607, 'Erin Bode': 2531, 'Midnight Oil': 231, 'Alice In Chains': 5615, 'Masta Killa': 383, 'The Ian Carey Project': 268, 'Tim Wilson': 461, 'Eazy-E': 498, 'Propellerheads': 244, 'Jay-Z / Linkin Park': 308, 'Earth_ Wind & Fire': 614, 'Wu-Tang Clan featuring CappaDonna': 97, 'Southside Spinners': 3864, 'Damien Rice and Lisa Hannigan': 174, 'Calle 13 Feat. Rubén Blades Y La Chilinga': 411, 'The Postal Service': 2423, 'Operation Ivy': 369, 'Split Enz': 326, 'The Pointer Sisters': 200, 'Primal Scream;Kate Moss': 144, 'Crystal Castles': 5311, 'Juelz Santana': 112, 'Bob Marley & The Wailers': 469, 'Fedde Le Grand': 466, 'Railroad Earth': 398, 'William Bell': 211, 'Bonobo Featuring Andreya Triana': 374, 'Norman Greenbaum': 485, 'DeGarmo & Key': 1081, 'Girl Talk': 1973, 'Akron/Family': 141, 'Gang Of Four': 1273, 'Chris Taylor': 273, 'Toby Keith': 3189, 'DJ SS': 505, 'Lloyd': 317, 'Bacilos': 1467, 'Marvin Gaye / Kim Weston': 183, 'Juaninacka': 138, 'Jibbs': 142, 'The Veronicas': 1477, 'Bobby Valentino / Timbaland': 239, 'Subhumans': 1547, 'Enrique Iglesias / Lil Wayne': 279, 'Donnie Fritts': 92, 'Grover Washington Jr. feat. Bill Withers': 745, 'KC And The Sunshine Band': 981, 'Ultra Vivid Scene': 149, 'Gregory Isaacs': 281, 'The Prodigy': 5003, 'Akon': 3036, 'Beck': 1461, 'DAVE MATTHEWS BAND': 4043, 'Matchbook Romance': 359, 'Teriyaki Boyz': 219, 'Zucchero / Paul Young': 533, 'Harold Faltermeyer': 151, 'Nelly / David Banner / 8-Ball': 441, 'Method Man / Ghostface Killah / Solomon Childs / Streetlife': 439, 'Tiefschwarz': 512, 'Lange': 1474, 'Maná': 3477, 'Hypasonic': 394, 'The Marcels': 261, 'Sonique': 172, 'The Rolling Stones': 3240, 'Dr. Dre / Eminem': 1450, 'Them Crooked Vultures': 160, 'O Terco': 143, 'Big Tymers / Gotti / TQ / Mikkey': 223, 'Devo': 823, 'Maroon 5': 5008, 'Yann Tiersen': 4107, 'Spinetta Jade': 288, 'Mountain Goats': 190, 'Wax Tailor': 153, 'Matisyahu': 781, 'Huey Lewis & The News': 790, 'Fisher': 2970, 'R.I.O.': 519, 'Caetano Veloso': 416, 'Joyce Cooling': 2096, 'Minus The Bear': 145, 'Talk Talk': 435, 'Dropkick Murphys': 3820, 'Sunidhi Chauhan / Anu Malik / Jatin Sharma': 482, 'Suspekt': 276, 'Elton John / Kiki Dee': 673, 'George Michael': 361, 'Gustavo Cerati': 145, 'Joaquin Sabina': 572, 'Hans Zimmer': 224, 'Gorillaz Featuring Mos Def and Bobby Womack': 255, 'Avril Lavigne': 6398, 'MC Esoteric': 167, 'The Last Goodnight': 387, 'The Lonely Island / Natalie Portman / Chris Parnell': 399, 'Chad & Jeremy': 136, 'Rihanna / J-Status': 115, 'Bon Iver': 6547, 'Los Bunkers': 267, 'Joni Mitchell': 402, 'Lamb': 773, 'Black Eyed Peas / Justin Timberlake': 91, 'Eminem / Hailie Jade': 1069, 'Little River Band': 161, 'Craig Morgan': 514, \"Soulja Boy Tell'em\": 1204, 'Vanessa Williams': 1788, 'blessthefall': 520, 'Lloyd Banks / 50 Cent': 294, 'De La Soul': 480, 'Foreigner': 714, 'Lucero': 895, 'Survivor': 1830, \"Diam's\": 2979, 'Daughtry featuring Slash': 524, 'Delegation': 700, 'The Mountain Goats': 125, 'DJ Jazzy Jeff & The Fresh Prince': 247, 'The Mad Capsule Markets': 224, 'Nino Bravo': 223, 'Queensryche': 1048, 'Kanye West / Talib Kweli / Q-Tip / Common / Rhymefest': 38, 'Horse Feathers': 231, 'ItaloBrothers': 664, 'Ray Barretto': 461, 'Cream': 1335, 'Cazuza': 150, 'Rufus And Chaka Khan': 118, 'Dim Pees': 352, 'Stealers Wheel': 432, 'Dusty Springfield': 749, \"The B-52's\": 882, 'Harvey Lindo': 126, 'Yelle': 369, 'Onyx': 280, 'Luke Haines': 63, 'Boys Like Girls': 747, 'The Bloody Beetroots': 490, 'Elton John': 1105, 'Roots Manuva': 310, 'Jaci Velasquez': 1614, 'Louis Prima And Keely Smith': 263, 'Jordan Francis/Roshon Bernard Fegan': 1058, 'Bubba Sparxxx': 617, 'Redman': 302, 'Tokyo Police Club': 439, 'The Roots / Erykah Badu': 431, 'Rick Cua': 405, 'Faith No More': 4829, 'Jurassic 5': 584, 'Cupid feat. B.o.B.': 145, 'Corey Hart': 303, 'Giuliano Palma & The Bluebeaters': 174, 'The Dingees': 107, 'Gallows': 394, 'The Doobie Brothers': 619, 'Dilated Peoples Featuring Kanye West': 160, 'Infected Mushroom': 1829, 'Melodium': 584, 'Cradle Of Filth': 4806, 'Hans Zimmer_ James Newton Howard': 336, 'Missy Higgins': 444, 'Los Pericos': 1348, 'Ricchi E Poveri': 665, 'K-Ci & JoJo': 361, 'Zero 7': 1920, 'The Fratellis': 755, 'Krisiun': 926, 'Percy Sledge': 430, 'Alceu Valença': 4798, 'Wet Wet Wet': 133, 'Sugababes': 329, 'Pepper': 2629, 'Beyoncé featuring Big Boi and Sleepy Brown': 89, 'Iyaz': 1715, 'Nocturnal Rites': 153, 'Visage': 158, 'Far Corner': 751, 'Tom Waits': 281, 'Janelle Monae': 193, 'Daughtry': 3541, 'Suzi Quatro': 1257, 'Plan B': 648, 'Adam Lambert': 4993, 'Silk': 221, 'Lionel Richie': 1235, 'Stephen Marley / Damian Marley': 144, 'Montell Jordan': 854, 'Ohio Players': 96, 'Apocalyptica featuring Corey Taylor': 174, 'MORS PRINCIPIUM EST': 301, 'Radars to the Sky': 411, 'The Chipmunks With David Seville': 81, 'Nicolai Dunger': 313, 'Calle 13 Featuring Tego Calderón': 123, 'Queen': 4234, 'Sean Paul': 1770, 'Wheatus': 579, 'Bad Company': 487, 'The Velvet Underground': 1410, 'Alan Jackson Duet with Jimmy Buffett': 127, 'Junior Kimbrough And The Soul Blues Boys': 249, 'Johnny Thunders': 107, 'TECH N9NE feat. Kutt Calhoun_ Big Krizz Kaliko_ Snug Brim_ Greed_ and Skatterman': 116, \"Mama's Jasje\": 109, 'Joe Satriani': 150, 'The Doors': 1815, 'Scandinavian Music Group': 1092, 'Robert Miles': 522, 'Cybertron': 395, 'Drake / Lil Wayne / Young Jeezy': 285, 'Dwight Yoakam': 40619, 'Hollywood Undead': 6186, 'Sean Kingston': 237, 'Pixies': 6241, 'Tony Rice': 271, 'Foolish Things': 4661, 'Dope': 357, 'Luke Bryan': 3326, 'Lynyrd Skynyrd': 2389, 'Niccolò Fabi': 1713, 'Damn Yankees': 119, 'Bersuit Vergarabat': 2127, 'Dr. Alban': 332, 'Marques Houston': 1055, 'Slash': 440, 'Thursday': 5225, 'Steely Dan': 3427, 'K-OS': 1183, 'Yonder Mountain String Band': 518, 'Aisha Duo': 179, 'Interpol': 3218, 'Gareth Emery': 197, 'My Chemical Romance': 5175, 'Nate Dogg feat.  Warren G': 131, 'Peter Tosh': 1191, 'Ace of Base': 1216, 'Tonic': 692, \"Booker T. & The MG's\": 642, 'Will Smith': 380, 'Tegan And Sara': 1726, 'Leona Lewis': 4732, 'Air': 3314, 'Plastilina Mosh_ Ximena Sariñana_ Patricia Lynn': 120, 'Johnny & the Hurricanes': 270, 'Gene Kelly': 251, 'PJ Harvey': 361, 'Goldfrapp': 1929, 'Thrice': 1270, 'Darwin Deez': 268, 'Blacks ft. P Money': 108, 'Jon Secada': 255, 'Alaska Y Dinarama': 1069, 'Ricardo Arjona': 899, 'Dead Or Alive': 329, 'Frumpies': 5341, 'Ely Guerra': 441, 'Rock Kills Kid': 886, 'Junior Boys': 369, \"Cam'Ron / Juelz Santana / Un Kasa\": 162, 'Nine Inch Nails': 8882, 'Whitesnake': 149, 'Cinderella': 381, 'The Spencer Davis Group': 163, 'Archie Shepp': 166, 'Foghat': 165, 'Chris Brown featuring Game': 131, 'Metallica': 20336, 'Shakira ft. Wyclef Jean': 2031, 'The Tallest Man On Earth': 1309, 'Gunther & the Sunshine Girls': 154, 'Santana': 68, 'Stephane Pompougnac': 252, 'I-Roy': 174, 'Timbaland': 63, 'Plastic Bertrand': 164, 'the bird and the bee': 3161, 'Handsome Boy Modeling School': 319, 'Secondhand Serenade': 1007, 'J.T. Money': 406, 'Beres Hammond': 85, 'Naked Eyes': 172, 'Booka Shade': 398, 'Allan Sherman': 177, 'harvey summers': 31, 'Boys Noize': 1862, 'tobyMac': 504, 'Frankie Valli': 243, 'Young Money featuring Lloyd': 1909, 'Sufjan Stevens': 52, 'Mario Lang': 304, 'Trentemøller': 465, 'Damian Marley': 584, 'Thomas Dolby': 128, 'Airbourne': 206, 'Kings Of Convenience Featuring Feist': 70, 'Litfiba': 385, 'Canned Heat': 648, 'Victor Jara': 320, 'The Kooks': 5461, 'keller williams': 2225, 'Keith Sweat Featuring Athena Cage': 1084, 'The Style Council': 129, 'Faith Evans (Featuring Carl Thomas)': 216, 'Suicidal Tendencies': 965, 'GROVER WASHINGTON_ JR.': 211, 'Lupe Fiasco feat. Sarah Green': 289, 'Travis Tritt': 978, 'Bo Kaspers Orkester': 364, 'Bo Diddley': 559, 'Black Sabbath': 569, 'Senses Fail': 244, 'Billy Talent': 1233, 'The Hues Corporation': 184, 'Bobby Womack': 148, 'Lil Wayne / T-Pain': 672, 'Alex Party': 784, 'Everclear': 1024, 'Gerry Rafferty': 661, 'Iron Maiden': 3428, 'Rob Base & DJ EZ Rock': 220, 'Joa~o Gilberto': 1418, 'Parachute': 1398, 'Coeur De Pirate': 287, 'Labi Siffre': 227, 'Silentium': 146, 'Jules Shear': 694, 'The Tough Alliance': 147, 'Amon Amarth': 751, 'Busta Rhymes and Mariah Carey featuring The Flipmode Squad': 164, 'Miranda Lambert': 1319, 'Dire Straits': 261, 'Boys Night Out': 318, 'California Swag District': 4329, 'Beyonce': 122, 'Home Grown': 238, 'Margaret Becker': 584, 'Mott The Hoople': 49, 'Fate': 180, 'TECH N9NE feat. Kutt Calhoun & Big Krizz Kaliko': 369, 'Candlebox': 224, 'Ram Jam': 230, 'Alanis Morissette': 4034, 'Deana Carter': 736, 'Cutting Crew': 378, 'Justin Bieber / Jessica Jarrell': 1499, 'Warriors_ The': 144, 'John Frusciante': 536, 'The Danleers': 374, 'Priscilla Ahn': 358, 'Cypress Hill featuring Damian Marley': 45, 'Sly & The Family Stone': 621, 'Under The Influence Of Giants': 169, 'Glen Hansard & Marketa Irglova': 955, 'Airwave': 46, 'Tori Amos': 250, 'Floetry': 196, 'Smile Empty Soul': 750, 'Oscar Brown Jr.': 212, 'Keely Smith': 131, 'M. Pokora': 307, 'Chordettes': 211, 'Pavel Dobes': 396, 'N.W.A featuring Eazy-E': 348, 'Epica': 890, 'Framing Hanley': 466, 'The Rapture': 262, 'Kid Abelha': 157, 'Looptroop': 1919, 'The Cars': 209, 'Katy Perry': 5486, 'Yung Joc featuring Diddy': 54, 'Alicia Keys featuring Tony! Toni! Toné! and Jermaine Paul': 512, 'Diamanda Galas': 548, 'Beats Antique': 140, 'Neko Case': 91, 'Say Anything': 520, 'Calexico': 124, 'Van Halen': 4087, 'New Young Pony Club': 80, 'Insane Clown Posse': 1494, 'John Cale': 239, 'Algora': 186, 'Barry White': 1696, 'Jem': 732, 'Cosmic Gate feat. Aruna': 140, 'moe.': 402, 'A Tribe Called Quest': 508, 'Antonio Vivaldi': 389, 'Mötley Crüe': 1243, 'Band Of Horses': 6917, 'Chingy Featuring J/Weav': 418, 'Selena': 1646, 'Placebo': 1398, 'The Ventures': 318, 'Yung Joc featuring The Game_ Jim Jones & Block': 66, 'STEVE CAMP': 280, 'Nicola Marchioro': 106, 'Air France': 930, '4 Strings': 138, 'Bone Thugs-N-Harmony': 328, 'Menno De Jong feat. Relocate': 327, 'Kim Carnes': 683, 'Jimi Hendrix': 1743, 'The Ronettes': 668, 'Disturbed': 7734, 'Bebel Gilberto': 211, 'Beyoncé feat. Bun B and Slim Thug': 26, 'Yeah Yeah Yeahs': 5874, 'Puddle Of Mudd': 1041, 'Hervé & Kissy Sellout': 190, 'The Chi-Lites': 250, 'Lauryn Hill Featuring Mary J. Blige': 242, 'New Edition': 224, 'Dragonforce': 1606, 'Ella Fitzgerald': 960, 'Dynamite Deluxe': 399, 'Ralph Stanley': 220, 'Les Savy Fav': 581, 'Asia 2001': 1736, 'Angels Of Light & Akron/Family': 1630, 'Joe Christmas': 963, 'The Who': 456, 'Dru Hill': 396, 'The Decemberists': 5070, 'The Beastie Boys': 302, 'O.G.C.': 2215, 'Nonpalidece': 337, 'Underworld': 1225, 'Drowning Pool': 4393, 'George Michael;George Michael Duet with Elton John': 141, 'Vanessa Carlton': 1088, 'The Griswolds': 132, 'Rise Against': 14419, 'Scissor Sisters': 1555, 'Jay-Z featuring Memphis Bleek': 97, 'Scritti Politti': 139, 'Erasure': 1432, 'Otis Redding': 686, 'Michael Bublé (With Nelly Furtado)': 645, 'Frankie Lymon And The Teenagers': 278, 'Gyptian': 695, 'Ste Strausz': 429, 'Carlos Vives': 390, 'King Curtis': 285, 'Aventura': 2697, 'SONATA ARCTICA': 280, 'Elvis Perkins In Dearland': 372, 'Keith Sweat': 462, 'Wild Cherry': 515, 'DecembeRadio': 972, 'The Turtles': 986, 'Lil Boosie feat. Webbie': 219, 'Daath': 179, 'Nelly / City Spud': 494, 'Pinback': 144, 'John Mellencamp': 678, 'Brian McKnight': 472, 'Herb Alpert And The Tijuana Brass': 665, \"Cam'Ron / Juelz Santana / Freekey Zeekey / Toya\": 353, 'Brisa Roché': 1139, 'Jeremih': 1348, 'The Wallflowers': 1004, 'Otis Redding & Carla Thomas': 120, 'Anneli Drecker': 231, 'Nickelback': 12349, 'Rick Ross / Nelly / Avery Storm': 134, 'SKOLD vs. KMFDM': 218, 'Michael Bublé': 10180, 'Nicki Minaj / Sean Garrett': 263, 'Scatman John': 368, 'OceanLab': 141, 'David Banner / Chris Brown / Yung Joc': 252, 'Sonic Youth': 1126, 'Antonio Vega': 147, 'A Tribe Called Quest featuring Faith Evans': 119, 'T.I. & DJ Drama': 119, 'Chuck Mangione': 827, 'Belle & Sebastian': 1252, 'Rihanna / Slash': 1135, 'Rebelution': 426, 'Guru': 188, 'Jewel': 622, 'Various Artists - Delicious Vinyl': 746, 'Calle 13 Featuring Orishas': 400, 'Bunbury': 171, 'Breaking Benjamin': 1967, 'Tycho': 486, 'Laura Pausini': 1038, 'C & C Music Factory Feat. Freedom Williams': 468, 'Bassholes': 295, 'Plies': 1127, 'Audio Bullys Featuring Nancy Sinatra': 796, 'Creedence Clearwater Revival': 14137, 'Dr. Dre / Snoop Dogg': 1185, 'Savage Garden': 727, 'Hercules & Love Affair': 218, 'Al Stewart': 281, 'Tantric': 168, 'Crazy Frog': 414, 'Lipps Inc.': 1257, 'Madness': 450, 'Deadmau 5': 43, 'Kelis': 582, 'Damian \"Jr. Gong\" Marley': 141, 'The Crystal Method featuring LMFAO': 78, 'Carlton Livingston_ Shabba Ranks': 212, 'Juanes / Nelly Furtado': 541, 'Mew': 434, 'Justin Timberlake': 6164, 'Alice Deejay': 537, 'Polly Paulusma': 1641, 'Marc Anthony;Jennifer Lopez': 211, 'Electric Envoy': 275, 'Easy Star All-Stars': 675, 'Efecto Mariposa': 718, 'Jaco Pastorius Big Band': 110, 'Dierks Bentley': 2592, 'Pilot Speed': 62, 'Todd Rundgren': 368, 'Rev Run': 246, 'Andy Dodd & Adam Watts': 119, 'Theatre Of Tragedy': 176, 'The Rogue Element': 288, 'Lupe Fiasco feat. GemStones and Graham Burris': 183, 'Big Country': 132, 'Timbaland & Magoo': 208, 'DJ Sammy & Yanou Featuring Do': 393, 'Ready For The World': 511, 'Waldeck': 191, \"Fun Lovin' Criminals\": 149, 'Carolina Liar': 759, 'Miranda!': 393, 'M.I.A.': 2666, 'Architecture In Helsinki': 138, \"JoJo / Lil' Bow Wow\": 214, 'Yulara': 503, 'Nickel Creek': 1092, 'MC 900 Ft. Jesus': 671, 'Silversun Pickups': 2256, 'Selena Gomez': 250, 'Guus Meeuwis': 135, 'The Radio Dept.': 294, 'Genesis': 642, 'Jim Sturgess / Dana Fuchs': 170, 'El Cuarteto De Nos': 638, 'Kanye West / Jay-Z': 321, \"Eden's Bridge\": 163, 'Flying Lotus': 1454, 'Katrina & The Waves': 530, 'dEUS': 426, 'Francesca Battistelli': 700, 'Michael Franti & Spearhead': 285, 'The Maine': 1695, 'Mary J. Blige / John Legend': 76, 'Miles Davis': 574, 'Mischa Daniels': 634, 'Freddy Fader meets Locana': 86, '2 Unlimited': 428, 'The Runaways': 341, 'Jim Jones': 110, 'Adrian Belew': 69, 'She Wants Revenge': 202, 'Robert Plant & Alison Krauss': 300, 'Wilco': 1049, 'Santana featuring Mana': 246, 'Gwen Stefani / Eve': 325, 'Sangre Azul': 47, 'Guts': 338, 'Eels': 534, 'Usher featuring Jay Z': 88, 'New Order': 2155, 'Eddie Vedder': 3352, 'The Human League': 1333, 'Bryan Ferry': 743, 'The Crests': 6908, 'P.O.D.': 2708, 'Ashra': 577, 'David Lee Roth': 191, 'Alien Ant Farm': 949, 'Need New Body': 204, 'REO Speedwagon': 587, 'D4L': 159, 'Pedro Aznar': 126, 'Mike Posner': 673, 'Global Deejays': 147, 'Bram Vermeulen': 1227, 'Tavares': 1131, 'Covenant': 1542, 'Robyn Hitchcock and The Egyptians': 113, 'Yael Naïm': 1148, 'Koop': 563, 'James': 89, 'Boney M': 151, 'Atomic Kitten': 1884, 'Johan Gielen': 363, 'The Raconteurs': 713, 'The Gaslight Anthem': 525, 'The Almost': 117, 'New York Dolls': 72, 'Scott Matthews': 167, 'Pedestrian': 628, 'Danzig': 147, 'Alejandro Sanz': 4148, 'Jonas Brothers': 3485, 'Switches': 51, 'Buckcherry': 2808, 'Apocalyptica': 3698, 'Ou Est Le Swimming Pool': 152, 'Brandy duet with Monica': 593, 'Sigur Rós': 1011, 'The Lonely Island / E-40': 121, 'Righteous Pigs': 1129, 'Jonathan Coulton': 1260, 'Harry Gregson-Williams': 129, 'Deadmau5 & Chris Lake': 107, 'Royksopp': 2237, 'Owen Pallett': 219, 'Lauryn Hill Featuring Carlos Santana': 250, 'Tab Benoit': 1861, 'Dream Theater': 850, 'Amos Lee': 3583, 'Jamie Cullum': 698, 'Lifehouse': 6654, 'Philmont': 359, 'Cinematic Orchestra': 87, 'Extreme': 1122, 'Nero': 250, 'Eminem / Nate Dogg': 2302, 'The Stone Roses': 254, 'Miguel Calo': 1095, 'Billy Currington': 1812, 'Battles': 270, 'Christophe Maé': 146, 'Death In Vegas': 614, 'Devendra Banhart': 1301, 'Linda Ronstadt': 290, 'Unk': 196, 'Crayons': 679, 'Augury': 196, 'The New Pornographers': 3136, 'Smokey Robinson & The Miracles': 1659, 'Eugene Ormandy': 269, 'JET': 1058, 'All American Rejects': 89, 'Poverty Stinks': 585, 'Monica featuring Tyrese': 54, 'Mud': 342, 'Fort Minor (Featuring Styles Of Beyond)': 724, 'Prince & The New Power Generation [with Eric Leeds on Flute]': 90, 'Theatres Des Vampires': 219, 'Ashanti': 632, 'Maskinen': 257, 'Stacie Orrico': 215, 'Crash Test Dummies': 177, 'Carla Bruni': 2459, 'Ella Baila Sola': 159, 'Pantera': 2619, 'Derek & The Dominos / Eric Clapton': 316, 'Clout': 129, 'Fiona Apple': 192, 'Damien Rice': 3599, 'Crystal': 1617, 'Cobra Starship Featuring Leighton Meester': 1092, 'Erykah Badu': 1150, 'Twisted Sister': 187, 'David Banner': 59, 'The Script': 3465, 'Red Hot Chili Peppers': 9758, 'Static-X': 995, 'Sanctus Real': 423, 'Elliott Smith': 2190, 'Ours': 220, 'Rakim': 53, 'Inhale Exhale': 403, 'Simon Harris': 3279, 'Florence + The Machine': 33387, 'Eisbrecher': 649, 'Buffalo Springfield': 688, 'Bløf': 291, 'White Town': 932, 'Múm': 206, 'Mac Lethal': 194, 'Offer Nissim': 58, 'Yung Joc featuring Bun B & Young Dro': 103, 'M83': 1619, 'Talib Kweli': 273, 'The Rascals': 222, \"Destiny's Child\": 775, 'The Alter Boys': 796, 'Baby Bash / Akon': 125, 'Nando Reis': 774, 'Joe Nichols': 1956, 'The Album Leaf': 391, 'Rachid Taha': 1687, 'DJ Laz': 134, 'Decadence': 214, 'In Flames': 922, 'Spook And The Guay': 208, 'The Velvet Underground / Lou Reed': 323, 'Willy Mason': 57, 'Rogue Wave': 215, 'Refused': 339, 'Old Crow Medicine Show': 1084, 'Porcupine Tree': 778, 'Diego Torres': 187, 'Built To Spill': 322, 'Faith Hill': 981, 'Eddie Santiago': 443, 'Belanova': 1020, 'Kate Bush': 573, 'Benjy Ferree': 58, 'Daniel Bedingfield': 425, 'The Housemartins': 423, 'Huey Lewis And The News': 1857, 'Cidinho': 206, 'The Format': 90, 'Killswitch Engage': 1396, 'Luis Fonsi': 430, 'ARRESTED DEVELOPMENT': 1748, 'Deviates': 213, 'Crazy Town': 652, 'The Dirty Projectors': 95, 'Redman / Keith Murray': 197, 'Mariah Carey / Jermaine Dupri': 314, 'Starflyer 59': 1542, 'Peter Sellers': 1943, 'Parliament': 108, 'Selena Y Los Dinos': 275, 'Flaminio Maphia': 117, 'Major Lazer / Vybz Kartel / Afrojack': 287, 'Buena Vista Social Club': 1155, 'Liz Phair': 322, 'PFR': 147, 'Kosheen': 743, 'Alliance Ethnik': 26689, 'Mylène Farmer': 276, 'Easton Corbin': 1629, 'Kiss Kiss Kiss': 194, 'Mayer Hawthorne': 118, 'Black Box': 268, 'Björk': 38889, 'Minnie Riperton': 429, 'Eminem / DMX / Obie Trice': 833, 'Dobie Gray': 174, 'Light This City': 44, 'Cocorosie': 266, 'Marina And The Diamonds': 1467, 'Simian Mobile Disco': 1264, 'Ministry': 76, 'James Blunt': 2129, 'Pete Rock & C.L. Smooth': 122, 'Eve / Truth Hurts': 636, 'Kanye West / Mos Def / Al Be Back': 78, 'Van McCoy': 196, 'Rick Astley': 383, 'The Hassles Feat. Billy Joel': 154, 'EPMD / Nocturnal': 268, 'Coko featuring Kirk Franklin': 997, 'U2': 6436, 'Grizzly Bear': 941, 'Bombay Bicycle Club': 211, 'B.B. King': 374, 'Inner City': 396, 'Guano Apes': 217, 'Kid Cudi / Billy Craven': 289, \"Flamin' Groovies\": 901, 'The Five Stairsteps': 274, 'CREMATORY': 747, \"Usher Featuring Lil' Jon & Ludacris\": 2182, 'Jesse Garcia': 204, 'Billy Bragg': 291, 'Stevie Nicks': 591, 'The Asteroids Galaxy Tour': 289, 'Edenbridge': 390, 'Kelly Clarkson': 3158, 'Company Flow': 156, 'The Police': 6116, 'Naughty By Nature': 125, 'Tex Williams': 293, 'Cameo': 2231, 'Rufus Wainwright': 1820, 'Lonnie Gordon': 12506, 'The Notorious B.I.G.': 6601, 'Freda Payne': 277, 'Ex-Models': 166, 'Sony Wonder': 117, 'Bouncing Souls': 249, 'Bill Withers': 8820, 'Damian Marley / Stephen Marley': 135, 'The Chills': 160, 'Faunts': 90, 'The Heavy': 257, 'Jan & Dean': 386, 'Cascada': 208, 'Soundgarden': 2963, 'Charlie Peacock': 312, 'Dr. Dre / Devin a/k/a The Dude / Snoop Dogg': 309, 'Owsley': 221, 'Switchblade Symphony': 1215, 'John Fogerty': 118, 'Leif Ove Andsnes': 371, 'Whitney Houston Duet With Mariah Carey': 241, 'Seventh Key': 110, 'Citizen Cope featuring Carlos Santana': 400, 'Narco': 310, 'Gram Parsons': 194, 'Kevin Rudolf / Rick Ross': 234, 'Chase & Status ft. Plan B': 279, '3 Doors Down': 13047, 'Cursive': 126, 'June Carter Cash;Johnny Cash': 238, 'Evan Rachel Wood': 132, 'Golden Earring': 455, 'John Butler Trio': 501, 'OMD': 117, 'Janet Jackson': 935, 'Belle and Sebastian': 631, 'Led Zeppelin': 1235, 'Rose Royce': 675, 'Peaches & Herb': 224, 'LL Cool J': 558, 'The Spill Canvas': 549, 'Social Distortion': 208, 'Leon Gieco': 153, 'The Dears': 274, 'Jason Aldean': 2169, 'The Cult': 260, 'Eagle-Eye Cherry': 1002, 'The Dream Academy': 234, 'Veto': 182, 'Trademark': 40, 'Hombres G': 270, 'The Pains Of Being Pure At Heart': 72, 'After 7': 126, 'The Cinematic Orchestra feat. Roots Manuva': 89, 'Afghan Whigs': 206, 'Il Divo': 222, 'Kultur Shock': 98, 'Mogwai': 913, 'Starsailor': 98, 'Tesla': 80, 'Mesa (Portuguese Group)': 404, 'Jay Landers/Matthew Gerrard/Robbie Nevil': 67, 'Hey Monday': 125, 'Elvis Presley': 347, 'Dizzee Rascal and Armand Van Helden': 443, 'Secret Machines': 677, 'David Bisbal': 482, 'Pearl Jam': 8449, 'Lupe Fiasco feat. Sarah Green and GemStones': 74, 'Labelle (featuring Patti Labelle)': 260, 'Melanie Fiona': 158, 'The Tokens': 188, 'Michael Bublé (Featuring Chris Botti)': 148, 'Thirteen Senses': 388, 'Alan Sorrenti': 563, 'Ernie Ranglin': 669, '2 Minutos': 109, 'Cheryl Cole': 704, 'Elvis Crespo': 237, 'Mountain': 212, 'Robin Gibb': 127, 'Laura Marling': 718, 'Pet Shop Boys': 966, 'Jordin Sparks': 232, 'Shop Boyz / Lil Wayne / Chamillionaire': 198, 'Edwyn Collins': 2980, 'Selena Gomez & The Scene': 1870, 'En Vogue': 702, 'Children Of Bodom': 524, 'Sam The Sham & The Pharaohs': 261, 'Ten Years After': 2054, 'The Black Keys': 22184, 'Modern Lovers': 995, 'Corazones Estrangulados': 80, 'Keyshia Cole': 1408, 'The Gathering': 119, 'Lemon Jelly': 91, 'Extremoduro': 926, 'Duran Duran': 1419, 'Ludacris / Nate Dogg': 307, 'Fat Joe': 620, 'Mutiny On The Bounty': 398, 'Lil Jon / The East Side Boyz / DJ Flexx': 134, 'Scott Walker': 487, 'Nirvana': 9163, 'Jordin Sparks featuring Chris Brown': 769, 'Baby Boy Da Prince / P. Town Moe': 223, 'Marla Glen': 342, 'Neil Innes': 96, 'Nick Cave & Warren Ellis': 144, 'Postal Service': 5805, 'Fergie': 858, 'M.O.P.': 86, 'Darius Rucker': 2026, 'S Club 7': 624, 'I Wayne': 131, 'Roky Erickson': 487, 'The New York Dolls': 303, 'Sidney Bechet': 75, 'Snoop Dogg featuring Kid Cudi': 120, 'David Cook': 345, 'Anita Ward': 227, 'Tenth Avenue North': 1657, 'Portishead': 1879, 'Hot Hot Heat': 363, 'Chris Young': 241, 'Dean Evenson': 146, 'Modjo': 590, 'Superlitio': 151, 'Michael Bolton': 510, 'Semisonic': 298, 'F.I.R.': 394, 'Tevin Campbell': 407, 'Anya Marina': 270, 'Charttraxx Karaoke': 9956, 'Era': 514, 'Bauhaus': 89, 'Moguai': 147, 'León Gieco': 1099, 'The Offspring': 1510, 'The Hollies': 154, 'Joaquin Sabina Y Viceversa': 143, 'Rihanna': 11005, 'Aghast View': 156, \"Jack's Mannequin\": 976, 'Eric Hutchinson': 243, 'Christy Nockels': 252, 'Mates of State': 420, 'Kid Sister': 308, 'Duffy': 317, 'Catherine Zeta-Jones;Renée Zellweger;Taye Diggs': 113, 'Ronnie Foster': 44, 'Eve / Alicia Keys': 109, 'Siniestro Total': 211, 'The Roots': 556, 'Gramophonedzie': 238, 'La Roux': 6674, 'MARC COHN': 246, 'Ry Cooder': 1497, 'Julieta Venegas': 732, 'Godley & Creme': 376, 'Sublime': 94, 'Vilma Palma': 339, 'Ice Cube Featuring Mack 10 And Ms Toi': 193, 'Passion Pit': 3817, 'The All-American Rejects': 8897, 'Esperanza Spalding / Leo Genovese': 928, 'Barricada': 164, 'Sash!': 173, 'Damian Marley / Stephen Marley / Rovleta Fraser': 100, 'The Bravery': 298, 'Moose': 685, 'Carpark North': 361, 'Datarock': 782, 'Sondre Lerche': 588, '2Pac': 378, 'Tony Marshall': 133, 'Basshunter Feat. DJ Mental Theo\\x19s Bazzheadz': 796, 'David Byrne & Fatboy Slim feat. Roisin Murphy [accents]': 417, 'The Temper Trap': 3088, 'The Weather Girls': 370, 'Chase & Status': 407, 'N.E.R.D.': 3659, 'Kanye West / Nas / Really Doe': 226, 'Charlelie Couture': 527, 'Beach House': 1407, 'Counting Crows / Vanessa Carlton': 649, 'Brad Paisley;Dolly Parton': 241, 'Delirious?': 1953, 'The Velvet Underground / Nico': 2594, 'Shania Twain / Billy Currington': 232, 'Soul Asylum': 317, 'Timbaland / Keri Hilson / D.O.E.': 1599, 'Fuel': 231, 'Prince & The Revolution': 2155, 'DeBarge': 168, 'Shaggy': 715, 'Sam Sparro': 165, 'Lisa Loeb & Nine Stories': 957, 'Eric B. & Rakim': 1147, 'Nick Cave & The Bad Seeds': 1706, 'White Denim': 3760, 'Lionel Rogg': 1149, 'Calvin Harris': 700, 'Live': 1487, 'Eric Burdon': 128, 'Chris Brown': 1353, 'Supermode': 352, 'Zac Brown Band': 3976, 'Kid Cudi / Ratatat': 433, \"Destiny's Child featuring T.I. and Lil Wayne\": 377, 'Cornelis Vreeswijk': 202, 'Huntingtons': 704, 'Erin McCarley': 68, 'Frankie Avalon': 95, 'Gaither Vocal Band': 189, 'SUMO': 76, 'The Archies': 732, 'Leb I Sol': 224, 'Kudai': 357, 'The Roots / Common': 110, 'Dakota Oak': 1290, 'Viki Mosholiou': 567, 'Tonéx': 85, 'Hate Eternal': 268, 'Mediengruppe Telekommander': 304, 'The Airborne Toxic Event': 682, 'Lil Jon / The East Side Boyz / 8-Ball / MJG': 129, 'Alberto Plaza': 538, 'Choeur Arménien de Sofia': 165, 'Ugly Kid Joe': 712, 'Krystof': 115, 'Plain White T S': 159, 'Renegade Soundwave': 1125, 'Pink Martini': 261, 'Pete Townshend': 216, 'Three Drives': 5008, 'DJ Dizzy': 3440, 'Skream': 770, 'Shout Out Louds': 422, 'Slick Rick': 150, 'Imagination': 401, 'Agnes': 195, 'Snow Patrol': 7705, 'Righteous Brothers': 816, 'Andrea Bocelli / Marta Sanchez': 195, 'Tracy Chapman': 1539, 'Federico Aubele': 142, 'The Ruts': 5063, 'João Pedro Pais': 265, 'Neljä Ruusua': 216, 'Nek': 199, 'Gary Allan': 1892, 'Shaggy Featuring Rayvon': 218, 'Aneta Langerova': 38, 'Pereza': 362, 'Notorious B.I.G.': 419, 'Marvin Gaye': 1224, 'Alter Bridge': 620, 'Erik Satie': 400, 'Anthrax': 201, 'John Parr': 360, 'Flobots': 2266, 'Collie Buddz': 1088, 'Another Sunny Day': 2658, 'Roxy Music': 627, 'Sanalejo': 186, 'Céline Dion': 2165, 'PeterLicht': 1167, \"Jane's Addiction\": 1322, 'Chris Isaak': 534, 'Britt Nicole': 939, 'Something Corporate': 309, '1001': 68, \"Dexy's Midnight Runners\": 433, 'Beyoncé feat. Jay-Z': 1134, 'Bruce Springsteen & The E Street Band': 332, 'Traveling Wilburys': 1818, 'War': 288, 'Les Misérables - 10th Anniversary Concert': 689, 'Chico Trujillo': 193, 'Non': 316, 'Johnny Cash': 126, 'Sander Van Doorn': 83, 'Kyau & Albert': 76, 'Clint Mansell': 289, 'Heaven 17': 105, 'The String Cheese Incident': 2067, 'King Tubby': 287, 'Justin Timberlake duet with Beyonce': 555, 'Styx': 558, 'The Crystal Method': 787, 'Rusko': 468, 'Slow Club': 83, 'Jadakiss / Swizz Beatz / OJ Da Juiceman': 1189, 'Richard Marx & Donna Lewis': 238, 'iio': 443, 'Mike Jones': 321, 'Suzy Thompson': 683, 'Alphaville': 388}\n"
          ]
        }
      ],
      "source": [
        "x={}\n",
        "for i in artist:\n",
        "  if i not in x:\n",
        "    x[i]=sum(song_data[song_data['artist']==i]['listen_count'])\n",
        "print(x)"
      ]
    },
    {
      "cell_type": "code",
      "execution_count": null,
      "metadata": {
        "id": "ZsSm6Ima0TLg",
        "colab": {
          "base_uri": "https://localhost:8080/",
          "height": 35
        },
        "outputId": "34f92240-8ffd-4a40-b73f-1ac6031b0e16"
      },
      "outputs": [
        {
          "output_type": "execute_result",
          "data": {
            "application/vnd.google.colaboratory.intrinsic+json": {
              "type": "string"
            },
            "text/plain": [
              "'Kings Of Leon'"
            ]
          },
          "metadata": {},
          "execution_count": 28
        }
      ],
      "source": [
        "max(x,key=x.get)"
      ]
    },
    {
      "cell_type": "code",
      "source": [
        ""
      ],
      "metadata": {
        "id": "I124GwmXos5r"
      },
      "execution_count": null,
      "outputs": []
    }
  ],
  "metadata": {
    "colab": {
      "name": "song_Recomander.ipynb",
      "provenance": [],
      "authorship_tag": "ABX9TyPq+lXf7eVeugLo8St31Qfx"
    },
    "kernelspec": {
      "display_name": "Python 3",
      "name": "python3"
    },
    "language_info": {
      "name": "python"
    }
  },
  "nbformat": 4,
  "nbformat_minor": 0
}