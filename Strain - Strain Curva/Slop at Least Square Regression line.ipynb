{
 "cells": [
  {
   "cell_type": "code",
   "execution_count": 39,
   "id": "84802852",
   "metadata": {},
   "outputs": [],
   "source": [
    "# Import all the respective libraries\n",
    "import pandas as pd \n",
    "import numpy as np\n",
    "import seaborn as sns\n",
    "import matplotlib.pyplot as plt\n",
    "%matplotlib inline"
   ]
  },
  {
   "cell_type": "code",
   "execution_count": 40,
   "id": "0e93ce4e",
   "metadata": {
    "scrolled": false
   },
   "outputs": [
    {
     "data": {
      "text/html": [
       "<div>\n",
       "<style scoped>\n",
       "    .dataframe tbody tr th:only-of-type {\n",
       "        vertical-align: middle;\n",
       "    }\n",
       "\n",
       "    .dataframe tbody tr th {\n",
       "        vertical-align: top;\n",
       "    }\n",
       "\n",
       "    .dataframe thead th {\n",
       "        text-align: right;\n",
       "    }\n",
       "</style>\n",
       "<table border=\"1\" class=\"dataframe\">\n",
       "  <thead>\n",
       "    <tr style=\"text-align: right;\">\n",
       "      <th></th>\n",
       "      <th>S.No</th>\n",
       "      <th>Strain</th>\n",
       "      <th>Stress</th>\n",
       "    </tr>\n",
       "  </thead>\n",
       "  <tbody>\n",
       "    <tr>\n",
       "      <th>count</th>\n",
       "      <td>461.000000</td>\n",
       "      <td>461.000000</td>\n",
       "      <td>461.000000</td>\n",
       "    </tr>\n",
       "    <tr>\n",
       "      <th>mean</th>\n",
       "      <td>231.000000</td>\n",
       "      <td>0.046941</td>\n",
       "      <td>4.219143</td>\n",
       "    </tr>\n",
       "    <tr>\n",
       "      <th>std</th>\n",
       "      <td>133.223496</td>\n",
       "      <td>0.027078</td>\n",
       "      <td>1.401338</td>\n",
       "    </tr>\n",
       "    <tr>\n",
       "      <th>min</th>\n",
       "      <td>1.000000</td>\n",
       "      <td>0.000333</td>\n",
       "      <td>0.000000</td>\n",
       "    </tr>\n",
       "    <tr>\n",
       "      <th>25%</th>\n",
       "      <td>116.000000</td>\n",
       "      <td>0.023467</td>\n",
       "      <td>3.500000</td>\n",
       "    </tr>\n",
       "    <tr>\n",
       "      <th>50%</th>\n",
       "      <td>231.000000</td>\n",
       "      <td>0.047067</td>\n",
       "      <td>4.725000</td>\n",
       "    </tr>\n",
       "    <tr>\n",
       "      <th>75%</th>\n",
       "      <td>346.000000</td>\n",
       "      <td>0.070333</td>\n",
       "      <td>5.337500</td>\n",
       "    </tr>\n",
       "    <tr>\n",
       "      <th>max</th>\n",
       "      <td>461.000000</td>\n",
       "      <td>0.093467</td>\n",
       "      <td>5.787500</td>\n",
       "    </tr>\n",
       "  </tbody>\n",
       "</table>\n",
       "</div>"
      ],
      "text/plain": [
       "             S.No      Strain      Stress\n",
       "count  461.000000  461.000000  461.000000\n",
       "mean   231.000000    0.046941    4.219143\n",
       "std    133.223496    0.027078    1.401338\n",
       "min      1.000000    0.000333    0.000000\n",
       "25%    116.000000    0.023467    3.500000\n",
       "50%    231.000000    0.047067    4.725000\n",
       "75%    346.000000    0.070333    5.337500\n",
       "max    461.000000    0.093467    5.787500"
      ]
     },
     "execution_count": 40,
     "metadata": {},
     "output_type": "execute_result"
    }
   ],
   "source": [
    "# read excel file which contain all the respective data of stress and stress came from UTM machine\n",
    "# stress_strain_df: stress strain data frame\n",
    "Stress_strain_df = pd.read_excel('stress_strain_curva.xlsx')\n",
    "Stress_strain_df.describe().iloc[:,0:3]"
   ]
  },
  {
   "cell_type": "code",
   "execution_count": 41,
   "id": "3cc3492a",
   "metadata": {},
   "outputs": [
    {
     "data": {
      "text/html": [
       "<div>\n",
       "<style scoped>\n",
       "    .dataframe tbody tr th:only-of-type {\n",
       "        vertical-align: middle;\n",
       "    }\n",
       "\n",
       "    .dataframe tbody tr th {\n",
       "        vertical-align: top;\n",
       "    }\n",
       "\n",
       "    .dataframe thead th {\n",
       "        text-align: right;\n",
       "    }\n",
       "</style>\n",
       "<table border=\"1\" class=\"dataframe\">\n",
       "  <thead>\n",
       "    <tr style=\"text-align: right;\">\n",
       "      <th></th>\n",
       "      <th>Strain</th>\n",
       "      <th>Stress</th>\n",
       "    </tr>\n",
       "  </thead>\n",
       "  <tbody>\n",
       "    <tr>\n",
       "      <th>0</th>\n",
       "      <td>0.000333</td>\n",
       "      <td>0.00</td>\n",
       "    </tr>\n",
       "    <tr>\n",
       "      <th>1</th>\n",
       "      <td>0.000333</td>\n",
       "      <td>0.00</td>\n",
       "    </tr>\n",
       "    <tr>\n",
       "      <th>2</th>\n",
       "      <td>0.000667</td>\n",
       "      <td>0.15</td>\n",
       "    </tr>\n",
       "    <tr>\n",
       "      <th>3</th>\n",
       "      <td>0.000667</td>\n",
       "      <td>0.15</td>\n",
       "    </tr>\n",
       "    <tr>\n",
       "      <th>4</th>\n",
       "      <td>0.001000</td>\n",
       "      <td>0.15</td>\n",
       "    </tr>\n",
       "  </tbody>\n",
       "</table>\n",
       "</div>"
      ],
      "text/plain": [
       "     Strain  Stress\n",
       "0  0.000333    0.00\n",
       "1  0.000333    0.00\n",
       "2  0.000667    0.15\n",
       "3  0.000667    0.15\n",
       "4  0.001000    0.15"
      ]
     },
     "execution_count": 41,
     "metadata": {},
     "output_type": "execute_result"
    }
   ],
   "source": [
    "# Selecting the data without including NULL values\n",
    "Stress_strain_df = Stress_strain_df.iloc[:,1:3]\n",
    "Stress_strain_df.head(5)"
   ]
  },
  {
   "cell_type": "code",
   "execution_count": 42,
   "id": "d006c3ed",
   "metadata": {},
   "outputs": [
    {
     "name": "stdout",
     "output_type": "stream",
     "text": [
      "Strength of Data: 461\n"
     ]
    }
   ],
   "source": [
    "# How much strength of data is present into the dataframe\n",
    "max_limit = len(Stress_strain_df['Strain'])\n",
    "print(f\"Strength of Data: {max_limit}\")\n",
    "\n",
    "# Creating a two empty list for developing a model out of it\n",
    "a,b=[],[] # a: Slope and b: Relative slope of two consecutive points\n",
    "\n",
    "# EX: np.arange(1,5,1) which means that [1,2,3,4,5]\n",
    "q=np.arange(1,max_limit,1)\n",
    "for i in range(len(q)):\n",
    "    x=Stress_strain_df[['Strain']][:q[i]]\n",
    "    y=Stress_strain_df[['Stress']][:q[i]]\n",
    "    # Evaluate the output from the model for each iterations\n",
    "    from sklearn.linear_model import LinearRegression\n",
    "    lr_model = LinearRegression()\n",
    "    lr_model.fit(x,y)\n",
    "    a.append(lr_model.coef_)\n",
    "    if len(a)!=0:\n",
    "        b.append(a[i]-a[i-1])\n",
    "    y_pred = []\n",
    "    for j in x.values.tolist():\n",
    "        y_pred.append(lr_model.predict([j])[0][0])"
   ]
  },
  {
   "cell_type": "code",
   "execution_count": 43,
   "id": "7c646a85",
   "metadata": {},
   "outputs": [
    {
     "data": {
      "image/png": "[encoded data removed]",
      "text/plain": [
       "<Figure size 432x288 with 1 Axes>"
      ]
     },
     "metadata": {
      "needs_background": "light"
     },
     "output_type": "display_data"
    }
   ],
   "source": [
    "# creating a list for stess and strain curve\n",
    "stress = y.values.tolist()\n",
    "strain = x.values.tolist()\n",
    "# empty list creation for calculating consecutive diff of two neaarest points\n",
    "strain_diff, stress_diff, young_modulus = [], [], []\n",
    "# for starting\n",
    "strain_diff.append(strain[0][0])\n",
    "stress_diff.append(stress[0][0])\n",
    "for i in range(len(stress)):\n",
    "    stress_diff.append(stress[i][0]-stress[0][0])\n",
    "    strain_diff.append(strain[i][0]-strain[0][0])\n",
    "    if strain_diff[i]!=0.0:\n",
    "        young_modulus.append(stress_diff[i]/strain_diff[i])\n",
    "\n",
    "young_modulus.append(young_modulus[-1])\n",
    "young_modulus.append(young_modulus[-1])\n",
    "\n",
    "c=[]\n",
    "for i in range(len(b)):\n",
    "    c.append(b[i][0][0])\n",
    "\n",
    "plt.plot(np.arange(0,len(young_modulus)),young_modulus,'y', label = 'young Modulus')\n",
    "plt.plot(np.arange(0,len(young_modulus)),c,'g', label = 'Relative slope (prev-curr)')\n",
    "plt.legend()\n",
    "plt.xlabel('samples')\n",
    "plt.ylabel('Variations')\n",
    "plt.savefig('young_modulus.png')"
   ]
  },
  {
   "cell_type": "code",
   "execution_count": 44,
   "id": "a4cf929a",
   "metadata": {
    "scrolled": false
   },
   "outputs": [
    {
     "data": {
      "image/png": "[encoded data removed]",
      "text/plain": [
       "<Figure size 576x432 with 1 Axes>"
      ]
     },
     "metadata": {
      "needs_background": "light"
     },
     "output_type": "display_data"
    }
   ],
   "source": [
    "# Range of the data in elastic region\n",
    "x=Stress_strain_df[['Strain']][:40]\n",
    "y=Stress_strain_df[['Stress']][:40]\n",
    "# Finding the slope of the curve by linear regression\n",
    "from sklearn.linear_model import LinearRegression\n",
    "lr_model = LinearRegression()\n",
    "lr_model.fit(x,y)\n",
    "\n",
    "y_pred = []\n",
    "for i in x.values.tolist():\n",
    "    y_pred.append(lr_model.predict([i])[0][0])\n",
    "\n",
    "# By Least Square Regression \n",
    "SSxx = np.square(x.values).sum() - (np.sum(x.values)*np.sum(x.values))/len(x.values)\n",
    "SSxy = np.multiply(x.values,y.values).sum() - (np.sum(x.values))*(np.sum(y.values))/len(x.values)\n",
    "y_mean = np.average(y.values)\n",
    "x_mean = np.average(x.values)\n",
    "beta_1 = SSxy/SSxx\n",
    "beta_0 = y_mean - beta_1*x_mean\n",
    "y_LSR = beta_1*(x) + beta_0\n",
    "\n",
    "# Plotting\n",
    "plt.figure(figsize=(8,6))\n",
    "plt.plot(x,y,'r',label = 'Actual');\n",
    "plt.plot(x,y_pred,'--b',label = 'Linear Regr');\n",
    "plt.plot(x,y_LSR,'g',label = 'Least Square Regr');\n",
    "plt.xlabel('Strain')\n",
    "plt.ylabel('Stress')\n",
    "plt.legend()\n",
    "plt.text(0.0045,1,f'LSR Slope: {int(beta_1)}',fontfamily='serif',fontweight = 'bold',fontsize = 'medium')\n",
    "plt.savefig('1.png')"
   ]
  },
  {
   "cell_type": "markdown",
   "id": "2ac33e93",
   "metadata": {},
   "source": [
    "- Here we saw that the slope getting from leaset square regression is the same as Linear regression "
   ]
  },
  {
   "cell_type": "code",
   "execution_count": null,
   "id": "0656e504",
   "metadata": {},
   "outputs": [],
   "source": []
  }
 ],
 "metadata": {
  "kernelspec": {
   "display_name": "Python 3 (ipykernel)",
   "language": "python",
   "name": "python3"
  },
  "language_info": {
   "codemirror_mode": {
    "name": "ipython",
    "version": 3
   },
   "file_extension": ".py",
   "mimetype": "text/x-python",
   "name": "python",
   "nbconvert_exporter": "python",
   "pygments_lexer": "ipython3",
   "version": "3.9.7"
  }
 },
 "nbformat": 4,
 "nbformat_minor": 5
}
