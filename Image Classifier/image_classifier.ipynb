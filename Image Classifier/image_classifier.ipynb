{
  "nbformat": 4,
  "nbformat_minor": 0,
  "metadata": {
    "kernelspec": {
      "name": "python3",
      "display_name": "Python 3"
    },
    "colab": {
      "name": "FND06-NB01.ipynb",
      "provenance": [],
      "collapsed_sections": []
    }
  },
  "cells": [
    {
      "cell_type": "code",
      "metadata": {
        "id": "29U6XItYbCVY"
      },
      "source": [
        "!pip install turicreate"
      ],
      "execution_count": null,
      "outputs": []
    },
    {
      "cell_type": "code",
      "metadata": {
        "id": "cT9_2G-GbDXI"
      },
      "source": [
        "from google.colab import drive\n",
        "drive.mount('/content/gdrive')"
      ],
      "execution_count": null,
      "outputs": []
    },
    {
      "cell_type": "markdown",
      "metadata": {
        "id": "pgQNEgSUa_2p"
      },
      "source": [
        "# Using deep features to train an image classifier"
      ]
    },
    {
      "cell_type": "code",
      "metadata": {
        "id": "dkKGOKyta_2q"
      },
      "source": [
        "import turicreate"
      ],
      "execution_count": null,
      "outputs": []
    },
    {
      "cell_type": "markdown",
      "metadata": {
        "id": "5mMOXj9Wa_2w"
      },
      "source": [
        "# Load some data"
      ]
    },
    {
      "cell_type": "code",
      "metadata": {
        "id": "mPitycx1a_2x"
      },
      "source": [
        "image_train = turicreate.SFrame('/content/gdrive/My Drive/Turicreate/Week 6/image_train_data/')\n",
        "image_test = turicreate.SFrame('/content/gdrive/My Drive/Turicreate/Week 6/image_test_data/')"
      ],
      "execution_count": null,
      "outputs": []
    },
    {
      "cell_type": "markdown",
      "metadata": {
        "id": "hZtzJRcea_22"
      },
      "source": [
        "# Explore this image data"
      ]
    },
    {
      "cell_type": "code",
      "metadata": {
        "id": "0c3QCUzca_23"
      },
      "source": [
        "image_train['image'].explore()"
      ],
      "execution_count": null,
      "outputs": []
    },
    {
      "cell_type": "markdown",
      "metadata": {
        "id": "sjPuXFWJa_26"
      },
      "source": [
        "# Train an image classifier on raw image pixels"
      ]
    },
    {
      "cell_type": "code",
      "metadata": {
        "id": "9aE3i4t0a_27"
      },
      "source": [
        "raw_pixel_model = turicreate.logistic_classifier.create(image_train,\n",
        "                                                       target = 'label',\n",
        "                                                       features = ['image_array'])"
      ],
      "execution_count": null,
      "outputs": []
    },
    {
      "cell_type": "markdown",
      "metadata": {
        "id": "qVTm6lHma_2_"
      },
      "source": [
        "# Make predictions using simple raw pixel model"
      ]
    },
    {
      "cell_type": "code",
      "metadata": {
        "id": "Odh9MVN3a_2_"
      },
      "source": [
        "image_test[0:3]['image'].explore()"
      ],
      "execution_count": null,
      "outputs": []
    },
    {
      "cell_type": "code",
      "metadata": {
        "id": "4XRVA1qka_3C"
      },
      "source": [
        "image_test[0:3]['label']"
      ],
      "execution_count": null,
      "outputs": []
    },
    {
      "cell_type": "code",
      "metadata": {
        "id": "clIDVKdLa_3H"
      },
      "source": [
        "raw_pixel_model.predict(image_test[0:3])"
      ],
      "execution_count": null,
      "outputs": []
    },
    {
      "cell_type": "markdown",
      "metadata": {
        "id": "nFHBZFM5a_3M"
      },
      "source": [
        "# Evaluate the raw pixel model on the test data"
      ]
    },
    {
      "cell_type": "code",
      "metadata": {
        "id": "AjHpPhhqa_3N"
      },
      "source": [
        "raw_pixel_model.evaluate(image_test)"
      ],
      "execution_count": null,
      "outputs": []
    },
    {
      "cell_type": "markdown",
      "metadata": {
        "id": "EWFVdd00a_3Q"
      },
      "source": [
        "# Train image classifier using deep features"
      ]
    },
    {
      "cell_type": "code",
      "metadata": {
        "id": "ErjBI_9Va_3Q"
      },
      "source": [
        "len(image_train)"
      ],
      "execution_count": null,
      "outputs": []
    },
    {
      "cell_type": "code",
      "metadata": {
        "id": "yOS8FVlBa_3T"
      },
      "source": [
        "#deep_learning_model = turicreate.load_model('imagenet_model_iter45')\n",
        "#image_train['deep_features'] = deep_learning_model.extract_features(image_train)"
      ],
      "execution_count": null,
      "outputs": []
    },
    {
      "cell_type": "code",
      "metadata": {
        "id": "K4F-ZBpja_3Z"
      },
      "source": [
        "image_train"
      ],
      "execution_count": null,
      "outputs": []
    },
    {
      "cell_type": "markdown",
      "metadata": {
        "id": "QIVEXRd3a_3e"
      },
      "source": [
        "# Given the deep features, train a logistic classifier"
      ]
    },
    {
      "cell_type": "code",
      "metadata": {
        "scrolled": true,
        "id": "EnfnmxKpa_3f"
      },
      "source": [
        "deep_features_model = turicreate.logistic_classifier.create(image_train,\n",
        "                                                           target='label',\n",
        "                                                           features = ['deep_features'])"
      ],
      "execution_count": null,
      "outputs": []
    },
    {
      "cell_type": "markdown",
      "metadata": {
        "id": "ZT-Ds3qua_3j"
      },
      "source": [
        "# Apply the deep features classifier on the first few images"
      ]
    },
    {
      "cell_type": "code",
      "metadata": {
        "id": "Hw-8D-Hna_3k"
      },
      "source": [
        "image_test[0:3]['image'].explore()"
      ],
      "execution_count": null,
      "outputs": []
    },
    {
      "cell_type": "code",
      "metadata": {
        "id": "I-46fa-Ta_3n"
      },
      "source": [
        "deep_features_model.predict(image_test[0:3])"
      ],
      "execution_count": null,
      "outputs": []
    },
    {
      "cell_type": "markdown",
      "metadata": {
        "id": "9QHYYLpya_3s"
      },
      "source": [
        "# Quantitatively evaluate deep features classifier on test data"
      ]
    },
    {
      "cell_type": "code",
      "metadata": {
        "id": "WEGRO7TDa_3s"
      },
      "source": [
        "deep_features_model.evaluate(image_test)"
      ],
      "execution_count": null,
      "outputs": []
    },
    {
      "cell_type": "code",
      "metadata": {
        "id": "nF7zBiG2a_3x"
      },
      "source": [
        ""
      ],
      "execution_count": null,
      "outputs": []
    }
  ]
}